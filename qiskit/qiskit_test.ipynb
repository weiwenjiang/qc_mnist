{
 "cells": [
  {
   "cell_type": "code",
   "execution_count": 1,
   "metadata": {
    "collapsed": true,
    "pycharm": {
     "is_executing": false
    }
   },
   "outputs": [
    {
     "name": "stderr",
     "text": [
      "/home/weiwen/.local/lib/python3.6/site-packages/qiskit/providers/ibmq/credentials/configrc.py:130: UserWarning: Credentials already present. Set overwrite=True to overwrite.\n",
      "  warnings.warn('Credentials already present. '\n"
     ],
     "output_type": "stream"
    },
    {
     "traceback": [
      "\u001b[0;31m---------------------------------------------------------------------------\u001b[0m",
      "\u001b[0;31mRequestsApiError\u001b[0m                          Traceback (most recent call last)",
      "\u001b[0;32m<ipython-input-1-0f8f758a5d4e>\u001b[0m in \u001b[0;36m<module>\u001b[0;34m\u001b[0m\n\u001b[1;32m     15\u001b[0m \u001b[0;31m# IBMQ.delete_accounts()\u001b[0m\u001b[0;34m\u001b[0m\u001b[0;34m\u001b[0m\u001b[0;34m\u001b[0m\u001b[0m\n\u001b[1;32m     16\u001b[0m \u001b[0mIBMQ\u001b[0m\u001b[0;34m.\u001b[0m\u001b[0msave_account\u001b[0m\u001b[0;34m(\u001b[0m\u001b[0;34m'62d0e14364f490e45b5b5e0f6eebdbc083270ffffb660c7054219b15c7ce99ab4aa3b321309c0a9d0c3fc20086baece1376297dcdb67c7b715f9de1e4fa79efb'\u001b[0m\u001b[0;34m)\u001b[0m\u001b[0;34m\u001b[0m\u001b[0;34m\u001b[0m\u001b[0m\n\u001b[0;32m---> 17\u001b[0;31m \u001b[0mIBMQ\u001b[0m\u001b[0;34m.\u001b[0m\u001b[0mload_account\u001b[0m\u001b[0;34m(\u001b[0m\u001b[0;34m)\u001b[0m\u001b[0;34m\u001b[0m\u001b[0;34m\u001b[0m\u001b[0m\n\u001b[0m\u001b[1;32m     18\u001b[0m \u001b[0;34m\u001b[0m\u001b[0m\n\u001b[1;32m     19\u001b[0m \u001b[0;34m\u001b[0m\u001b[0m\n",
      "\u001b[0;32m~/.local/lib/python3.6/site-packages/qiskit/providers/ibmq/ibmqfactory.py\u001b[0m in \u001b[0;36mload_account\u001b[0;34m(self)\u001b[0m\n\u001b[1;32m    165\u001b[0m         \u001b[0;31m# Explicitly check via an API call, to allow environment auth URLs.\u001b[0m\u001b[0;34m\u001b[0m\u001b[0;34m\u001b[0m\u001b[0;34m\u001b[0m\u001b[0m\n\u001b[1;32m    166\u001b[0m         \u001b[0;31m# contain API 2 URL (but not auth) slipping through.\u001b[0m\u001b[0;34m\u001b[0m\u001b[0;34m\u001b[0m\u001b[0;34m\u001b[0m\u001b[0m\n\u001b[0;32m--> 167\u001b[0;31m         \u001b[0mversion_info\u001b[0m \u001b[0;34m=\u001b[0m \u001b[0mself\u001b[0m\u001b[0;34m.\u001b[0m\u001b[0m_check_api_version\u001b[0m\u001b[0;34m(\u001b[0m\u001b[0mcredentials\u001b[0m\u001b[0;34m)\u001b[0m\u001b[0;34m\u001b[0m\u001b[0;34m\u001b[0m\u001b[0m\n\u001b[0m\u001b[1;32m    168\u001b[0m \u001b[0;34m\u001b[0m\u001b[0m\n\u001b[1;32m    169\u001b[0m         \u001b[0;31m# For API 1, delegate onto the IBMQProvider.\u001b[0m\u001b[0;34m\u001b[0m\u001b[0;34m\u001b[0m\u001b[0;34m\u001b[0m\u001b[0m\n",
      "\u001b[0;32m~/.local/lib/python3.6/site-packages/qiskit/providers/ibmq/ibmqfactory.py\u001b[0m in \u001b[0;36m_check_api_version\u001b[0;34m(credentials)\u001b[0m\n\u001b[1;32m    368\u001b[0m         version_finder = VersionClient(credentials.base_url,\n\u001b[1;32m    369\u001b[0m                                        **credentials.connection_parameters())\n\u001b[0;32m--> 370\u001b[0;31m         \u001b[0;32mreturn\u001b[0m \u001b[0mversion_finder\u001b[0m\u001b[0;34m.\u001b[0m\u001b[0mversion\u001b[0m\u001b[0;34m(\u001b[0m\u001b[0;34m)\u001b[0m\u001b[0;34m\u001b[0m\u001b[0;34m\u001b[0m\u001b[0m\n\u001b[0m\u001b[1;32m    371\u001b[0m \u001b[0;34m\u001b[0m\u001b[0m\n\u001b[1;32m    372\u001b[0m     \u001b[0;32mdef\u001b[0m \u001b[0m_initialize_providers\u001b[0m\u001b[0;34m(\u001b[0m\u001b[0mself\u001b[0m\u001b[0;34m,\u001b[0m \u001b[0mcredentials\u001b[0m\u001b[0;34m)\u001b[0m\u001b[0;34m:\u001b[0m\u001b[0;34m\u001b[0m\u001b[0;34m\u001b[0m\u001b[0m\n",
      "\u001b[0;32m~/.local/lib/python3.6/site-packages/qiskit/providers/ibmq/api_v2/clients/version.py\u001b[0m in \u001b[0;36mversion\u001b[0;34m(self)\u001b[0m\n\u001b[1;32m     44\u001b[0m                 \u001b[0;34m*\u001b[0m\u001b[0;31m \u001b[0m\u001b[0;31m`\u001b[0m\u001b[0mapi\u001b[0m\u001b[0;34m-\u001b[0m\u001b[0;34m*\u001b[0m\u001b[0;31m`\u001b[0m \u001b[0;34m(\u001b[0m\u001b[0mstr\u001b[0m\u001b[0;34m)\u001b[0m\u001b[0;34m:\u001b[0m \u001b[0mthe\u001b[0m \u001b[0mversions\u001b[0m \u001b[0mof\u001b[0m \u001b[0meach\u001b[0m \u001b[0mindividual\u001b[0m \u001b[0mAPI\u001b[0m \u001b[0mcomponent\u001b[0m\u001b[0;34m\u001b[0m\u001b[0;34m\u001b[0m\u001b[0m\n\u001b[1;32m     45\u001b[0m         \"\"\"\n\u001b[0;32m---> 46\u001b[0;31m         \u001b[0;32mreturn\u001b[0m \u001b[0mself\u001b[0m\u001b[0;34m.\u001b[0m\u001b[0mclient_version_finder\u001b[0m\u001b[0;34m.\u001b[0m\u001b[0mversion\u001b[0m\u001b[0;34m(\u001b[0m\u001b[0;34m)\u001b[0m\u001b[0;34m\u001b[0m\u001b[0;34m\u001b[0m\u001b[0m\n\u001b[0m",
      "\u001b[0;32m~/.local/lib/python3.6/site-packages/qiskit/providers/ibmq/api_v2/rest/version_finder.py\u001b[0m in \u001b[0;36mversion\u001b[0;34m(self)\u001b[0m\n\u001b[1;32m     38\u001b[0m         \"\"\"\n\u001b[1;32m     39\u001b[0m         \u001b[0murl\u001b[0m \u001b[0;34m=\u001b[0m \u001b[0mself\u001b[0m\u001b[0;34m.\u001b[0m\u001b[0mget_url\u001b[0m\u001b[0;34m(\u001b[0m\u001b[0;34m'version'\u001b[0m\u001b[0;34m)\u001b[0m\u001b[0;34m\u001b[0m\u001b[0;34m\u001b[0m\u001b[0m\n\u001b[0;32m---> 40\u001b[0;31m         \u001b[0mresponse\u001b[0m \u001b[0;34m=\u001b[0m \u001b[0mself\u001b[0m\u001b[0;34m.\u001b[0m\u001b[0msession\u001b[0m\u001b[0;34m.\u001b[0m\u001b[0mget\u001b[0m\u001b[0;34m(\u001b[0m\u001b[0murl\u001b[0m\u001b[0;34m)\u001b[0m\u001b[0;34m\u001b[0m\u001b[0;34m\u001b[0m\u001b[0m\n\u001b[0m\u001b[1;32m     41\u001b[0m \u001b[0;34m\u001b[0m\u001b[0m\n\u001b[1;32m     42\u001b[0m         \u001b[0;32mtry\u001b[0m\u001b[0;34m:\u001b[0m\u001b[0;34m\u001b[0m\u001b[0;34m\u001b[0m\u001b[0m\n",
      "\u001b[0;32m~/.local/lib/python3.6/site-packages/requests/sessions.py\u001b[0m in \u001b[0;36mget\u001b[0;34m(self, url, **kwargs)\u001b[0m\n\u001b[1;32m    544\u001b[0m \u001b[0;34m\u001b[0m\u001b[0m\n\u001b[1;32m    545\u001b[0m         \u001b[0mkwargs\u001b[0m\u001b[0;34m.\u001b[0m\u001b[0msetdefault\u001b[0m\u001b[0;34m(\u001b[0m\u001b[0;34m'allow_redirects'\u001b[0m\u001b[0;34m,\u001b[0m \u001b[0;32mTrue\u001b[0m\u001b[0;34m)\u001b[0m\u001b[0;34m\u001b[0m\u001b[0;34m\u001b[0m\u001b[0m\n\u001b[0;32m--> 546\u001b[0;31m         \u001b[0;32mreturn\u001b[0m \u001b[0mself\u001b[0m\u001b[0;34m.\u001b[0m\u001b[0mrequest\u001b[0m\u001b[0;34m(\u001b[0m\u001b[0;34m'GET'\u001b[0m\u001b[0;34m,\u001b[0m \u001b[0murl\u001b[0m\u001b[0;34m,\u001b[0m \u001b[0;34m**\u001b[0m\u001b[0mkwargs\u001b[0m\u001b[0;34m)\u001b[0m\u001b[0;34m\u001b[0m\u001b[0;34m\u001b[0m\u001b[0m\n\u001b[0m\u001b[1;32m    547\u001b[0m \u001b[0;34m\u001b[0m\u001b[0m\n\u001b[1;32m    548\u001b[0m     \u001b[0;32mdef\u001b[0m \u001b[0moptions\u001b[0m\u001b[0;34m(\u001b[0m\u001b[0mself\u001b[0m\u001b[0;34m,\u001b[0m \u001b[0murl\u001b[0m\u001b[0;34m,\u001b[0m \u001b[0;34m**\u001b[0m\u001b[0mkwargs\u001b[0m\u001b[0;34m)\u001b[0m\u001b[0;34m:\u001b[0m\u001b[0;34m\u001b[0m\u001b[0;34m\u001b[0m\u001b[0m\n",
      "\u001b[0;32m~/.local/lib/python3.6/site-packages/qiskit/providers/ibmq/api_v2/session.py\u001b[0m in \u001b[0;36mrequest\u001b[0;34m(self, method, url, bare, **kwargs)\u001b[0m\n\u001b[1;32m    164\u001b[0m                 \u001b[0mmessage\u001b[0m \u001b[0;34m=\u001b[0m \u001b[0mmessage\u001b[0m\u001b[0;34m.\u001b[0m\u001b[0mreplace\u001b[0m\u001b[0;34m(\u001b[0m\u001b[0mself\u001b[0m\u001b[0;34m.\u001b[0m\u001b[0maccess_token\u001b[0m\u001b[0;34m,\u001b[0m \u001b[0;34m'...'\u001b[0m\u001b[0;34m)\u001b[0m\u001b[0;34m\u001b[0m\u001b[0;34m\u001b[0m\u001b[0m\n\u001b[1;32m    165\u001b[0m \u001b[0;34m\u001b[0m\u001b[0m\n\u001b[0;32m--> 166\u001b[0;31m             \u001b[0;32mraise\u001b[0m \u001b[0mRequestsApiError\u001b[0m\u001b[0;34m(\u001b[0m\u001b[0mex\u001b[0m\u001b[0;34m,\u001b[0m \u001b[0mmessage\u001b[0m\u001b[0;34m)\u001b[0m \u001b[0;32mfrom\u001b[0m \u001b[0;32mNone\u001b[0m\u001b[0;34m\u001b[0m\u001b[0;34m\u001b[0m\u001b[0m\n\u001b[0m\u001b[1;32m    167\u001b[0m \u001b[0;34m\u001b[0m\u001b[0m\n\u001b[1;32m    168\u001b[0m         \u001b[0;32mreturn\u001b[0m \u001b[0mresponse\u001b[0m\u001b[0;34m\u001b[0m\u001b[0;34m\u001b[0m\u001b[0m\n",
      "\u001b[0;31mRequestsApiError\u001b[0m: HTTPSConnectionPool(host='auth.quantum-computing.ibm.com', port=443): Max retries exceeded with url: /api/version (Caused by NewConnectionError('<urllib3.connection.VerifiedHTTPSConnection object at 0x7fc39b1b7780>: Failed to establish a new connection: [Errno -2] Name or service not known',))"
     ],
     "ename": "RequestsApiError",
     "evalue": "HTTPSConnectionPool(host='auth.quantum-computing.ibm.com', port=443): Max retries exceeded with url: /api/version (Caused by NewConnectionError('<urllib3.connection.VerifiedHTTPSConnection object at 0x7fc39b1b7780>: Failed to establish a new connection: [Errno -2] Name or service not known',))",
     "output_type": "error"
    }
   ],
   "source": [
    "from qiskit_library import *\n",
    "import torch\n",
    "import numpy as np\n",
    "from random import randrange\n",
    "import qiskit as qk\n",
    "from qiskit import Aer\n",
    "from qiskit import execute\n",
    "import math\n",
    "import sys\n",
    "import random\n",
    "import time\n",
    "from tqdm import tqdm\n",
    "\n",
    "from qiskit import IBMQ\n",
    "# IBMQ.delete_accounts()\n",
    "IBMQ.save_account('62d0e14364f490e45b5b5e0f6eebdbc083270ffffb660c7054219b15c7ce99ab4aa3b321309c0a9d0c3fc20086baece1376297dcdb67c7b715f9de1e4fa79efb')\n",
    "IBMQ.load_account()\n",
    "\n",
    "\n",
    "\n",
    "\n",
    "def analyze(counts):\n",
    "    mycount = {}\n",
    "    for i in range(num_c_reg):\n",
    "        mycount[i] = 0\n",
    "    for k,v in counts.items():\n",
    "        bits = len(k) \n",
    "        for i in range(bits):            \n",
    "            if k[bits-1-i] == \"1\":\n",
    "                if i in mycount.keys():\n",
    "                    mycount[i] += v\n",
    "                else:\n",
    "                    mycount[i] = v\n",
    "    return mycount,bits\n",
    "\n",
    "\n",
    "\n",
    "def fire_ibmq(circuit,shots,iter,Simulation = False, printable=True,backend_name='ibmq_essex'):\n",
    "    if printable:\n",
    "        print(circuit)\n",
    "    \n",
    "    count_set = []\n",
    "    start = time.time()\n",
    "    for it in range(iter):\n",
    "        if not Simulation:\n",
    "            provider = IBMQ.get_provider('ibm-q-academic')\n",
    "            # ibm-q-academic backends: \n",
    "            #  5 qubits: ibmq_valencia\n",
    "            # 20 qubits: ibmq_poughkeepsie, ibmq_johannesburg,ibmq_boeblingen, ibmq_20_tokyo\n",
    "            # 53 qubits: ibmq_rochester\n",
    "            \n",
    "            # To get a specific qubit backend: \n",
    "            backend = provider.get_backend(backend_name)\n",
    "        else:\n",
    "            backend = Aer.get_backend('qasm_simulator')\n",
    "        job_ibm_q = execute(circuit, backend, shots=shots)\n",
    "        job_monitor(job_ibm_q)\n",
    "        result_ibm_q = job_ibm_q.result()\n",
    "        counts = result_ibm_q.get_counts()\n",
    "        count_set.append(counts)\n",
    "    end = time.time()\n",
    "    print(\"Simulation time:\", end - start)\n",
    "\n",
    "    return count_set\n",
    "\n",
    "\n",
    "def do_slp_via_th(input_ori,w_ori):\n",
    "    p = input_ori\n",
    "    d = 4*p*(1-p)\n",
    "    e = (2*p-1)\n",
    "    # e_sq = torch.tensor(1)\n",
    "    w = w_ori\n",
    "    \n",
    "    sum_of_sq = (d+e.pow(2)).sum(-1)\n",
    "    sum_of_sq = sum_of_sq.unsqueeze(-1)        \n",
    "    sum_of_sq = sum_of_sq.expand(p.shape[0], w.shape[0])\n",
    "            \n",
    "    diag_p = torch.diag_embed(p)        \n",
    "    \n",
    "    p_w = torch.matmul(w,diag_p)\n",
    "    \n",
    "    z_p_w = torch.zeros_like(p_w)        \n",
    "    shft_p_w = torch.cat((p_w, z_p_w), -1)\n",
    "    \n",
    "    sum_of_cross = torch.zeros_like(p_w)\n",
    "    # print(p,p.shape)\n",
    "    length = p.shape[1]    \n",
    "    \n",
    "    for shft in range(1,length):    \n",
    "        sum_of_cross += shft_p_w[:,:,0:length]*shft_p_w[:,:,shft:length+shft]\n",
    "\n",
    "    sum_of_cross = sum_of_cross.sum(-1)\n",
    "            \n",
    "    return (sum_of_sq+2*sum_of_cross)/(length**2) \n",
    "\n"
   ]
  },
  {
   "cell_type": "code",
   "execution_count": 95,
   "outputs": [
    {
     "name": "stdout",
     "text": [
      "               ┌────────────┐         ░               ░            ░       \n",
      "      io_0: |0>┤ Ry(0.6435) ├──■──────░───────────────░────────────░───────\n",
      "               ├────────────┤┌─┴─┐    ░               ░            ░       \n",
      "      io_1: |0>┤ Ry(2.4981) ├┤ X ├─■──░───────■───────░────────────░───────\n",
      "               └───┬───┬────┘└───┘ │  ░       │       ░ ┌───┐┌───┐ ░ ┌─┐   \n",
      "neural_0_0: |0>────┤ H ├───────────■──░───────┼───────░─┤ H ├┤ X ├─░─┤M├───\n",
      "                   └───┘              ░ ┌───┐ │ ┌───┐ ░ ├───┤├───┤ ░ └╥┘┌─┐\n",
      "neural_1_0: |0>───────────────────────░─┤ H ├─■─┤ Z ├─░─┤ H ├┤ X ├─░──╫─┤M├\n",
      "                                      ░ └───┘   └───┘ ░ └───┘└───┘ ░  ║ └╥┘\n",
      "      reg_0: 0 ═══════════════════════════════════════════════════════╩══╬═\n",
      "                                                                         ║ \n",
      "      reg_1: 0 ══════════════════════════════════════════════════════════╩═\n",
      "                                                                           \n"
     ],
     "output_type": "stream"
    }
   ],
   "source": [
    "# 2-1 ENCODER + Weights\n",
    "input_ori = [0.9,0.1]\n",
    "input = torch.tensor(input_ori)*2-1\n",
    "w1    = [ 1.0, 1.0]\n",
    "w5    = [ 1.0, 0.0]\n",
    "\n",
    "q_io = qk.QuantumRegister(2,\"io\")\n",
    "q_n0 = qk.QuantumRegister(1,\"neural_0\")\n",
    "q_n1 = qk.QuantumRegister(1,\"neural_1\")\n",
    "c = qk.ClassicalRegister(2,\"reg\")\n",
    "\n",
    "circuit = qk.QuantumCircuit(q_io, q_n0, q_n1, c)\n",
    "\n",
    "\n",
    "SLP_2_encoding(circuit,q_io,q_n0,input)\n",
    "SLP_2_Uw(circuit,q_n0,w1)\n",
    "# circuit.barrier()\n",
    "\n",
    "circuit.h(q_n1)\n",
    "circuit.cz(q_io[1],q_n1)\n",
    "SLP_2_Uw(circuit,q_n1,w5)\n",
    "circuit.barrier()\n",
    "\n",
    "circuit.h(q_n0)\n",
    "circuit.h(q_n1)\n",
    "circuit.x(q_n0)\n",
    "circuit.x(q_n1)\n",
    "\n",
    "circuit.barrier()\n",
    "circuit.measure(q_n0,c[0])\n",
    "circuit.measure(q_n1,c[1])\n",
    "print(circuit)\n",
    "\n"
   ],
   "metadata": {
    "collapsed": false,
    "pycharm": {
     "name": "#%%\n",
     "is_executing": false
    }
   }
  },
  {
   "cell_type": "code",
   "execution_count": null,
   "outputs": [],
   "source": [
    "# 2-1 ENCODER + Weights + 2 layers\n",
    "input_ori = [0.1,0.9]\n",
    "input = torch.tensor(input_ori)*2-1\n",
    "w1    = [ 1.0, 1.0]\n",
    "w5    = [ 1.0, 0.0]\n",
    "\n",
    "q_io = qk.QuantumRegister(2,\"io\")\n",
    "q_n0 = qk.QuantumRegister(1,\"neural_0\")\n",
    "q_n1 = qk.QuantumRegister(1,\"neural_1\")\n",
    "q_n2 = qk.QuantumRegister(1,\"neural_2\")\n",
    "c = qk.ClassicalRegister(1,\"reg\")\n",
    "\n",
    "circuit = qk.QuantumCircuit(q_io, q_n0, q_n1, q_n2, c)\n",
    "\n",
    "\n",
    "SLP_2_encoding(circuit,q_io,q_n0,input)\n",
    "SLP_2_Uw(circuit,q_n0,w1)\n",
    "# circuit.barrier()\n",
    "\n",
    "circuit.h(q_n1)\n",
    "circuit.cz(q_io[1],q_n1)\n",
    "SLP_2_Uw(circuit,q_n1,w5)\n",
    "circuit.barrier()\n",
    "\n",
    "circuit.h(q_n0)\n",
    "circuit.h(q_n1)\n",
    "circuit.x(q_n0)\n",
    "circuit.x(q_n1)\n",
    "circuit.barrier()\n",
    "\n",
    "SLP_2_encoding(circuit,[q_n0,q_n1],q_n2)\n",
    "SLP_2_Uw(circuit,q_n2,w5)\n",
    "\n",
    "circuit.h(q_n2)\n",
    "circuit.x(q_n2)\n",
    "\n",
    "circuit.measure(q_n2,c)\n",
    "# circuit.measure(q_n1,c[1])\n",
    "print(circuit)\n",
    "\n"
   ],
   "metadata": {
    "collapsed": false,
    "pycharm": {
     "name": "#%%\n",
     "is_executing": false
    }
   }
  },
  {
   "cell_type": "code",
   "execution_count": null,
   "outputs": [],
   "source": [
    "input_ori = [0.319,0.869,0.061,0.995]\n",
    "input = 1-torch.tensor(input_ori)*2\n",
    "w5    = [ 1.0, 1.0, 1.0, 1.0]\n",
    "\n",
    "q_io = qk.QuantumRegister(4,\"io\")\n",
    "q_en = qk.QuantumRegister(2,\"encoded\")\n",
    "q_aux = qk.QuantumRegister(1,\"aux\")\n",
    "q_out = qk.QuantumRegister(1,\"out\")\n",
    "c = qk.ClassicalRegister(1,\"reg\")\n",
    "\n",
    "circuit = qk.QuantumCircuit(q_io, q_en, q_aux, q_out, c)\n",
    "\n",
    "SLP_4_encoding(circuit,q_io,q_en,input,q_aux)\n",
    "# reset_qbits(circuit,q_io)\n",
    "SLP_4_Uw(circuit,q_en,w5,q_aux)\n",
    "circuit.barrier()\n",
    "circuit.h(q_en)\n",
    "circuit.x(q_en)\n",
    "\n",
    "circuit.ccx(q_en[0],q_en[1],q_out)\n",
    "circuit.measure(q_out,c)\n",
    "print(circuit)\n",
    "\n",
    "\n",
    "# \n",
    "# print(\"=\"*50)\n",
    "# print(\"Start theoretic:\")\n",
    "# start = time.time() \n",
    "# print(do_slp_via_th(t_input,t_w1))\n"
   ],
   "metadata": {
    "collapsed": false,
    "pycharm": {
     "name": "#%%\n",
     "is_executing": false
    }
   }
  },
  {
   "cell_type": "code",
   "execution_count": null,
   "outputs": [],
   "source": [
    "qc_shots = 1024\n",
    "num_c_reg = 4\n",
    "\n",
    "t_inter = do_slp_via_th(t_input,t_w1)*2-1 \n",
    "t_w2 = torch.tensor([w5])*2-1\n",
    "t_output = do_slp_via_th(t_inter,t_w2) \n",
    "print(t_output)\n",
    "end = time.time()\n",
    "qc_time = end - start\n",
    "print(\"Theoretic elasped time:\",qc_time)"
   ],
   "metadata": {
    "collapsed": false,
    "pycharm": {
     "name": "#%%\n",
     "is_executing": false
    }
   }
  },
  {
   "cell_type": "code",
   "execution_count": null,
   "outputs": [],
   "source": [
    "print(\"=\"*50)\n",
    "print(\"Start simulation:\")\n",
    "start = time.time()        \n",
    "iters = 1\n",
    "counts = fire_ibmq(circuit,qc_shots,iters,True,False)\n",
    "end = time.time()\n",
    "qc_time = end - start\n",
    "\n",
    "(mycount,bits) = analyze(counts[0])\n",
    "for b in range(bits):\n",
    "    print (b,float(mycount[b])/qc_shots)\n",
    "    \n",
    "print(\"From QC:\",counts)\n",
    "print(\"Simulation elasped time:\",qc_time)\n"
   ],
   "metadata": {
    "collapsed": false,
    "pycharm": {
     "name": "#%%\n"
    }
   }
  },
  {
   "cell_type": "code",
   "execution_count": null,
   "outputs": [],
   "source": [
    "print(\"=\"*50)\n",
    "print(\"Start run:\")\n",
    "start = time.time()        \n",
    "iters = 1\n",
    "counts = fire_ibmq(circuit,qc_shots,iters,False,False,backend_name=\"ibmq_16_melbourne\")\n",
    "end = time.time()\n",
    "qc_time = end - start\n",
    "\n",
    "(mycount,bits) = analyze(counts[0])\n",
    "for b in range(bits):\n",
    "    print (b,float(mycount[b])/qc_shots)\n",
    "    \n",
    "print(\"From QC:\",counts)\n",
    "print(\"Simulation elasped time:\",qc_time)\n",
    "\n",
    "\n"
   ],
   "metadata": {
    "collapsed": false,
    "pycharm": {
     "name": "#%%\n",
     "is_executing": false
    }
   }
  },
  {
   "cell_type": "code",
   "execution_count": null,
   "outputs": [],
   "source": [
    "print(\"=\"*50)\n",
    "print(\"Start run:\")\n",
    "start = time.time()        \n",
    "iters = 1\n",
    "counts = fire_ibmq(circuit,qc_shots,iters,False,False,backend_name=\"ibmq_essex\")\n",
    "end = time.time()\n",
    "qc_time = end - start\n",
    "\n",
    "(mycount,bits) = analyze(counts[0])\n",
    "for b in range(bits):\n",
    "    print (b,float(mycount[b])/qc_shots)\n",
    "    \n",
    "print(\"From QC:\",counts)\n",
    "print(\"Simulation elasped time:\",qc_time)\n",
    "\n",
    "\n",
    "print(\"=\"*50)\n",
    "print(\"Start run:\")\n",
    "start = time.time()        \n",
    "iters = 1\n",
    "counts = fire_ibmq(circuit,qc_shots,iters,False,False,backend_name=\"ibmq_london\")\n",
    "end = time.time()\n",
    "qc_time = end - start\n",
    "\n",
    "(mycount,bits) = analyze(counts[0])\n",
    "for b in range(bits):\n",
    "    print (b,float(mycount[b])/qc_shots)\n",
    "\n",
    "print(\"From QC:\",counts)\n",
    "print(\"Simulation elasped time:\",qc_time)\n"
   ],
   "metadata": {
    "collapsed": false,
    "pycharm": {
     "name": "#%%\n",
     "is_executing": false
    }
   }
  },
  {
   "cell_type": "markdown",
   "source": [
    "|   Input   |    Quantum  |   Res  |  Time |\n",
    "|:---------:|:-----------:|:------:|:-----:|\n",
    "| [0.9,0.1] |  theoretic  | 18.00% | 1s    |\n",
    "| [0.9,0.1] |  simulation | 18.16% | 5s    |\n",
    "| [0.9,0.1] |    essex    | 21.88% | 105s  | \n",
    "| [0.9,0.1] |    london   | 19.92% | 92s   |\n",
    "|\n",
    "| [0.8,0.2] |  theoretic  | 32.00% | 5s    |\n",
    "| [0.8,0.2] |  simulation | 30.27% | 5s    |\n",
    "| [0.8,0.2] |    essex    | 35.94% | 124s  | \n",
    "| [0.8,0.2] |    london   | 28.71% | 341s  |\n",
    "|\n",
    "| [0.7,0.3] |  theoretic  | 42.00% | 1s    |\n",
    "| [0.7,0.3] |  simulation | 41.99% | 1s    |\n",
    "| [0.7,0.3] |    essex    | 40.82% | 45s   | \n",
    "| [0.7,0.3] |    london   | 35.74% | 18s   |\n",
    "|\n",
    "| [0.6,0.4] |  theoretic  | 48.00% | 1s    |\n",
    "| [0.6,0.4] |  simulation | 47.75% | 1s    |\n",
    "| [0.6,0.4] |    essex    | 43.26% | 22s   | \n",
    "| [0.6,0.4] |    london   | 43.65% | 44s   |\n",
    "|\n",
    "| [0.5,0.5] |  theoretic  | 50.00% | 1s    |\n",
    "| [0.5,0.5] |  simulation | 49.02% | 1s    |\n",
    "| [0.5,0.5] |    essex    | 44.34% | 164s  | \n",
    "| [0.5,0.5] |    london   | 48.05% | 35s   |\n",
    "\n",
    "\n",
    "\n",
    "|       Input       |    Quantum  |   Res  |  Time |\n",
    "|:-----------------:|:-----------:|:------:|:-----:|\n",
    "| [0.6,0.4,0.3,0.1] |  theoretic  | 28.50% | 1s    |\n",
    "| [0.6,0.4,0.3,0.1] |  simulation | 28.52% | 5s    |\n",
    "| [0.6,0.4,0.3,0.1] |   melbourne | 40.92% | 253s  |"
   ],
   "metadata": {
    "collapsed": false,
    "pycharm": {
     "name": "#%% md\n"
    }
   }
  },
  {
   "cell_type": "code",
   "execution_count": 97,
   "outputs": [
    {
     "name": "stdout",
     "text": [
      "tensor(2.2653)\n"
     ],
     "output_type": "stream"
    }
   ],
   "source": [
    "print(torch.tensor(1-2*(0.1+0.9-2*0.1*0.9)).acos())\n"
   ],
   "metadata": {
    "collapsed": false,
    "pycharm": {
     "name": "#%%\n",
     "is_executing": false
    }
   }
  },
  {
   "cell_type": "code",
   "execution_count": null,
   "outputs": [],
   "source": [
    "\n",
    "input_ori = [0.1,0.2,0.3,0.4]\n",
    "input_ori = [0.4,0.2,0.7,0.0]\n",
    "input_ori = [random.random(),random.random(),random.random(),random.random()]\n",
    "# input_ori = [0.2250, 0.3050, 0.2250, 0.3050]\n",
    "# input_ori = [0.4141, 0.2688, 0.2312, 0.1932]\n",
    "# input_ori = [0.3924, 0.2127, 0.2247, 0.2099]\n",
    "# input_ori = [0.4170, 0.2226, 0.2284, 0.1938]\n",
    "# input_ori = [0.4072, 0.2137, 0.2262, 0.1990]\n",
    "w1    = [ 0.0, 0.0, 0.0, 0.0]\n",
    "w2    = [ 0.0, 0.0, 0.0, 1.0]\n",
    "w3    = [ 0.0, 0.0, 1.0, 0.0]\n",
    "w4    = [ 0.0, 0.0, 1.0, 1.0]\n",
    "w5    = [ 0.0, 1.0, 0.0, 0.0]\n",
    "w6    = [ 0.0, 1.0, 0.0, 1.0]\n",
    "w7    = [ 0.0, 1.0, 1.0, 0.0]\n",
    "w8    = [ 0.0, 1.0, 1.0, 1.0]\n",
    "w9    = [ 1.0, 0.0, 0.0, 0.0]\n",
    "w10    = [ 1.0, 0.0, 0.0, 1.0]\n",
    "w11    = [ 1.0, 0.0, 1.0, 0.0]\n",
    "w12    = [ 1.0, 0.0, 1.0, 1.0]\n",
    "w13    = [ 1.0, 1.0, 0.0, 0.0]\n",
    "w14    = [ 1.0, 1.0, 0.0, 1.0]\n",
    "w15    = [ 1.0, 1.0, 1.0, 0.0]\n",
    "w16    = [ 1.0, 1.0, 1.0, 1.0]\n",
    "\n",
    "\n",
    "t_w1 = torch.tensor([w1,w2,w3,w4,w5,w6,w7,w8,w9,w10,w11,w12,w13,w14,w15,w16])*2-1\n",
    "\n",
    "for i in range(100):\n",
    "    \n",
    "    input_ori = [random.random(),random.random(),random.random(),random.random()]    \n",
    "    t_input = torch.tensor([input_ori])*2-1\n",
    "    t_output = do_slp_via_th(t_input,t_w1).flatten()\n",
    "    \n",
    "    # input_ori = random.sample(list(t_output),4)\n",
    "    \n",
    "    t_out_mean = t_output.sum()/t_output.shape[0]\n",
    "    \n",
    "    print((t_output-t_out_mean).pow(2).sum()/t_output.shape[0],input_ori)\n",
    "    "
   ],
   "metadata": {
    "collapsed": false,
    "pycharm": {
     "name": "#%%\n"
    }
   }
  }
 ],
 "metadata": {
  "kernelspec": {
   "name": "pycharm-8213722",
   "language": "python",
   "display_name": "PyCharm (qiskit_practice)"
  },
  "language_info": {
   "codemirror_mode": {
    "name": "ipython",
    "version": 2
   },
   "file_extension": ".py",
   "mimetype": "text/x-python",
   "name": "python",
   "nbconvert_exporter": "python",
   "pygments_lexer": "ipython2",
   "version": "2.7.6"
  },
  "pycharm": {
   "stem_cell": {
    "cell_type": "raw",
    "source": [],
    "metadata": {
     "collapsed": false
    }
   }
  }
 },
 "nbformat": 4,
 "nbformat_minor": 0
}