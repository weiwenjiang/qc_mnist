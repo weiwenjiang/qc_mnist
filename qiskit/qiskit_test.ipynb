{
 "cells": [
  {
   "cell_type": "code",
   "execution_count": null,
   "metadata": {
    "collapsed": true,
    "pycharm": {
     "is_executing": false
    }
   },
   "outputs": [],
   "source": [
    "from qiskit_library import *\n",
    "import torch\n",
    "import numpy as np\n",
    "from random import randrange\n",
    "import qiskit as qk\n",
    "from qiskit import Aer\n",
    "from qiskit import execute\n",
    "import math\n",
    "import sys\n",
    "import random\n",
    "import time\n",
    "from tqdm import tqdm\n",
    "\n",
    "from qiskit import IBMQ\n",
    "# IBMQ.delete_accounts()\n",
    "IBMQ.save_account('62d0e14364f490e45b5b5e0f6eebdbc083270ffffb660c7054219b15c7ce99ab4aa3b321309c0a9d0c3fc20086baece1376297dcdb67c7b715f9de1e4fa79efb')\n",
    "IBMQ.load_account()\n",
    "\n",
    "\n",
    "\n",
    "\n",
    "def analyze(counts):\n",
    "    mycount = {}\n",
    "    for i in range(num_c_reg):\n",
    "        mycount[i] = 0\n",
    "    for k,v in counts.items():\n",
    "        bits = len(k) \n",
    "        for i in range(bits):            \n",
    "            if k[bits-1-i] == \"1\":\n",
    "                if i in mycount.keys():\n",
    "                    mycount[i] += v\n",
    "                else:\n",
    "                    mycount[i] = v\n",
    "    return mycount,bits\n",
    "\n",
    "\n",
    "\n",
    "def fire_ibmq(circuit,shots,iter,Simulation = False, printable=True,backend_name='ibmq_essex'):\n",
    "    if printable:\n",
    "        print(circuit)\n",
    "    \n",
    "    count_set = []\n",
    "    start = time.time()\n",
    "    for it in range(iter):\n",
    "        if not Simulation:\n",
    "            provider = IBMQ.get_provider('ibm-q-academic')\n",
    "            # ibm-q-academic backends: \n",
    "            #  5 qubits: ibmq_valencia\n",
    "            # 20 qubits: ibmq_poughkeepsie, ibmq_johannesburg,ibmq_boeblingen, ibmq_20_tokyo\n",
    "            # 53 qubits: ibmq_rochester\n",
    "            \n",
    "            # To get a specific qubit backend: \n",
    "            backend = provider.get_backend(backend_name)\n",
    "        else:\n",
    "            backend = Aer.get_backend('qasm_simulator')\n",
    "        job_ibm_q = execute(circuit, backend, shots=shots)\n",
    "        job_monitor(job_ibm_q)\n",
    "        result_ibm_q = job_ibm_q.result()\n",
    "        counts = result_ibm_q.get_counts()\n",
    "        count_set.append(counts)\n",
    "    end = time.time()\n",
    "    print(\"Simulation time:\", end - start)\n",
    "\n",
    "    return count_set\n",
    "\n",
    "\n",
    "def do_slp_via_th(input_ori,w_ori):\n",
    "    p = input_ori\n",
    "    d = 4*p*(1-p)\n",
    "    e = (2*p-1)\n",
    "    # e_sq = torch.tensor(1)\n",
    "    w = w_ori\n",
    "    \n",
    "    sum_of_sq = (d+e.pow(2)).sum(-1)\n",
    "    sum_of_sq = sum_of_sq.unsqueeze(-1)        \n",
    "    sum_of_sq = sum_of_sq.expand(p.shape[0], w.shape[0])\n",
    "            \n",
    "    diag_p = torch.diag_embed(p)        \n",
    "    \n",
    "    p_w = torch.matmul(w,diag_p)\n",
    "    \n",
    "    z_p_w = torch.zeros_like(p_w)        \n",
    "    shft_p_w = torch.cat((p_w, z_p_w), -1)\n",
    "    \n",
    "    sum_of_cross = torch.zeros_like(p_w)\n",
    "    # print(p,p.shape)\n",
    "    length = p.shape[1]    \n",
    "    \n",
    "    for shft in range(1,length):    \n",
    "        sum_of_cross += shft_p_w[:,:,0:length]*shft_p_w[:,:,shft:length+shft]\n",
    "\n",
    "    sum_of_cross = sum_of_cross.sum(-1)\n",
    "            \n",
    "    return (sum_of_sq+2*sum_of_cross)/(length**2) \n",
    "\n"
   ]
  },
  {
   "cell_type": "code",
   "execution_count": 100,
   "outputs": [
    {
     "name": "stdout",
     "text": [
      "               ┌────────────┐ ░          ░               ░            ░       \n",
      "      io_0: |0>┤ Ry(0.6435) ├─░───■──────░───────────────░────────────░───────\n",
      "               ├────────────┤ ░ ┌─┴─┐    ░               ░            ░       \n",
      "      io_1: |0>┤ Ry(2.4981) ├─░─┤ X ├─■──░───────■───────░────────────░───────\n",
      "               └────────────┘ ░ ├───┤ │  ░       │       ░ ┌───┐┌───┐ ░ ┌─┐   \n",
      "neural_0_0: |0>───────────────░─┤ H ├─■──░───────┼───────░─┤ H ├┤ X ├─░─┤M├───\n",
      "                              ░ └───┘    ░ ┌───┐ │ ┌───┐ ░ ├───┤├───┤ ░ └╥┘┌─┐\n",
      "neural_1_0: |0>───────────────░──────────░─┤ H ├─■─┤ Z ├─░─┤ H ├┤ X ├─░──╫─┤M├\n",
      "                              ░          ░ └───┘   └───┘ ░ └───┘└───┘ ░  ║ └╥┘\n",
      "      reg_0: 0 ══════════════════════════════════════════════════════════╩══╬═\n",
      "                                                                            ║ \n",
      "      reg_1: 0 ═════════════════════════════════════════════════════════════╩═\n",
      "                                                                              \n"
     ],
     "output_type": "stream"
    }
   ],
   "source": [
    "# 2-1 ENCODER + Weights\n",
    "input_ori = [0.9,0.1]\n",
    "input = torch.tensor(input_ori)*2-1\n",
    "w1    = [ 1.0, 1.0]\n",
    "w5    = [ 1.0, 0.0]\n",
    "\n",
    "q_io = qk.QuantumRegister(2,\"io\")\n",
    "q_n0 = qk.QuantumRegister(1,\"neural_0\")\n",
    "q_n1 = qk.QuantumRegister(1,\"neural_1\")\n",
    "c = qk.ClassicalRegister(2,\"reg\")\n",
    "\n",
    "circuit = qk.QuantumCircuit(q_io, q_n0, q_n1, c)\n",
    "\n",
    "\n",
    "SLP_2_encoding(circuit,q_io,q_n0,input)\n",
    "SLP_2_Uw(circuit,q_n0,w1)\n",
    "# circuit.barrier()\n",
    "\n",
    "circuit.h(q_n1)\n",
    "circuit.cz(q_io[1],q_n1)\n",
    "SLP_2_Uw(circuit,q_n1,w5)\n",
    "circuit.barrier()\n",
    "\n",
    "circuit.h(q_n0)\n",
    "circuit.h(q_n1)\n",
    "circuit.x(q_n0)\n",
    "circuit.x(q_n1)\n",
    "\n",
    "circuit.barrier()\n",
    "circuit.measure(q_n0,c[0])\n",
    "circuit.measure(q_n1,c[1])\n",
    "print(circuit)\n",
    "\n"
   ],
   "metadata": {
    "collapsed": false,
    "pycharm": {
     "name": "#%%\n",
     "is_executing": false
    }
   }
  },
  {
   "cell_type": "code",
   "execution_count": null,
   "outputs": [],
   "source": [
    "# 2-1 ENCODER + Weights + 2 layers\n",
    "input_ori = [0.0,0.9]\n",
    "input = torch.tensor(input_ori)*2-1\n",
    "w1    = [ 1.0, 1.0]\n",
    "w5    = [ 1.0, 0.0]\n",
    "\n",
    "q_io = qk.QuantumRegister(2,\"io\")\n",
    "q_n0 = qk.QuantumRegister(1,\"neural_0\")\n",
    "q_n1 = qk.QuantumRegister(1,\"neural_1\")\n",
    "q_n2 = qk.QuantumRegister(1,\"neural_2\")\n",
    "c = qk.ClassicalRegister(1,\"reg\")\n",
    "\n",
    "circuit = qk.QuantumCircuit(q_io, q_n0, q_n1, q_n2, c)\n",
    "\n",
    "\n",
    "SLP_2_encoding(circuit,q_io,q_n0,input)\n",
    "SLP_2_Uw(circuit,q_n0,w1)\n",
    "# circuit.barrier()\n",
    "\n",
    "circuit.h(q_n1)\n",
    "circuit.cz(q_io[1],q_n1)\n",
    "SLP_2_Uw(circuit,q_n1,w5)\n",
    "circuit.barrier()\n",
    "\n",
    "circuit.h(q_n0)\n",
    "circuit.h(q_n1)\n",
    "circuit.x(q_n0)\n",
    "circuit.x(q_n1)\n",
    "circuit.barrier()\n",
    "\n",
    "SLP_2_encoding(circuit,[q_n0,q_n1],q_n2)\n",
    "SLP_2_Uw(circuit,q_n2,w5)\n",
    "\n",
    "circuit.h(q_n2)\n",
    "circuit.x(q_n2)\n",
    "\n",
    "circuit.measure(q_n2,c)\n",
    "# circuit.measure(q_n1,c[1])\n",
    "print(circuit)\n",
    "\n"
   ],
   "metadata": {
    "collapsed": false,
    "pycharm": {
     "name": "#%%\n",
     "is_executing": false
    }
   }
  },
  {
   "cell_type": "code",
   "execution_count": null,
   "outputs": [],
   "source": [
    "input_ori = [0.9,0.9,0.1,0.1]\n",
    "input = torch.tensor(input_ori)*2-1\n",
    "w5    = [ 1.0, 1.0, 1.0, 1.0]\n",
    "\n",
    "q_io = qk.QuantumRegister(4,\"io\")\n",
    "q_en = qk.QuantumRegister(2,\"encoded\")\n",
    "q_aux = qk.QuantumRegister(1,\"aux\")\n",
    "q_out = qk.QuantumRegister(1,\"out\")\n",
    "c = qk.ClassicalRegister(1,\"reg\")\n",
    "\n",
    "circuit = qk.QuantumCircuit(q_io, q_en, q_aux, q_out, c)\n",
    "\n",
    "SLP_4_encoding(circuit,q_io,q_en,input,q_aux)\n",
    "# reset_qbits(circuit,q_io)\n",
    "SLP_4_Uw(circuit,q_en,w5,q_aux)\n",
    "circuit.barrier()\n",
    "circuit.h(q_en)\n",
    "circuit.x(q_en)\n",
    "\n",
    "circuit.ccx(q_en[0],q_en[1],q_out)\n",
    "circuit.measure(q_out,c)\n",
    "print(circuit)\n",
    "\n"
   ],
   "metadata": {
    "collapsed": false,
    "pycharm": {
     "name": "#%%\n",
     "is_executing": false
    }
   }
  },
  {
   "cell_type": "code",
   "execution_count": 103,
   "outputs": [
    {
     "name": "stdout",
     "text": [
      "==================================================\n",
      "Start theoretic:\n",
      "tensor([[0.1800, 0.8200]])\n",
      "Theoretic elasped time: 0.0043981075286865234\n",
      "==================================================\n",
      "Start simulation:\n",
      "Job Status: job has successfully run\n",
      "Simulation time: 5.049063205718994\n",
      "0 0.1708984375\n",
      "1 0.8291015625\n",
      "From QC: [{'01': 175, '10': 849}]\n",
      "Simulation elasped time: 5.049776792526245\n"
     ],
     "output_type": "stream"
    }
   ],
   "source": [
    "qc_shots = 1024\n",
    "num_c_reg = 4\n",
    "\n",
    "t_input = torch.tensor([input_ori])*2-1\n",
    "t_w1 = torch.tensor([w1, w5])*2-1\n",
    "print(\"=\"*50)\n",
    "print(\"Start theoretic:\")\n",
    "start = time.time() \n",
    "\n",
    "t_inter = do_slp_via_th(t_input,t_w1)*2-1 \n",
    "t_w2 = torch.tensor([w5])*2-1\n",
    "t_output = do_slp_via_th(t_inter,t_w2) \n",
    "print(do_slp_via_th(t_input,t_w1))\n",
    "end = time.time()\n",
    "qc_time = end - start\n",
    "print(\"Theoretic elasped time:\",qc_time)\n",
    "\n",
    "\n",
    "\n",
    "print(\"=\"*50)\n",
    "print(\"Start simulation:\")\n",
    "start = time.time()        \n",
    "iters = 1\n",
    "counts = fire_ibmq(circuit,qc_shots,iters,True,False)\n",
    "end = time.time()\n",
    "qc_time = end - start\n",
    "\n",
    "(mycount,bits) = analyze(counts[0])\n",
    "for b in range(bits):\n",
    "    print (b,float(mycount[b])/qc_shots)\n",
    "    \n",
    "print(\"From QC:\",counts)\n",
    "print(\"Simulation elasped time:\",qc_time)\n"
   ],
   "metadata": {
    "collapsed": false,
    "pycharm": {
     "name": "#%%\n",
     "is_executing": false
    }
   }
  },
  {
   "cell_type": "code",
   "execution_count": 104,
   "outputs": [
    {
     "name": "stdout",
     "text": [
      "==================================================\n",
      "Start run:\n",
      "Job Status: job has successfully run\n",
      "Simulation time: 185.92305612564087\n",
      "0 0.263671875\n",
      "1 0.671875\n",
      "From QC: [{'11': 48, '01': 222, '10': 640, '00': 114}]\n",
      "Simulation elasped time: 185.92364406585693\n"
     ],
     "output_type": "stream"
    }
   ],
   "source": [
    "print(\"=\"*50)\n",
    "print(\"Start run:\")\n",
    "start = time.time()        \n",
    "iters = 1\n",
    "counts = fire_ibmq(circuit,qc_shots,iters,False,False,backend_name=\"ibmq_16_melbourne\")\n",
    "end = time.time()\n",
    "qc_time = end - start\n",
    "\n",
    "(mycount,bits) = analyze(counts[0])\n",
    "for b in range(bits):\n",
    "    print (b,float(mycount[b])/qc_shots)\n",
    "    \n",
    "print(\"From QC:\",counts)\n",
    "print(\"Simulation elasped time:\",qc_time)\n",
    "\n",
    "\n"
   ],
   "metadata": {
    "collapsed": false,
    "pycharm": {
     "name": "#%%\n",
     "is_executing": false
    }
   }
  },
  {
   "cell_type": "code",
   "execution_count": null,
   "outputs": [],
   "source": [
    "print(\"=\"*50)\n",
    "print(\"Start run:\")\n",
    "start = time.time()        \n",
    "iters = 1\n",
    "counts = fire_ibmq(circuit,qc_shots,iters,False,False,backend_name=\"ibmq_essex\")\n",
    "end = time.time()\n",
    "qc_time = end - start\n",
    "\n",
    "(mycount,bits) = analyze(counts[0])\n",
    "for b in range(bits):\n",
    "    print (b,float(mycount[b])/qc_shots)\n",
    "    \n",
    "print(\"From QC:\",counts)\n",
    "print(\"Simulation elasped time:\",qc_time)\n",
    "\n",
    "\n",
    "print(\"=\"*50)\n",
    "print(\"Start run:\")\n",
    "start = time.time()        \n",
    "iters = 1\n",
    "counts = fire_ibmq(circuit,qc_shots,iters,False,False,backend_name=\"ibmq_london\")\n",
    "end = time.time()\n",
    "qc_time = end - start\n",
    "\n",
    "(mycount,bits) = analyze(counts[0])\n",
    "for b in range(bits):\n",
    "    print (b,float(mycount[b])/qc_shots)\n",
    "\n",
    "print(\"From QC:\",counts)\n",
    "print(\"Simulation elasped time:\",qc_time)\n"
   ],
   "metadata": {
    "collapsed": false,
    "pycharm": {
     "name": "#%%\n",
     "is_executing": false
    }
   }
  },
  {
   "cell_type": "markdown",
   "source": [
    "|   Input   |    Quantum  |   Res  |  Time |\n",
    "|:---------:|:-----------:|:------:|:-----:|\n",
    "| [0.9,0.1] |  theoretic  | 18.00% | 1s    |\n",
    "| [0.9,0.1] |  simulation | 18.16% | 5s    |\n",
    "| [0.9,0.1] |    essex    | 21.88% | 105s  | \n",
    "| [0.9,0.1] |    london   | 19.92% | 92s   |\n",
    "|\n",
    "| [0.8,0.2] |  theoretic  | 32.00% | 5s    |\n",
    "| [0.8,0.2] |  simulation | 30.27% | 5s    |\n",
    "| [0.8,0.2] |    essex    | 35.94% | 124s  | \n",
    "| [0.8,0.2] |    london   | 28.71% | 341s  |\n",
    "|\n",
    "| [0.7,0.3] |  theoretic  | 42.00% | 1s    |\n",
    "| [0.7,0.3] |  simulation | 41.99% | 1s    |\n",
    "| [0.7,0.3] |    essex    | 40.82% | 45s   | \n",
    "| [0.7,0.3] |    london   | 35.74% | 18s   |\n",
    "|\n",
    "| [0.6,0.4] |  theoretic  | 48.00% | 1s    |\n",
    "| [0.6,0.4] |  simulation | 47.75% | 1s    |\n",
    "| [0.6,0.4] |    essex    | 43.26% | 22s   | \n",
    "| [0.6,0.4] |    london   | 43.65% | 44s   |\n",
    "|\n",
    "| [0.5,0.5] |  theoretic  | 50.00% | 1s    |\n",
    "| [0.5,0.5] |  simulation | 49.02% | 1s    |\n",
    "| [0.5,0.5] |    essex    | 44.34% | 164s  | \n",
    "| [0.5,0.5] |    london   | 48.05% | 35s   |\n",
    "\n",
    "\n",
    "\n",
    "|       Input       |    Quantum  |   Res  |  Time |\n",
    "|:-----------------:|:-----------:|:------:|:-----:|\n",
    "| [0.6,0.4,0.3,0.1] |  theoretic  | 28.50% | 1s    |\n",
    "| [0.6,0.4,0.3,0.1] |  simulation | 28.52% | 5s    |\n",
    "| [0.6,0.4,0.3,0.1] |   melbourne | 40.92% | 253s  |"
   ],
   "metadata": {
    "collapsed": false,
    "pycharm": {
     "name": "#%% md\n"
    }
   }
  },
  {
   "cell_type": "code",
   "execution_count": null,
   "outputs": [],
   "source": [
    "204/1024"
   ],
   "metadata": {
    "collapsed": false,
    "pycharm": {
     "name": "#%%\n",
     "is_executing": false
    }
   }
  }
 ],
 "metadata": {
  "kernelspec": {
   "name": "pycharm-8213722",
   "language": "python",
   "display_name": "PyCharm (qiskit_practice)"
  },
  "language_info": {
   "codemirror_mode": {
    "name": "ipython",
    "version": 2
   },
   "file_extension": ".py",
   "mimetype": "text/x-python",
   "name": "python",
   "nbconvert_exporter": "python",
   "pygments_lexer": "ipython2",
   "version": "2.7.6"
  },
  "pycharm": {
   "stem_cell": {
    "cell_type": "raw",
    "source": [],
    "metadata": {
     "collapsed": false
    }
   }
  }
 },
 "nbformat": 4,
 "nbformat_minor": 0
}