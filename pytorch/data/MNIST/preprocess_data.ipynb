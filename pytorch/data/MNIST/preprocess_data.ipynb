{
 "cells": [
  {
   "cell_type": "code",
   "execution_count": 17,
   "metadata": {
    "collapsed": true,
    "pycharm": {
     "is_executing": false
    }
   },
   "outputs": [
    {
     "name": "stdout",
     "text": [
      "torch.Size([60000, 28, 28]) torch.Size([60000])\n",
      "0\n",
      "5000\n",
      "10000\n",
      "15000\n",
      "20000\n",
      "25000\n",
      "30000\n",
      "35000\n",
      "40000\n",
      "45000\n",
      "50000\n",
      "55000\n"
     ],
     "output_type": "stream"
    }
   ],
   "source": [
    "import torch \n",
    "import torchvision.transforms as transforms\n",
    "import numpy as np\n",
    "import matplotlib.pyplot as plt\n",
    "from PIL import Image\n",
    "import sys\n",
    "import copy\n",
    "\n",
    "res = torch.load(\"processed/training.pt\")\n",
    "print(res[0].shape,res[1].shape)\n",
    "\n",
    "\n",
    "class ToQuantumData(object):\n",
    "    def __call__(self, tensor):\n",
    "        # torch.set_printoptions(profile=\"full\") \n",
    "        data = tensor\n",
    "        input_vec = data.view(-1)\n",
    "        vec_len = input_vec.size()[0]        \n",
    "        input_matrix = torch.zeros(vec_len, vec_len)        \n",
    "        input_matrix[0] = input_vec\n",
    "                        \n",
    "        input_matrix = input_matrix.transpose(0, 1)                \n",
    "        u, s, v = np.linalg.svd(input_matrix)\n",
    "        output_matrix = torch.tensor(np.dot(u, v))        \n",
    "        output_data = output_matrix[:, 0].view(tensor.shape)        \n",
    "        return output_data\n",
    "\n",
    "trans_to_tensor = transforms.ToTensor()\n",
    "trans_to_qc_data = ToQuantumData()\n",
    "trans_resize = transforms.Resize((4,4))\n",
    "\n",
    "data = torch.zeros(res[0].shape[0],4,4,dtype=torch.float32)\n",
    "\n",
    "\n",
    "for i in range(res[0].shape[0]):\n",
    "    # print(res[0][i].shape)\n",
    "    if i%5000==0:\n",
    "        print(i)\n",
    "    npimg = res[0][i].numpy()   \n",
    "    \n",
    "    im = Image.fromarray(npimg,mode=\"L\")\n",
    "    qc_data = trans_to_qc_data(trans_to_tensor(trans_resize(im)))[0]    \n",
    "    \n",
    "    data[i] = qc_data    "
   ]
  },
  {
   "cell_type": "code",
   "execution_count": 18,
   "outputs": [],
   "source": [
    "x = (data,res[1])\n",
    "torch.save(x, 'processed/qc_training_4_4.pt')"
   ],
   "metadata": {
    "collapsed": false,
    "pycharm": {
     "name": "#%%\n",
     "is_executing": false
    }
   }
  },
  {
   "cell_type": "code",
   "execution_count": 19,
   "outputs": [
    {
     "name": "stdout",
     "text": [
      "tensor([[0.0149, 0.1843, 0.2641, 0.0947],\n",
      "        [0.0199, 0.4185, 0.3936, 0.0548],\n",
      "        [0.0149, 0.2242, 0.5132, 0.0448],\n",
      "        [0.1594, 0.4285, 0.1694, 0.0050]])\n"
     ],
     "output_type": "stream"
    }
   ],
   "source": [
    "res = torch.load(\"processed/qc_training_4_4.pt\")\n",
    "print(res[0][0])"
   ],
   "metadata": {
    "collapsed": false,
    "pycharm": {
     "name": "#%%\n",
     "is_executing": false
    }
   }
  }
 ],
 "metadata": {
  "kernelspec": {
   "name": "pycharm-8213722",
   "language": "python",
   "display_name": "PyCharm (qiskit_practice)"
  },
  "language_info": {
   "codemirror_mode": {
    "name": "ipython",
    "version": 2
   },
   "file_extension": ".py",
   "mimetype": "text/x-python",
   "name": "python",
   "nbconvert_exporter": "python",
   "pygments_lexer": "ipython2",
   "version": "2.7.6"
  },
  "pycharm": {
   "stem_cell": {
    "cell_type": "raw",
    "source": [],
    "metadata": {
     "collapsed": false
    }
   }
  }
 },
 "nbformat": 4,
 "nbformat_minor": 0
}