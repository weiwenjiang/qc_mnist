{
 "cells": [
  {
   "cell_type": "code",
   "execution_count": 3,
   "metadata": {
    "collapsed": true,
    "pycharm": {
     "is_executing": false
    }
   },
   "outputs": [
    {
     "name": "stderr",
     "text": [
      "/home/weiwen/.local/lib/python3.6/site-packages/qiskit/providers/ibmq/credentials/configrc.py:130: UserWarning: Credentials already present. Set overwrite=True to overwrite.\n",
      "  warnings.warn('Credentials already present. '\n"
     ],
     "output_type": "stream"
    }
   ],
   "source": [
    "# from qiskit_library import *\n",
    "import torch\n",
    "import numpy as np\n",
    "from random import randrange\n",
    "import qiskit as qk\n",
    "from qiskit import Aer\n",
    "from qiskit import execute\n",
    "import math\n",
    "import sys\n",
    "import random\n",
    "import time\n",
    "from tqdm import tqdm\n",
    "\n",
    "from qiskit import IBMQ\n",
    "# IBMQ.delete_accounts()\n",
    "IBMQ.save_account('62d0e14364f490e45b5b5e0f6eebdbc083270ffffb660c7054219b15c7ce99ab4aa3b321309c0a9d0c3fc20086baece1376297dcdb67c7b715f9de1e4fa79efb')\n",
    "IBMQ.load_account()\n",
    "\n",
    "\n",
    "\n",
    "\n",
    "def analyze(counts):\n",
    "    mycount = {}\n",
    "    for i in range(num_c_reg):\n",
    "        mycount[i] = 0\n",
    "    for k,v in counts.items():\n",
    "        bits = len(k) \n",
    "        for i in range(bits):            \n",
    "            if k[bits-1-i] == \"1\":\n",
    "                if i in mycount.keys():\n",
    "                    mycount[i] += v\n",
    "                else:\n",
    "                    mycount[i] = v\n",
    "    return mycount,bits\n",
    "\n",
    "\n",
    "\n",
    "def fire_ibmq(circuit,shots,iter,Simulation = False, printable=True,backend_name='ibmq_essex'):\n",
    "    if printable:\n",
    "        print(circuit)\n",
    "    \n",
    "    count_set = []\n",
    "    start = time.time()\n",
    "    for it in range(iter):\n",
    "        if not Simulation:\n",
    "            provider = IBMQ.get_provider('ibm-q-academic')\n",
    "            # ibm-q-academic backends: \n",
    "            #  5 qubits: ibmq_valencia\n",
    "            # 20 qubits: ibmq_poughkeepsie, ibmq_johannesburg,ibmq_boeblingen, ibmq_20_tokyo\n",
    "            # 53 qubits: ibmq_rochester\n",
    "            \n",
    "            # To get a specific qubit backend: \n",
    "            backend = provider.get_backend(backend_name)\n",
    "        else:\n",
    "            backend = Aer.get_backend('qasm_simulator')\n",
    "        job_ibm_q = execute(circuit, backend, shots=shots)\n",
    "        job_monitor(job_ibm_q)\n",
    "        result_ibm_q = job_ibm_q.result()\n",
    "        counts = result_ibm_q.get_counts()\n",
    "        count_set.append(counts)\n",
    "    end = time.time()\n",
    "    print(\"Simulation time:\", end - start)\n",
    "\n",
    "    return count_set\n",
    "\n",
    "\n",
    "def do_slp_via_th(input_ori,w_ori):\n",
    "    p = input_ori\n",
    "    d = 4*p*(1-p)\n",
    "    e = (2*p-1)\n",
    "    # e_sq = torch.tensor(1)\n",
    "    w = w_ori\n",
    "    \n",
    "    sum_of_sq = (d+e.pow(2)).sum(-1)\n",
    "    sum_of_sq = sum_of_sq.unsqueeze(-1)        \n",
    "    sum_of_sq = sum_of_sq.expand(p.shape[0], w.shape[0])\n",
    "            \n",
    "    diag_p = torch.diag_embed(p)        \n",
    "    \n",
    "    p_w = torch.matmul(w,diag_p)\n",
    "    \n",
    "    z_p_w = torch.zeros_like(p_w)        \n",
    "    shft_p_w = torch.cat((p_w, z_p_w), -1)\n",
    "    \n",
    "    sum_of_cross = torch.zeros_like(p_w)\n",
    "    # print(p,p.shape)\n",
    "    length = p.shape[1]    \n",
    "    \n",
    "    for shft in range(1,length):    \n",
    "        sum_of_cross += shft_p_w[:,:,0:length]*shft_p_w[:,:,shft:length+shft]\n",
    "\n",
    "    sum_of_cross = sum_of_cross.sum(-1)\n",
    "            \n",
    "    return (sum_of_sq+2*sum_of_cross)/(length**2) \n"
   ]
  },
  {
   "cell_type": "code",
   "execution_count": 20,
   "outputs": [
    {
     "name": "stdout",
     "text": [
      "          ┌──────────┐\n",
      "q17_0: |0>┤0         ├\n",
      "          │          │\n",
      "q17_1: |0>┤1 unitary ├\n",
      "          │          │\n",
      "q17_2: |0>┤2         ├\n",
      "          └──────────┘\n"
     ],
     "output_type": "stream"
    },
    {
     "traceback": [
      "\u001b[0;31m---------------------------------------------------------------------------\u001b[0m",
      "\u001b[0;31mNotImplementedError\u001b[0m                       Traceback (most recent call last)",
      "\u001b[0;32m<ipython-input-20-bdeb198f756d>\u001b[0m in \u001b[0;36m<module>\u001b[0;34m\u001b[0m\n\u001b[1;32m     19\u001b[0m \u001b[0;34m\u001b[0m\u001b[0m\n\u001b[1;32m     20\u001b[0m \u001b[0miters\u001b[0m \u001b[0;34m=\u001b[0m \u001b[0;36m1\u001b[0m\u001b[0;34m\u001b[0m\u001b[0;34m\u001b[0m\u001b[0m\n\u001b[0;32m---> 21\u001b[0;31m \u001b[0mcounts\u001b[0m \u001b[0;34m=\u001b[0m \u001b[0mfire_ibmq\u001b[0m\u001b[0;34m(\u001b[0m\u001b[0mcirc\u001b[0m\u001b[0;34m,\u001b[0m\u001b[0;36m8192\u001b[0m\u001b[0;34m,\u001b[0m\u001b[0miters\u001b[0m\u001b[0;34m,\u001b[0m\u001b[0;32mFalse\u001b[0m\u001b[0;34m,\u001b[0m\u001b[0;32mFalse\u001b[0m\u001b[0;34m,\u001b[0m\u001b[0mbackend_name\u001b[0m\u001b[0;34m=\u001b[0m\u001b[0;34m\"ibmq_vigo\"\u001b[0m\u001b[0;34m)\u001b[0m\u001b[0;34m\u001b[0m\u001b[0;34m\u001b[0m\u001b[0m\n\u001b[0m\u001b[1;32m     22\u001b[0m \u001b[0;34m\u001b[0m\u001b[0m\n\u001b[1;32m     23\u001b[0m \u001b[0;34m(\u001b[0m\u001b[0mmycount\u001b[0m\u001b[0;34m,\u001b[0m\u001b[0mbits\u001b[0m\u001b[0;34m)\u001b[0m \u001b[0;34m=\u001b[0m \u001b[0manalyze\u001b[0m\u001b[0;34m(\u001b[0m\u001b[0mcounts\u001b[0m\u001b[0;34m[\u001b[0m\u001b[0;36m0\u001b[0m\u001b[0;34m]\u001b[0m\u001b[0;34m)\u001b[0m\u001b[0;34m\u001b[0m\u001b[0;34m\u001b[0m\u001b[0m\n",
      "\u001b[0;32m<ipython-input-3-549ed6d429e1>\u001b[0m in \u001b[0;36mfire_ibmq\u001b[0;34m(circuit, shots, iter, Simulation, printable, backend_name)\u001b[0m\n\u001b[1;32m     54\u001b[0m         \u001b[0;32melse\u001b[0m\u001b[0;34m:\u001b[0m\u001b[0;34m\u001b[0m\u001b[0;34m\u001b[0m\u001b[0m\n\u001b[1;32m     55\u001b[0m             \u001b[0mbackend\u001b[0m \u001b[0;34m=\u001b[0m \u001b[0mAer\u001b[0m\u001b[0;34m.\u001b[0m\u001b[0mget_backend\u001b[0m\u001b[0;34m(\u001b[0m\u001b[0;34m'qasm_simulator'\u001b[0m\u001b[0;34m)\u001b[0m\u001b[0;34m\u001b[0m\u001b[0;34m\u001b[0m\u001b[0m\n\u001b[0;32m---> 56\u001b[0;31m         \u001b[0mjob_ibm_q\u001b[0m \u001b[0;34m=\u001b[0m \u001b[0mexecute\u001b[0m\u001b[0;34m(\u001b[0m\u001b[0mcircuit\u001b[0m\u001b[0;34m,\u001b[0m \u001b[0mbackend\u001b[0m\u001b[0;34m,\u001b[0m \u001b[0mshots\u001b[0m\u001b[0;34m=\u001b[0m\u001b[0mshots\u001b[0m\u001b[0;34m)\u001b[0m\u001b[0;34m\u001b[0m\u001b[0;34m\u001b[0m\u001b[0m\n\u001b[0m\u001b[1;32m     57\u001b[0m         \u001b[0mjob_monitor\u001b[0m\u001b[0;34m(\u001b[0m\u001b[0mjob_ibm_q\u001b[0m\u001b[0;34m)\u001b[0m\u001b[0;34m\u001b[0m\u001b[0;34m\u001b[0m\u001b[0m\n\u001b[1;32m     58\u001b[0m         \u001b[0mresult_ibm_q\u001b[0m \u001b[0;34m=\u001b[0m \u001b[0mjob_ibm_q\u001b[0m\u001b[0;34m.\u001b[0m\u001b[0mresult\u001b[0m\u001b[0;34m(\u001b[0m\u001b[0;34m)\u001b[0m\u001b[0;34m\u001b[0m\u001b[0;34m\u001b[0m\u001b[0m\n",
      "\u001b[0;32m~/.local/lib/python3.6/site-packages/qiskit/execute.py\u001b[0m in \u001b[0;36mexecute\u001b[0;34m(experiments, backend, basis_gates, coupling_map, backend_properties, initial_layout, seed_transpiler, optimization_level, pass_manager, qobj_id, qobj_header, shots, memory, max_credits, seed_simulator, default_qubit_los, default_meas_los, schedule_los, meas_level, meas_return, memory_slots, memory_slot_size, rep_time, parameter_binds, **run_config)\u001b[0m\n\u001b[1;32m    195\u001b[0m                             \u001b[0moptimization_level\u001b[0m\u001b[0;34m=\u001b[0m\u001b[0moptimization_level\u001b[0m\u001b[0;34m,\u001b[0m\u001b[0;34m\u001b[0m\u001b[0;34m\u001b[0m\u001b[0m\n\u001b[1;32m    196\u001b[0m                             \u001b[0mbackend\u001b[0m\u001b[0;34m=\u001b[0m\u001b[0mbackend\u001b[0m\u001b[0;34m,\u001b[0m\u001b[0;34m\u001b[0m\u001b[0;34m\u001b[0m\u001b[0m\n\u001b[0;32m--> 197\u001b[0;31m                             \u001b[0mpass_manager\u001b[0m\u001b[0;34m=\u001b[0m\u001b[0mpass_manager\u001b[0m\u001b[0;34m,\u001b[0m\u001b[0;34m\u001b[0m\u001b[0;34m\u001b[0m\u001b[0m\n\u001b[0m\u001b[1;32m    198\u001b[0m                             )\n\u001b[1;32m    199\u001b[0m \u001b[0;34m\u001b[0m\u001b[0m\n",
      "\u001b[0;32m~/.local/lib/python3.6/site-packages/qiskit/compiler/transpile.py\u001b[0m in \u001b[0;36mtranspile\u001b[0;34m(circuits, backend, basis_gates, coupling_map, backend_properties, initial_layout, seed_transpiler, optimization_level, pass_manager, callback, output_name)\u001b[0m\n\u001b[1;32m    199\u001b[0m                                       'in the coupling_map')\n\u001b[1;32m    200\u001b[0m     \u001b[0;31m# Transpile circuits in parallel\u001b[0m\u001b[0;34m\u001b[0m\u001b[0;34m\u001b[0m\u001b[0;34m\u001b[0m\u001b[0m\n\u001b[0;32m--> 201\u001b[0;31m     \u001b[0mcircuits\u001b[0m \u001b[0;34m=\u001b[0m \u001b[0mparallel_map\u001b[0m\u001b[0;34m(\u001b[0m\u001b[0m_transpile_circuit\u001b[0m\u001b[0;34m,\u001b[0m \u001b[0mlist\u001b[0m\u001b[0;34m(\u001b[0m\u001b[0mzip\u001b[0m\u001b[0;34m(\u001b[0m\u001b[0mcircuits\u001b[0m\u001b[0;34m,\u001b[0m \u001b[0mtranspile_configs\u001b[0m\u001b[0;34m)\u001b[0m\u001b[0;34m)\u001b[0m\u001b[0;34m)\u001b[0m\u001b[0;34m\u001b[0m\u001b[0;34m\u001b[0m\u001b[0m\n\u001b[0m\u001b[1;32m    202\u001b[0m \u001b[0;34m\u001b[0m\u001b[0m\n\u001b[1;32m    203\u001b[0m     \u001b[0;32mif\u001b[0m \u001b[0mlen\u001b[0m\u001b[0;34m(\u001b[0m\u001b[0mcircuits\u001b[0m\u001b[0;34m)\u001b[0m \u001b[0;34m==\u001b[0m \u001b[0;36m1\u001b[0m\u001b[0;34m:\u001b[0m\u001b[0;34m\u001b[0m\u001b[0;34m\u001b[0m\u001b[0m\n",
      "\u001b[0;32m~/.local/lib/python3.6/site-packages/qiskit/tools/parallel.py\u001b[0m in \u001b[0;36mparallel_map\u001b[0;34m(task, values, task_args, task_kwargs, num_processes)\u001b[0m\n\u001b[1;32m     98\u001b[0m     \"\"\"\n\u001b[1;32m     99\u001b[0m     \u001b[0;32mif\u001b[0m \u001b[0mlen\u001b[0m\u001b[0;34m(\u001b[0m\u001b[0mvalues\u001b[0m\u001b[0;34m)\u001b[0m \u001b[0;34m==\u001b[0m \u001b[0;36m1\u001b[0m\u001b[0;34m:\u001b[0m\u001b[0;34m\u001b[0m\u001b[0;34m\u001b[0m\u001b[0m\n\u001b[0;32m--> 100\u001b[0;31m         \u001b[0;32mreturn\u001b[0m \u001b[0;34m[\u001b[0m\u001b[0mtask\u001b[0m\u001b[0;34m(\u001b[0m\u001b[0mvalues\u001b[0m\u001b[0;34m[\u001b[0m\u001b[0;36m0\u001b[0m\u001b[0;34m]\u001b[0m\u001b[0;34m,\u001b[0m \u001b[0;34m*\u001b[0m\u001b[0mtask_args\u001b[0m\u001b[0;34m,\u001b[0m \u001b[0;34m**\u001b[0m\u001b[0mtask_kwargs\u001b[0m\u001b[0;34m)\u001b[0m\u001b[0;34m]\u001b[0m\u001b[0;34m\u001b[0m\u001b[0;34m\u001b[0m\u001b[0m\n\u001b[0m\u001b[1;32m    101\u001b[0m \u001b[0;34m\u001b[0m\u001b[0m\n\u001b[1;32m    102\u001b[0m     \u001b[0mPublisher\u001b[0m\u001b[0;34m(\u001b[0m\u001b[0;34m)\u001b[0m\u001b[0;34m.\u001b[0m\u001b[0mpublish\u001b[0m\u001b[0;34m(\u001b[0m\u001b[0;34m\"terra.parallel.start\"\u001b[0m\u001b[0;34m,\u001b[0m \u001b[0mlen\u001b[0m\u001b[0;34m(\u001b[0m\u001b[0mvalues\u001b[0m\u001b[0;34m)\u001b[0m\u001b[0;34m)\u001b[0m\u001b[0;34m\u001b[0m\u001b[0;34m\u001b[0m\u001b[0m\n",
      "\u001b[0;32m~/.local/lib/python3.6/site-packages/qiskit/compiler/transpile.py\u001b[0m in \u001b[0;36m_transpile_circuit\u001b[0;34m(circuit_config_tuple)\u001b[0m\n\u001b[1;32m    220\u001b[0m     \u001b[0mcircuit\u001b[0m\u001b[0;34m,\u001b[0m \u001b[0mtranspile_config\u001b[0m \u001b[0;34m=\u001b[0m \u001b[0mcircuit_config_tuple\u001b[0m\u001b[0;34m\u001b[0m\u001b[0;34m\u001b[0m\u001b[0m\n\u001b[1;32m    221\u001b[0m \u001b[0;34m\u001b[0m\u001b[0m\n\u001b[0;32m--> 222\u001b[0;31m     \u001b[0;32mreturn\u001b[0m \u001b[0mtranspile_circuit\u001b[0m\u001b[0;34m(\u001b[0m\u001b[0mcircuit\u001b[0m\u001b[0;34m,\u001b[0m \u001b[0mtranspile_config\u001b[0m\u001b[0;34m)\u001b[0m\u001b[0;34m\u001b[0m\u001b[0;34m\u001b[0m\u001b[0m\n\u001b[0m\u001b[1;32m    223\u001b[0m \u001b[0;34m\u001b[0m\u001b[0m\n\u001b[1;32m    224\u001b[0m \u001b[0;34m\u001b[0m\u001b[0m\n",
      "\u001b[0;32m~/.local/lib/python3.6/site-packages/qiskit/transpiler/transpile_circuit.py\u001b[0m in \u001b[0;36mtranspile_circuit\u001b[0;34m(circuit, transpile_config)\u001b[0m\n\u001b[1;32m     77\u001b[0m         \u001b[0mpass_manager\u001b[0m\u001b[0;34m.\u001b[0m\u001b[0mcallback\u001b[0m \u001b[0;34m=\u001b[0m \u001b[0mtranspile_config\u001b[0m\u001b[0;34m.\u001b[0m\u001b[0mcallback\u001b[0m\u001b[0;34m\u001b[0m\u001b[0;34m\u001b[0m\u001b[0m\n\u001b[1;32m     78\u001b[0m \u001b[0;34m\u001b[0m\u001b[0m\n\u001b[0;32m---> 79\u001b[0;31m     \u001b[0mout_circuit\u001b[0m \u001b[0;34m=\u001b[0m \u001b[0mpass_manager\u001b[0m\u001b[0;34m.\u001b[0m\u001b[0mrun\u001b[0m\u001b[0;34m(\u001b[0m\u001b[0mcircuit\u001b[0m\u001b[0;34m)\u001b[0m\u001b[0;34m\u001b[0m\u001b[0;34m\u001b[0m\u001b[0m\n\u001b[0m\u001b[1;32m     80\u001b[0m     \u001b[0mout_circuit\u001b[0m\u001b[0;34m.\u001b[0m\u001b[0mname\u001b[0m \u001b[0;34m=\u001b[0m \u001b[0mtranspile_config\u001b[0m\u001b[0;34m.\u001b[0m\u001b[0moutput_name\u001b[0m\u001b[0;34m\u001b[0m\u001b[0;34m\u001b[0m\u001b[0m\n\u001b[1;32m     81\u001b[0m \u001b[0;34m\u001b[0m\u001b[0m\n",
      "\u001b[0;32m~/.local/lib/python3.6/site-packages/qiskit/transpiler/passmanager.py\u001b[0m in \u001b[0;36mrun\u001b[0;34m(***failed resolving arguments***)\u001b[0m\n\u001b[1;32m    213\u001b[0m         \u001b[0;32mfor\u001b[0m \u001b[0mpassset\u001b[0m \u001b[0;32min\u001b[0m \u001b[0mself\u001b[0m\u001b[0;34m.\u001b[0m\u001b[0mworking_list\u001b[0m\u001b[0;34m:\u001b[0m\u001b[0;34m\u001b[0m\u001b[0;34m\u001b[0m\u001b[0m\n\u001b[1;32m    214\u001b[0m             \u001b[0;32mfor\u001b[0m \u001b[0mpass_\u001b[0m \u001b[0;32min\u001b[0m \u001b[0mpassset\u001b[0m\u001b[0;34m:\u001b[0m\u001b[0;34m\u001b[0m\u001b[0;34m\u001b[0m\u001b[0m\n\u001b[0;32m--> 215\u001b[0;31m                 \u001b[0mdag\u001b[0m \u001b[0;34m=\u001b[0m \u001b[0mself\u001b[0m\u001b[0;34m.\u001b[0m\u001b[0m_do_pass\u001b[0m\u001b[0;34m(\u001b[0m\u001b[0mpass_\u001b[0m\u001b[0;34m,\u001b[0m \u001b[0mdag\u001b[0m\u001b[0;34m,\u001b[0m \u001b[0mpassset\u001b[0m\u001b[0;34m.\u001b[0m\u001b[0moptions\u001b[0m\u001b[0;34m)\u001b[0m\u001b[0;34m\u001b[0m\u001b[0;34m\u001b[0m\u001b[0m\n\u001b[0m\u001b[1;32m    216\u001b[0m \u001b[0;34m\u001b[0m\u001b[0m\n\u001b[1;32m    217\u001b[0m         \u001b[0mcircuit\u001b[0m \u001b[0;34m=\u001b[0m \u001b[0mdag_to_circuit\u001b[0m\u001b[0;34m(\u001b[0m\u001b[0mdag\u001b[0m\u001b[0;34m)\u001b[0m\u001b[0;34m\u001b[0m\u001b[0;34m\u001b[0m\u001b[0m\n",
      "\u001b[0;32m~/.local/lib/python3.6/site-packages/qiskit/transpiler/passmanager.py\u001b[0m in \u001b[0;36m_do_pass\u001b[0;34m(self, pass_, dag, options)\u001b[0m\n\u001b[1;32m    264\u001b[0m         \u001b[0;31m# Run the pass itself, if not already run\u001b[0m\u001b[0;34m\u001b[0m\u001b[0;34m\u001b[0m\u001b[0;34m\u001b[0m\u001b[0m\n\u001b[1;32m    265\u001b[0m         \u001b[0;32mif\u001b[0m \u001b[0mpass_\u001b[0m \u001b[0;32mnot\u001b[0m \u001b[0;32min\u001b[0m \u001b[0mself\u001b[0m\u001b[0;34m.\u001b[0m\u001b[0mvalid_passes\u001b[0m\u001b[0;34m:\u001b[0m\u001b[0;34m\u001b[0m\u001b[0;34m\u001b[0m\u001b[0m\n\u001b[0;32m--> 266\u001b[0;31m             \u001b[0mdag\u001b[0m \u001b[0;34m=\u001b[0m \u001b[0mself\u001b[0m\u001b[0;34m.\u001b[0m\u001b[0m_run_this_pass\u001b[0m\u001b[0;34m(\u001b[0m\u001b[0mpass_\u001b[0m\u001b[0;34m,\u001b[0m \u001b[0mdag\u001b[0m\u001b[0;34m)\u001b[0m\u001b[0;34m\u001b[0m\u001b[0;34m\u001b[0m\u001b[0m\n\u001b[0m\u001b[1;32m    267\u001b[0m \u001b[0;34m\u001b[0m\u001b[0m\n\u001b[1;32m    268\u001b[0m             \u001b[0;31m# update the valid_passes property\u001b[0m\u001b[0;34m\u001b[0m\u001b[0;34m\u001b[0m\u001b[0;34m\u001b[0m\u001b[0m\n",
      "\u001b[0;32m~/.local/lib/python3.6/site-packages/qiskit/transpiler/passmanager.py\u001b[0m in \u001b[0;36m_run_this_pass\u001b[0;34m(self, pass_, dag)\u001b[0m\n\u001b[1;32m    276\u001b[0m             \u001b[0;31m# Measure time if we have a callback or logging set\u001b[0m\u001b[0;34m\u001b[0m\u001b[0;34m\u001b[0m\u001b[0;34m\u001b[0m\u001b[0m\n\u001b[1;32m    277\u001b[0m             \u001b[0mstart_time\u001b[0m \u001b[0;34m=\u001b[0m \u001b[0mtime\u001b[0m\u001b[0;34m(\u001b[0m\u001b[0;34m)\u001b[0m\u001b[0;34m\u001b[0m\u001b[0;34m\u001b[0m\u001b[0m\n\u001b[0;32m--> 278\u001b[0;31m             \u001b[0mnew_dag\u001b[0m \u001b[0;34m=\u001b[0m \u001b[0mpass_\u001b[0m\u001b[0;34m.\u001b[0m\u001b[0mrun\u001b[0m\u001b[0;34m(\u001b[0m\u001b[0mdag\u001b[0m\u001b[0;34m)\u001b[0m\u001b[0;34m\u001b[0m\u001b[0;34m\u001b[0m\u001b[0m\n\u001b[0m\u001b[1;32m    279\u001b[0m             \u001b[0mend_time\u001b[0m \u001b[0;34m=\u001b[0m \u001b[0mtime\u001b[0m\u001b[0;34m(\u001b[0m\u001b[0;34m)\u001b[0m\u001b[0;34m\u001b[0m\u001b[0;34m\u001b[0m\u001b[0m\n\u001b[1;32m    280\u001b[0m             \u001b[0mrun_time\u001b[0m \u001b[0;34m=\u001b[0m \u001b[0mend_time\u001b[0m \u001b[0;34m-\u001b[0m \u001b[0mstart_time\u001b[0m\u001b[0;34m\u001b[0m\u001b[0;34m\u001b[0m\u001b[0m\n",
      "\u001b[0;32m~/.local/lib/python3.6/site-packages/qiskit/transpiler/passes/unroller.py\u001b[0m in \u001b[0;36mrun\u001b[0;34m(self, dag)\u001b[0m\n\u001b[1;32m     62\u001b[0m             \u001b[0;31m# TODO: allow choosing other possible decompositions\u001b[0m\u001b[0;34m\u001b[0m\u001b[0;34m\u001b[0m\u001b[0;34m\u001b[0m\u001b[0m\n\u001b[1;32m     63\u001b[0m             \u001b[0;32mtry\u001b[0m\u001b[0;34m:\u001b[0m\u001b[0;34m\u001b[0m\u001b[0;34m\u001b[0m\u001b[0m\n\u001b[0;32m---> 64\u001b[0;31m                 \u001b[0mrule\u001b[0m \u001b[0;34m=\u001b[0m \u001b[0mnode\u001b[0m\u001b[0;34m.\u001b[0m\u001b[0mop\u001b[0m\u001b[0;34m.\u001b[0m\u001b[0mdefinition\u001b[0m\u001b[0;34m\u001b[0m\u001b[0;34m\u001b[0m\u001b[0m\n\u001b[0m\u001b[1;32m     65\u001b[0m             \u001b[0;32mexcept\u001b[0m \u001b[0mTypeError\u001b[0m \u001b[0;32mas\u001b[0m \u001b[0merr\u001b[0m\u001b[0;34m:\u001b[0m\u001b[0;34m\u001b[0m\u001b[0;34m\u001b[0m\u001b[0m\n\u001b[1;32m     66\u001b[0m                 \u001b[0;32mif\u001b[0m \u001b[0many\u001b[0m\u001b[0;34m(\u001b[0m\u001b[0misinstance\u001b[0m\u001b[0;34m(\u001b[0m\u001b[0mp\u001b[0m\u001b[0;34m,\u001b[0m \u001b[0mParameterExpression\u001b[0m\u001b[0;34m)\u001b[0m \u001b[0;32mfor\u001b[0m \u001b[0mp\u001b[0m \u001b[0;32min\u001b[0m \u001b[0mnode\u001b[0m\u001b[0;34m.\u001b[0m\u001b[0mop\u001b[0m\u001b[0;34m.\u001b[0m\u001b[0mparams\u001b[0m\u001b[0;34m)\u001b[0m\u001b[0;34m:\u001b[0m\u001b[0;34m\u001b[0m\u001b[0;34m\u001b[0m\u001b[0m\n",
      "\u001b[0;32m~/.local/lib/python3.6/site-packages/qiskit/circuit/instruction.py\u001b[0m in \u001b[0;36mdefinition\u001b[0;34m(self)\u001b[0m\n\u001b[1;32m    184\u001b[0m         \u001b[0;34m\"\"\"Return definition in terms of other basic gates.\"\"\"\u001b[0m\u001b[0;34m\u001b[0m\u001b[0;34m\u001b[0m\u001b[0m\n\u001b[1;32m    185\u001b[0m         \u001b[0;32mif\u001b[0m \u001b[0mself\u001b[0m\u001b[0;34m.\u001b[0m\u001b[0m_definition\u001b[0m \u001b[0;32mis\u001b[0m \u001b[0;32mNone\u001b[0m\u001b[0;34m:\u001b[0m\u001b[0;34m\u001b[0m\u001b[0;34m\u001b[0m\u001b[0m\n\u001b[0;32m--> 186\u001b[0;31m             \u001b[0mself\u001b[0m\u001b[0;34m.\u001b[0m\u001b[0m_define\u001b[0m\u001b[0;34m(\u001b[0m\u001b[0;34m)\u001b[0m\u001b[0;34m\u001b[0m\u001b[0;34m\u001b[0m\u001b[0m\n\u001b[0m\u001b[1;32m    187\u001b[0m         \u001b[0;32mreturn\u001b[0m \u001b[0mself\u001b[0m\u001b[0;34m.\u001b[0m\u001b[0m_definition\u001b[0m\u001b[0;34m\u001b[0m\u001b[0;34m\u001b[0m\u001b[0m\n\u001b[1;32m    188\u001b[0m \u001b[0;34m\u001b[0m\u001b[0m\n",
      "\u001b[0;32m~/.local/lib/python3.6/site-packages/qiskit/extensions/unitary.py\u001b[0m in \u001b[0;36m_define\u001b[0;34m(self)\u001b[0m\n\u001b[1;32m    105\u001b[0m         \u001b[0;32melse\u001b[0m\u001b[0;34m:\u001b[0m\u001b[0;34m\u001b[0m\u001b[0;34m\u001b[0m\u001b[0m\n\u001b[1;32m    106\u001b[0m             raise NotImplementedError(\"Not able to generate a subcircuit for \"\n\u001b[0;32m--> 107\u001b[0;31m                                       \"a {}-qubit unitary\".format(self.num_qubits))\n\u001b[0m\u001b[1;32m    108\u001b[0m \u001b[0;34m\u001b[0m\u001b[0m\n\u001b[1;32m    109\u001b[0m \u001b[0;34m\u001b[0m\u001b[0m\n",
      "\u001b[0;31mNotImplementedError\u001b[0m: Not able to generate a subcircuit for a 3-qubit unitary"
     ],
     "ename": "NotImplementedError",
     "evalue": "Not able to generate a subcircuit for a 3-qubit unitary",
     "output_type": "error"
    }
   ],
   "source": [
    "from qiskit import QuantumRegister, QuantumCircuit\n",
    "from qiskit.extensions import XGate, UnitaryGate\n",
    "import qiskit\n",
    "from math import sqrt \n",
    "\n",
    "qr = QuantumRegister(3)\n",
    "circ = QuantumCircuit(qr)\n",
    "circ.append(UnitaryGate([[1/sqrt(8),1/sqrt(8), 1/sqrt(8),1/sqrt(8), 1/sqrt(8),1/sqrt(8), 1/sqrt(8),1/sqrt(8)],\n",
    "[1/sqrt(8),-1/sqrt(8),1/sqrt(8),-1/sqrt(8),1/sqrt(8),-1/sqrt(8),1/sqrt(8),-1/sqrt(8)],\n",
    "[1/sqrt(8),1/sqrt(8),-1/sqrt(8),-1/sqrt(8),1/sqrt(8), 1/sqrt(8),-1/sqrt(8),-1/sqrt(8)],\n",
    "[1/sqrt(8),-1/sqrt(8),-1/sqrt(8),1/sqrt(8), 1/sqrt(8),-1/sqrt(8),-1/sqrt(8),1/sqrt(8)],\n",
    "[1/sqrt(8), 1/sqrt(8),1/sqrt(8), 1/sqrt(8),-1/sqrt(8),-1/sqrt(8),-1/sqrt(8),-1/sqrt(8)],\n",
    "[1/sqrt(8),-1/sqrt(8),1/sqrt(8),-1/sqrt(8),-1/sqrt(8),1/sqrt(8),-1/sqrt(8),1/sqrt(8)],\n",
    "[1/sqrt(8), 1/sqrt(8),-1/sqrt(8),-1/sqrt(8),-1/sqrt(8),-1/sqrt(8),1/sqrt(8), 1/sqrt(8)],\n",
    "[1/sqrt(8),-1/sqrt(8),-1/sqrt(8),1/sqrt(8),-1/sqrt(8),1/sqrt(8), 1/sqrt(8),-1/sqrt(8)]], label=\"iswap\"), [qr[0], qr[1], qr[2]])\n",
    "\n",
    "\n",
    "print(circ)\n",
    "\n",
    "iters = 1\n",
    "counts = fire_ibmq(circ,8192,iters,False,False,backend_name=\"ibmq_vigo\")\n",
    "\n",
    "(mycount,bits) = analyze(counts[0])\n",
    "for b in range(bits):\n",
    "    print (b,float(mycount[b])/8192)\n"
   ],
   "metadata": {
    "collapsed": false,
    "pycharm": {
     "name": "#%%\n",
     "is_executing": false
    }
   }
  },
  {
   "cell_type": "code",
   "execution_count": null,
   "outputs": [],
   "source": [
    "# 2-1 ENCODER + Weights\n",
    "input_ori = [0.9,0.1]\n",
    "input = torch.tensor(input_ori)*2-1\n",
    "w1    = [ 1.0, 1.0]\n",
    "w5    = [ 1.0, 0.0]\n",
    "\n",
    "q_io = qk.QuantumRegister(2,\"io\")\n",
    "q_n0 = qk.QuantumRegister(1,\"neural_0\")\n",
    "q_n1 = qk.QuantumRegister(1,\"neural_1\")\n",
    "c = qk.ClassicalRegister(2,\"reg\")\n",
    "\n",
    "circuit = qk.QuantumCircuit(q_io, q_n0, q_n1, c)\n",
    "\n",
    "\n",
    "SLP_2_encoding(circuit,q_io,q_n0,input)\n",
    "SLP_2_Uw(circuit,q_n0,w1)\n",
    "# circuit.barrier()\n",
    "\n",
    "circuit.h(q_n1)\n",
    "circuit.cz(q_io[1],q_n1)\n",
    "SLP_2_Uw(circuit,q_n1,w5)\n",
    "circuit.barrier()\n",
    "\n",
    "circuit.h(q_n0)\n",
    "circuit.h(q_n1)\n",
    "circuit.x(q_n0)\n",
    "circuit.x(q_n1)\n",
    "\n",
    "circuit.barrier()\n",
    "circuit.measure(q_n0,c[0])\n",
    "circuit.measure(q_n1,c[1])\n",
    "print(circuit)\n",
    "\n"
   ],
   "metadata": {
    "collapsed": false,
    "pycharm": {
     "name": "#%%\n",
     "is_executing": false
    }
   }
  },
  {
   "cell_type": "code",
   "execution_count": null,
   "outputs": [],
   "source": [
    "# 2-1 ENCODER + Weights + 2 layers\n",
    "input_ori = [0.1,0.9]\n",
    "input = torch.tensor(input_ori)*2-1\n",
    "w1    = [ 1.0, 1.0]\n",
    "w5    = [ 1.0, 0.0]\n",
    "\n",
    "q_io = qk.QuantumRegister(2,\"io\")\n",
    "q_n0 = qk.QuantumRegister(1,\"neural_0\")\n",
    "q_n1 = qk.QuantumRegister(1,\"neural_1\")\n",
    "q_n2 = qk.QuantumRegister(1,\"neural_2\")\n",
    "c = qk.ClassicalRegister(1,\"reg\")\n",
    "\n",
    "circuit = qk.QuantumCircuit(q_io, q_n0, q_n1, q_n2, c)\n",
    "\n",
    "\n",
    "SLP_2_encoding(circuit,q_io,q_n0,input)\n",
    "SLP_2_Uw(circuit,q_n0,w1)\n",
    "# circuit.barrier()\n",
    "\n",
    "circuit.h(q_n1)\n",
    "circuit.cz(q_io[1],q_n1)\n",
    "SLP_2_Uw(circuit,q_n1,w5)\n",
    "circuit.barrier()\n",
    "\n",
    "circuit.h(q_n0)\n",
    "circuit.h(q_n1)\n",
    "circuit.x(q_n0)\n",
    "circuit.x(q_n1)\n",
    "circuit.barrier()\n",
    "\n",
    "SLP_2_encoding(circuit,[q_n0,q_n1],q_n2)\n",
    "SLP_2_Uw(circuit,q_n2,w5)\n",
    "\n",
    "circuit.h(q_n2)\n",
    "circuit.x(q_n2)\n",
    "\n",
    "circuit.measure(q_n2,c)\n",
    "# circuit.measure(q_n1,c[1])\n",
    "print(circuit)\n",
    "\n"
   ],
   "metadata": {
    "collapsed": false,
    "pycharm": {
     "name": "#%%\n",
     "is_executing": false
    }
   }
  },
  {
   "cell_type": "code",
   "execution_count": null,
   "outputs": [],
   "source": [
    "input_ori = [0.319,0.869,0.061,0.995]\n",
    "input = 1-torch.tensor(input_ori)*2\n",
    "w5    = [ 1.0, 1.0, 1.0, 1.0]\n",
    "\n",
    "q_io = qk.QuantumRegister(4,\"io\")\n",
    "q_en = qk.QuantumRegister(2,\"encoded\")\n",
    "q_aux = qk.QuantumRegister(1,\"aux\")\n",
    "q_out = qk.QuantumRegister(1,\"out\")\n",
    "c = qk.ClassicalRegister(1,\"reg\")\n",
    "\n",
    "circuit = qk.QuantumCircuit(q_io, q_en, q_aux, q_out, c)\n",
    "\n",
    "SLP_4_encoding(circuit,q_io,q_en,input,q_aux)\n",
    "# reset_qbits(circuit,q_io)\n",
    "SLP_4_Uw(circuit,q_en,w5,q_aux)\n",
    "circuit.barrier()\n",
    "circuit.h(q_en)\n",
    "circuit.x(q_en)\n",
    "\n",
    "circuit.ccx(q_en[0],q_en[1],q_out)\n",
    "circuit.measure(q_out,c)\n",
    "print(circuit)\n",
    "\n",
    "\n",
    "# \n",
    "# print(\"=\"*50)\n",
    "# print(\"Start theoretic:\")\n",
    "# start = time.time() \n",
    "# print(do_slp_via_th(t_input,t_w1))\n"
   ],
   "metadata": {
    "collapsed": false,
    "pycharm": {
     "name": "#%%\n",
     "is_executing": false
    }
   }
  },
  {
   "cell_type": "code",
   "execution_count": null,
   "outputs": [],
   "source": [
    "qc_shots = 1024\n",
    "num_c_reg = 4\n",
    "\n",
    "t_inter = do_slp_via_th(t_input,t_w1)*2-1 \n",
    "t_w2 = torch.tensor([w5])*2-1\n",
    "t_output = do_slp_via_th(t_inter,t_w2) \n",
    "print(t_output)\n",
    "end = time.time()\n",
    "qc_time = end - start\n",
    "print(\"Theoretic elasped time:\",qc_time)"
   ],
   "metadata": {
    "collapsed": false,
    "pycharm": {
     "name": "#%%\n",
     "is_executing": false
    }
   }
  },
  {
   "cell_type": "code",
   "execution_count": null,
   "outputs": [],
   "source": [
    "print(\"=\"*50)\n",
    "print(\"Start simulation:\")\n",
    "start = time.time()        \n",
    "iters = 1\n",
    "counts = fire_ibmq(circuit,qc_shots,iters,True,False)\n",
    "end = time.time()\n",
    "qc_time = end - start\n",
    "\n",
    "(mycount,bits) = analyze(counts[0])\n",
    "for b in range(bits):\n",
    "    print (b,float(mycount[b])/qc_shots)\n",
    "    \n",
    "print(\"From QC:\",counts)\n",
    "print(\"Simulation elasped time:\",qc_time)\n"
   ],
   "metadata": {
    "collapsed": false,
    "pycharm": {
     "name": "#%%\n"
    }
   }
  },
  {
   "cell_type": "code",
   "execution_count": null,
   "outputs": [],
   "source": [
    "print(\"=\"*50)\n",
    "print(\"Start run:\")\n",
    "start = time.time()        \n",
    "iters = 1\n",
    "counts = fire_ibmq(circuit,qc_shots,iters,False,False,backend_name=\"ibmq_16_melbourne\")\n",
    "end = time.time()\n",
    "qc_time = end - start\n",
    "\n",
    "(mycount,bits) = analyze(counts[0])\n",
    "for b in range(bits):\n",
    "    print (b,float(mycount[b])/qc_shots)\n",
    "    \n",
    "print(\"From QC:\",counts)\n",
    "print(\"Simulation elasped time:\",qc_time)\n",
    "\n",
    "\n"
   ],
   "metadata": {
    "collapsed": false,
    "pycharm": {
     "name": "#%%\n",
     "is_executing": false
    }
   }
  },
  {
   "cell_type": "code",
   "execution_count": null,
   "outputs": [],
   "source": [
    "print(\"=\"*50)\n",
    "print(\"Start run:\")\n",
    "start = time.time()        \n",
    "iters = 1\n",
    "counts = fire_ibmq(circuit,qc_shots,iters,False,False,backend_name=\"ibmq_essex\")\n",
    "end = time.time()\n",
    "qc_time = end - start\n",
    "\n",
    "(mycount,bits) = analyze(counts[0])\n",
    "for b in range(bits):\n",
    "    print (b,float(mycount[b])/qc_shots)\n",
    "    \n",
    "print(\"From QC:\",counts)\n",
    "print(\"Simulation elasped time:\",qc_time)\n",
    "\n",
    "\n",
    "print(\"=\"*50)\n",
    "print(\"Start run:\")\n",
    "start = time.time()        \n",
    "iters = 1\n",
    "counts = fire_ibmq(circuit,qc_shots,iters,False,False,backend_name=\"ibmq_london\")\n",
    "end = time.time()\n",
    "qc_time = end - start\n",
    "\n",
    "(mycount,bits) = analyze(counts[0])\n",
    "for b in range(bits):\n",
    "    print (b,float(mycount[b])/qc_shots)\n",
    "\n",
    "print(\"From QC:\",counts)\n",
    "print(\"Simulation elasped time:\",qc_time)\n"
   ],
   "metadata": {
    "collapsed": false,
    "pycharm": {
     "name": "#%%\n",
     "is_executing": false
    }
   }
  },
  {
   "cell_type": "markdown",
   "source": [
    "|   Input   |    Quantum  |   Res  |  Time |\n",
    "|:---------:|:-----------:|:------:|:-----:|\n",
    "| [0.9,0.1] |  theoretic  | 18.00% | 1s    |\n",
    "| [0.9,0.1] |  simulation | 18.16% | 5s    |\n",
    "| [0.9,0.1] |    essex    | 21.88% | 105s  | \n",
    "| [0.9,0.1] |    london   | 19.92% | 92s   |\n",
    "|\n",
    "| [0.8,0.2] |  theoretic  | 32.00% | 5s    |\n",
    "| [0.8,0.2] |  simulation | 30.27% | 5s    |\n",
    "| [0.8,0.2] |    essex    | 35.94% | 124s  | \n",
    "| [0.8,0.2] |    london   | 28.71% | 341s  |\n",
    "|\n",
    "| [0.7,0.3] |  theoretic  | 42.00% | 1s    |\n",
    "| [0.7,0.3] |  simulation | 41.99% | 1s    |\n",
    "| [0.7,0.3] |    essex    | 40.82% | 45s   | \n",
    "| [0.7,0.3] |    london   | 35.74% | 18s   |\n",
    "|\n",
    "| [0.6,0.4] |  theoretic  | 48.00% | 1s    |\n",
    "| [0.6,0.4] |  simulation | 47.75% | 1s    |\n",
    "| [0.6,0.4] |    essex    | 43.26% | 22s   | \n",
    "| [0.6,0.4] |    london   | 43.65% | 44s   |\n",
    "|\n",
    "| [0.5,0.5] |  theoretic  | 50.00% | 1s    |\n",
    "| [0.5,0.5] |  simulation | 49.02% | 1s    |\n",
    "| [0.5,0.5] |    essex    | 44.34% | 164s  | \n",
    "| [0.5,0.5] |    london   | 48.05% | 35s   |\n",
    "\n",
    "\n",
    "\n",
    "|       Input       |    Quantum  |   Res  |  Time |\n",
    "|:-----------------:|:-----------:|:------:|:-----:|\n",
    "| [0.6,0.4,0.3,0.1] |  theoretic  | 28.50% | 1s    |\n",
    "| [0.6,0.4,0.3,0.1] |  simulation | 28.52% | 5s    |\n",
    "| [0.6,0.4,0.3,0.1] |   melbourne | 40.92% | 253s  |"
   ],
   "metadata": {
    "collapsed": false,
    "pycharm": {
     "name": "#%% md\n"
    }
   }
  },
  {
   "cell_type": "code",
   "execution_count": null,
   "outputs": [],
   "source": [
    "print(torch.tensor(1-2*(0.1+0.9-2*0.1*0.9)).acos())\n"
   ],
   "metadata": {
    "collapsed": false,
    "pycharm": {
     "name": "#%%\n",
     "is_executing": false
    }
   }
  },
  {
   "cell_type": "code",
   "execution_count": null,
   "outputs": [],
   "source": [
    "\n",
    "input_ori = [0.1,0.2,0.3,0.4]\n",
    "input_ori = [0.4,0.2,0.7,0.0]\n",
    "input_ori = [random.random(),random.random(),random.random(),random.random()]\n",
    "# input_ori = [0.2250, 0.3050, 0.2250, 0.3050]\n",
    "# input_ori = [0.4141, 0.2688, 0.2312, 0.1932]\n",
    "# input_ori = [0.3924, 0.2127, 0.2247, 0.2099]\n",
    "# input_ori = [0.4170, 0.2226, 0.2284, 0.1938]\n",
    "# input_ori = [0.4072, 0.2137, 0.2262, 0.1990]\n",
    "w1    = [ 0.0, 0.0, 0.0, 0.0]\n",
    "w2    = [ 0.0, 0.0, 0.0, 1.0]\n",
    "w3    = [ 0.0, 0.0, 1.0, 0.0]\n",
    "w4    = [ 0.0, 0.0, 1.0, 1.0]\n",
    "w5    = [ 0.0, 1.0, 0.0, 0.0]\n",
    "w6    = [ 0.0, 1.0, 0.0, 1.0]\n",
    "w7    = [ 0.0, 1.0, 1.0, 0.0]\n",
    "w8    = [ 0.0, 1.0, 1.0, 1.0]\n",
    "w9    = [ 1.0, 0.0, 0.0, 0.0]\n",
    "w10    = [ 1.0, 0.0, 0.0, 1.0]\n",
    "w11    = [ 1.0, 0.0, 1.0, 0.0]\n",
    "w12    = [ 1.0, 0.0, 1.0, 1.0]\n",
    "w13    = [ 1.0, 1.0, 0.0, 0.0]\n",
    "w14    = [ 1.0, 1.0, 0.0, 1.0]\n",
    "w15    = [ 1.0, 1.0, 1.0, 0.0]\n",
    "w16    = [ 1.0, 1.0, 1.0, 1.0]\n",
    "\n",
    "\n",
    "t_w1 = torch.tensor([w1,w2,w3,w4,w5,w6,w7,w8,w9,w10,w11,w12,w13,w14,w15,w16])*2-1\n",
    "\n",
    "for i in range(100):\n",
    "    \n",
    "    input_ori = [random.random(),random.random(),random.random(),random.random()]    \n",
    "    t_input = torch.tensor([input_ori])*2-1\n",
    "    t_output = do_slp_via_th(t_input,t_w1).flatten()\n",
    "    \n",
    "    # input_ori = random.sample(list(t_output),4)\n",
    "    \n",
    "    t_out_mean = t_output.sum()/t_output.shape[0]\n",
    "    \n",
    "    print((t_output-t_out_mean).pow(2).sum()/t_output.shape[0],input_ori)\n",
    "    "
   ],
   "metadata": {
    "collapsed": false,
    "pycharm": {
     "name": "#%%\n"
    }
   }
  }
 ],
 "metadata": {
  "kernelspec": {
   "name": "pycharm-8213722",
   "language": "python",
   "display_name": "PyCharm (qiskit_practice)"
  },
  "language_info": {
   "codemirror_mode": {
    "name": "ipython",
    "version": 2
   },
   "file_extension": ".py",
   "mimetype": "text/x-python",
   "name": "python",
   "nbconvert_exporter": "python",
   "pygments_lexer": "ipython2",
   "version": "2.7.6"
  },
  "pycharm": {
   "stem_cell": {
    "cell_type": "raw",
    "source": [],
    "metadata": {
     "collapsed": false
    }
   }
  }
 },
 "nbformat": 4,
 "nbformat_minor": 0
}