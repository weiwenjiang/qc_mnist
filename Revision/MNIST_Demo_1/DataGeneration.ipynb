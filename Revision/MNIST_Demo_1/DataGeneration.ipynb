{
 "cells": [
  {
   "cell_type": "code",
   "execution_count": 11,
   "metadata": {
    "collapsed": true,
    "pycharm": {
     "is_executing": false
    }
   },
   "outputs": [
    {
     "name": "stdout",
     "text": [
      "====================================================================================================\n",
      "Demo 1 on MNIST. This script is for data generation.\n",
      "\tStart at: 08/05/2020 18:30:07\n",
      "\tProblems and issues, please contact Dr. Weiwen Jiang (wjiang2@nd.edu)\n",
      "\tEnjoy and Good Luck!\n",
      "====================================================================================================\n",
      "\n"
     ],
     "output_type": "stream"
    }
   ],
   "source": [
    "import torch\n",
    "import torchvision\n",
    "from torchvision import datasets\n",
    "import torchvision.transforms as transforms\n",
    "import torch.nn as nn\n",
    "import shutil\n",
    "import os\n",
    "import time\n",
    "import sys\n",
    "from pathlib import Path\n",
    "import functools\n",
    "print = functools.partial(print, flush=True)\n",
    "\n",
    "interest_num = [3,6]\n",
    "img_size = 28\n",
    "# number of subprocesses to use for data loading\n",
    "num_workers = 0\n",
    "# how many samples per batch to load\n",
    "batch_size = 1\n",
    "inference_batch_size = 32\n",
    "\n",
    "print(\"=\"*100)\n",
    "print(\"Demo 1 on MNIST. This script is for data generation.\")\n",
    "print(\"\\tStart at:\",time.strftime(\"%m/%d/%Y %H:%M:%S\"))\n",
    "print(\"\\tProblems and issues, please contact Dr. Weiwen Jiang (wjiang2@nd.edu)\")\n",
    "print(\"\\tEnjoy and Good Luck!\")\n",
    "print(\"=\"*100)\n",
    "print()"
   ]
  },
  {
   "cell_type": "code",
   "execution_count": 9,
   "outputs": [],
   "source": [
    "def modify_target(target):\n",
    "    for j in range(len(target)):\n",
    "        for idx in range(len(interest_num)):\n",
    "            if target[j] == interest_num[idx]:\n",
    "                target[j] = idx\n",
    "                break\n",
    "    \n",
    "    new_target = torch.zeros(target.shape[0],2)\n",
    "        \n",
    "    for i in range(target.shape[0]):        \n",
    "        if target[i].item() == 0:            \n",
    "            new_target[i] = torch.tensor([1,0]).clone()     \n",
    "        else:\n",
    "            new_target[i] = torch.tensor([0,1]).clone()\n",
    "               \n",
    "    return target,new_target\n",
    "\n",
    "def select_num(dataset,interest_num):\n",
    "    labels = dataset.targets #get labels\n",
    "    labels = labels.numpy()\n",
    "    idx = {}\n",
    "    for num in interest_num:\n",
    "        idx[num] = np.where(labels == num)\n",
    "        \n",
    "    fin_idx = idx[interest_num[0]]\n",
    "    for i in range(1,len(interest_num)):           \n",
    "        \n",
    "        fin_idx = (np.concatenate((fin_idx[0],idx[interest_num[i]][0])),)\n",
    "    \n",
    "    fin_idx = fin_idx[0]    \n",
    "    \n",
    "    dataset.targets = labels[fin_idx]\n",
    "    dataset.data = dataset.data[fin_idx]\n",
    "    \n",
    "    # print(dataset.targets.shape)\n",
    "    \n",
    "    dataset.targets,_ = modify_target(dataset.targets)\n",
    "    # print(dataset.targets.shape)\n",
    "    \n",
    "    return dataset\n",
    "\n",
    "def qc_input_trans(dataset):\n",
    "    dataset.data = dataset.data\n",
    "    return dataset\n",
    "\n",
    "\n",
    "class ToQuantumData(object):\n",
    "    def __call__(self, tensor):        \n",
    "        data = tensor                \n",
    "        input_vec = data.view(-1)\n",
    "        vec_len = input_vec.size()[0]\n",
    "        input_matrix = torch.zeros(vec_len,vec_len)\n",
    "        input_matrix[0] = input_vec\n",
    "        input_matrix = input_matrix.transpose(0,1)        \n",
    "        u,s,v = np.linalg.svd(input_matrix)    \n",
    "        output_matrix = torch.tensor(np.dot(u,v))            \n",
    "        output_data = output_matrix[:,0].view(1,img_size,img_size)    \n",
    "        return output_data\n",
    "    \n",
    "\n",
    "class ToQuantumMatrix(object):\n",
    "    def __call__(self, tensor):        \n",
    "        data = tensor                \n",
    "        input_vec = data.view(-1)\n",
    "        vec_len = input_vec.size()[0]\n",
    "        input_matrix = torch.zeros(vec_len,vec_len)\n",
    "        input_matrix[0] = input_vec\n",
    "        input_matrix = input_matrix.transpose(0,1)        \n",
    "        u,s,v = np.linalg.svd(input_matrix)    \n",
    "        output_matrix = torch.tensor(np.dot(u,v))                        \n",
    "        return output_matrix\n",
    "                \n",
    "\n",
    "# convert data to torch.FloatTensor\n",
    "transform = transforms.Compose([transforms.Resize((img_size,img_size)),\n",
    "                                transforms.ToTensor()])\n",
    "# transform = transforms.Compose([transforms.Resize((img_size,img_size)),\n",
    "#                                 transforms.ToTensor(),ToQuantumData()])\n",
    "# transform = transforms.Compose([transforms.Resize((img_size,img_size)),transforms.ToTensor(),transforms.Normalize((0.1307,), (0.3081,))])\n",
    "# choose the training and test datasets\n",
    "\n",
    "# Path to MNIST Dataset\n",
    "train_data = datasets.MNIST(root='../../pytorch/data', train=True,\n",
    "                                   download=True, transform=transform)\n",
    "test_data = datasets.MNIST(root='../../pytorch/data', train=False,\n",
    "                                  download=True, transform=transform)\n",
    "\n",
    "train_data = select_num(train_data,interest_num)\n",
    "test_data =  select_num(test_data,interest_num)\n",
    "\n",
    "# train_data = qc_input_trans(train_data)\n",
    "\n",
    "# imshow(torchvision.utils.make_grid(train_data[0][0]))\n",
    "# \n",
    "# sys.exit(0)\n",
    "\n",
    "# prepare data loaders\n",
    "train_loader = torch.utils.data.DataLoader(train_data, batch_size=batch_size,\n",
    "    num_workers=num_workers, shuffle=True, drop_last=True)\n",
    "test_loader = torch.utils.data.DataLoader(test_data, batch_size=inference_batch_size, \n",
    "    num_workers=num_workers, shuffle=True, drop_last=True)\n",
    "\n",
    "def save_checkpoint(state, is_best, save_path, filename):\n",
    "    filename = os.path.join(save_path, filename)\n",
    "    torch.save(state, filename)\n",
    "    if is_best:\n",
    "        bestname = os.path.join(save_path, 'model_best.tar')\n",
    "        shutil.copyfile(filename, bestname)\n"
   ],
   "metadata": {
    "collapsed": false,
    "pycharm": {
     "name": "#%%\n",
     "is_executing": false
    }
   }
  },
  {
   "cell_type": "code",
   "execution_count": 10,
   "outputs": [
    {
     "data": {
      "text/plain": "<Figure size 432x288 with 1 Axes>",
      "image/png": "[encoded data removed]"
     },
     "metadata": {
      "needs_background": "light"
     },
     "output_type": "display_data"
    },
    {
     "data": {
      "text/plain": "<Figure size 432x288 with 1 Axes>",
      "image/png": "[encoded data removed]"
     },
     "metadata": {
      "needs_background": "light"
     },
     "output_type": "display_data"
    },
    {
     "name": "stdout",
     "text": [
      "0.08625819534063339,-0.28465205430984497,-0.1466389298439026,0.0,-0.060380734503269196,-0.2889649569988251,-0.47010713815689087,-0.01725163869559765,-0.012938729487359524,-0.36659732460975647,-0.5520524382591248,-0.0733194649219513,-0.012938729487359524,-0.2544616758823395,-0.2674003839492798,-0.021564548835158348,\n",
      "0.28465205430984497,0.9254074096679688,-0.038426473736763,0.0,-0.01582266576588154,-0.07572276145219803,-0.1231907531619072,-0.004520761780440807,-0.003390571102499962,-0.0960661843419075,-0.14466437697410583,-0.0192132368683815,-0.003390571102499962,-0.06668122857809067,-0.07007180154323578,-0.0056509519927203655,\n",
      "0.1466389298439026,-0.038426473736763,0.9802045226097107,0.0,-0.008151070214807987,-0.039008695632219315,-0.06346189975738525,-0.0023288773372769356,-0.0017466578865423799,-0.04948864132165909,-0.07452407479286194,-0.009897728450596333,-0.0017466578865423799,-0.034350939095020294,-0.03609759360551834,-0.002911096438765526,\n",
      "0.0,0.0,0.0,1.0,0.0,0.0,0.0,0.0,0.0,0.0,0.0,0.0,0.0,0.0,0.0,0.0,\n",
      "0.060380734503269196,-0.01582266576588154,-0.008151070214807987,0.0,0.9966436624526978,-0.016062403097748756,-0.026131371036171913,-0.0009589494438841939,-0.000719212053809315,-0.02037767507135868,-0.030686382204294205,-0.004075535107403994,-0.000719212053809315,-0.014144503511488438,-0.014863715507090092,-0.001198686775751412,\n",
      "0.2889649569988251,-0.07572276145219803,-0.039008695632219315,0.0,-0.016062403097748756,0.9231299161911011,-0.12505728006362915,-0.004589258227497339,-0.0034419435542076826,-0.09752172976732254,-0.14685626327991486,-0.019504347816109657,-0.0034419435542076826,-0.06769155710935593,-0.07113349437713623,-0.005736572667956352,\n",
      "0.47010713815689087,-0.1231907531619072,-0.06346189975738525,0.0,-0.026131371036171913,-0.12505728006362915,0.79654860496521,-0.0074661062099039555,-0.005599579308182001,-0.15865474939346313,-0.23891539871692657,-0.03173094987869263,-0.005599579308182001,-0.11012505739927292,-0.11572463810443878,-0.009332632645964622,\n",
      "0.01725163869559765,-0.004520761780440807,-0.0023288773372769356,0.0,-0.0009589494438841939,-0.004589258227497339,-0.0074661062099039555,0.9997259974479675,-0.00020548916654661298,-0.005822192877531052,-0.008767537772655487,-0.0011644386686384678,-0.00020548916654661298,-0.004041286651045084,-0.00424677599221468,-0.00034248194424435496,\n",
      "0.012938729487359524,-0.003390571102499962,-0.0017466578865423799,0.0,-0.000719212053809315,-0.0034419435542076826,-0.005599579308182001,-0.00020548916654661298,0.9998458623886108,-0.004366644658148289,-0.006575653329491615,-0.0008733289432711899,-0.0001541168603580445,-0.003030965104699135,-0.003185081761330366,-0.000256861443631351,\n",
      "0.36659732460975647,-0.0960661843419075,-0.04948864132165909,0.0,-0.02037767507135868,-0.09752172976732254,-0.15865474939346313,-0.005822192877531052,-0.004366644658148289,0.8762784004211426,-0.18631017208099365,-0.024744320660829544,-0.004366644658148289,-0.08587734401226044,-0.09024398773908615,-0.0072777410969138145,\n",
      "0.5520524382591248,-0.14466437697410583,-0.07452407479286194,0.0,-0.030686382204294205,-0.14685626327991486,-0.23891539871692657,-0.008767537772655487,-0.006575653329491615,-0.18631017208099365,0.7194387912750244,-0.03726203739643097,-0.006575653329491615,-0.1293211728334427,-0.13589683175086975,-0.010959422215819359,\n",
      "0.0733194649219513,-0.0192132368683815,-0.009897728450596333,0.0,-0.004075535107403994,-0.019504347816109657,-0.03173094987869263,-0.0011644386686384678,-0.0008733289432711899,-0.024744320660829544,-0.03726203739643097,0.9950511455535889,-0.0008733289432711899,-0.017175469547510147,-0.01804879680275917,-0.001455548219382763,\n",
      "0.012938729487359524,-0.003390571102499962,-0.0017466578865423799,0.0,-0.000719212053809315,-0.0034419435542076826,-0.005599579308182001,-0.00020548916654661298,-0.0001541168603580445,-0.004366644658148289,-0.006575653329491615,-0.0008733289432711899,0.9998458623886108,-0.003030965104699135,-0.003185081761330366,-0.000256861443631351,\n",
      "0.2544616758823395,-0.06668122857809067,-0.034350939095020294,0.0,-0.014144503511488438,-0.06769155710935593,-0.11012505739927292,-0.004041286651045084,-0.003030965104699135,-0.08587734401226044,-0.1293211728334427,-0.017175469547510147,-0.003030965104699135,0.9403910040855408,-0.06263994425535202,-0.005051608197391033,\n",
      "0.2674003839492798,-0.07007180154323578,-0.03609759360551834,0.0,-0.014863715507090092,-0.07113349437713623,-0.11572463810443878,-0.00424677599221468,-0.003185081761330366,-0.09024398773908615,-0.13589683175086975,-0.01804879680275917,-0.003185081761330366,-0.06263994425535202,0.9341749548912048,-0.005308469757437706,\n",
      "0.021564548835158348,-0.0056509519927203655,-0.002911096438765526,0.0,-0.001198686775751412,-0.005736572667956352,-0.009332632645964622,-0.00034248194424435496,-0.000256861443631351,-0.0072777410969138145,-0.010959422215819359,-0.001455548219382763,-0.000256861443631351,-0.005051608197391033,-0.005308469757437706,0.9995719194412231,\n"
     ],
     "output_type": "stream"
    }
   ],
   "source": [
    "import matplotlib.pyplot as plt\n",
    "import numpy as np\n",
    "from PIL import Image\n",
    "# functions to show an image\n",
    "from matplotlib import cm\n",
    "\n",
    "\n",
    "def imshow(img):\n",
    "    img = img\n",
    "    npimg = img.numpy()\n",
    "    \n",
    "    plt.imshow(np.transpose(npimg, (1, 2, 0)))    \n",
    "    plt.show()\n",
    "    \n",
    "    image = np.asarray(npimg[0] * 255, np.uint8)    \n",
    "    \n",
    "    im = Image.fromarray(image,mode=\"L\")\n",
    "    im.save(\"32*32.jpg\",cmap=\"gray\") \n",
    "    im = im.resize((4,4),Image.BILINEAR)    \n",
    "    \n",
    "    plt.imshow(im,cmap='gray',)\n",
    "    \n",
    "    trans_to_tensor = transforms.ToTensor()\n",
    "    trans_to_matrix = ToQuantumMatrix()\n",
    "    plt.show()\n",
    "    im.save(\"4*4.jpg\",cmap=\"gray\") \n",
    "    \n",
    "    # print(trans_to_tensor(im))\n",
    "    for row in trans_to_matrix(trans_to_tensor(im)).tolist():\n",
    "        for num in row:\n",
    "            print(num,end=\",\")\n",
    "        print()\n",
    "\n",
    "    \n",
    "for batch_idx, (data, target) in enumerate(train_loader):\n",
    "    torch.set_printoptions(threshold=sys.maxsize)\n",
    "    imshow(torchvision.utils.make_grid(data))\n",
    "    break\n",
    "\n",
    "\n",
    "\n"
   ],
   "metadata": {
    "collapsed": false,
    "pycharm": {
     "name": "#%%\n",
     "is_executing": false
    }
   }
  }
 ],
 "metadata": {
  "kernelspec": {
   "name": "pycharm-8213722",
   "language": "python",
   "display_name": "PyCharm (qiskit_practice)"
  },
  "language_info": {
   "codemirror_mode": {
    "name": "ipython",
    "version": 2
   },
   "file_extension": ".py",
   "mimetype": "text/x-python",
   "name": "python",
   "nbconvert_exporter": "python",
   "pygments_lexer": "ipython2",
   "version": "2.7.6"
  },
  "pycharm": {
   "stem_cell": {
    "cell_type": "raw",
    "source": [],
    "metadata": {
     "collapsed": false
    }
   }
  }
 },
 "nbformat": 4,
 "nbformat_minor": 0
}