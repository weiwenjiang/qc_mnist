{
 "cells": [
  {
   "cell_type": "code",
   "execution_count": 4,
   "metadata": {
    "collapsed": true,
    "pycharm": {
     "is_executing": false
    }
   },
   "outputs": [
    {
     "name": "stdout",
     "text": [
      "====================================================================================================\n",
      "Demo 1 on MNIST. This script is for data generation.\n",
      "\tStart at: 12/30/2020 16:22:51\n",
      "\tProblems and issues, please contact Dr. Weiwen Jiang (wjiang2@nd.edu)\n",
      "\tEnjoy and Good Luck!\n",
      "====================================================================================================\n",
      "\n"
     ],
     "output_type": "stream"
    }
   ],
   "source": [
    "import torch\n",
    "import torchvision\n",
    "from torchvision import datasets\n",
    "import torchvision.transforms as transforms\n",
    "import torch.nn as nn\n",
    "import shutil\n",
    "import os\n",
    "import time\n",
    "import sys\n",
    "from pathlib import Path\n",
    "import functools\n",
    "import numpy as np\n",
    "print = functools.partial(print, flush=True)\n",
    "\n",
    "interest_num = [3,6]\n",
    "img_size = 28\n",
    "# number of subprocesses to use for data loading\n",
    "num_workers = 0\n",
    "# how many samples per batch to load\n",
    "batch_size = 1\n",
    "inference_batch_size = 32\n",
    "\n",
    "print(\"=\"*100)\n",
    "print(\"Demo 1 on MNIST. This script is for data generation.\")\n",
    "print(\"\\tStart at:\",time.strftime(\"%m/%d/%Y %H:%M:%S\"))\n",
    "print(\"\\tProblems and issues, please contact Dr. Weiwen Jiang (wjiang2@nd.edu)\")\n",
    "print(\"\\tEnjoy and Good Luck!\")\n",
    "print(\"=\"*100)\n",
    "print()"
   ]
  },
  {
   "cell_type": "code",
   "execution_count": 6,
   "outputs": [
    {
     "name": "stdout",
     "text": [
      "Done\n"
     ],
     "output_type": "stream"
    }
   ],
   "source": [
    "def modify_target(target):\n",
    "    for j in range(len(target)):\n",
    "        for idx in range(len(interest_num)):\n",
    "            if target[j] == interest_num[idx]:\n",
    "                target[j] = idx\n",
    "                break\n",
    "    \n",
    "    new_target = torch.zeros(target.shape[0],2)\n",
    "        \n",
    "    for i in range(target.shape[0]):        \n",
    "        if target[i].item() == 0:            \n",
    "            new_target[i] = torch.tensor([1,0]).clone()     \n",
    "        else:\n",
    "            new_target[i] = torch.tensor([0,1]).clone()\n",
    "               \n",
    "    return target,new_target\n",
    "\n",
    "def select_num(dataset,interest_num):\n",
    "    labels = dataset.targets #get labels\n",
    "    labels = labels.numpy()\n",
    "    idx = {}\n",
    "    for num in interest_num:\n",
    "        idx[num] = np.where(labels == num)\n",
    "        \n",
    "    fin_idx = idx[interest_num[0]]\n",
    "    for i in range(1,len(interest_num)):           \n",
    "        \n",
    "        fin_idx = (np.concatenate((fin_idx[0],idx[interest_num[i]][0])),)\n",
    "    \n",
    "    fin_idx = fin_idx[0]    \n",
    "    \n",
    "    dataset.targets = labels[fin_idx]\n",
    "    dataset.data = dataset.data[fin_idx]\n",
    "    \n",
    "    # print(dataset.targets.shape)\n",
    "    \n",
    "    dataset.targets,_ = modify_target(dataset.targets)\n",
    "    # print(dataset.targets.shape)\n",
    "    \n",
    "    return dataset\n",
    "\n",
    "def qc_input_trans(dataset):\n",
    "    dataset.data = dataset.data\n",
    "    return dataset\n",
    "\n",
    "\n",
    "class ToQuantumData(object):\n",
    "    def __call__(self, tensor):        \n",
    "        data = tensor                \n",
    "        input_vec = data.view(-1)\n",
    "        vec_len = input_vec.size()[0]\n",
    "        input_matrix = torch.zeros(vec_len,vec_len)\n",
    "        input_matrix[0] = input_vec\n",
    "        input_matrix = input_matrix.transpose(0,1)        \n",
    "        u,s,v = np.linalg.svd(input_matrix)    \n",
    "        output_matrix = torch.tensor(np.dot(u,v))            \n",
    "        output_data = output_matrix[:,0].view(1,img_size,img_size)    \n",
    "        return output_data\n",
    "    \n",
    "\n",
    "class ToQuantumMatrix(object):\n",
    "    def __call__(self, tensor):        \n",
    "        data = tensor                \n",
    "        input_vec = data.view(-1)\n",
    "        vec_len = input_vec.size()[0]\n",
    "        input_matrix = torch.zeros(vec_len,vec_len)\n",
    "        input_matrix[0] = input_vec\n",
    "        input_matrix = input_matrix.transpose(0,1)        \n",
    "        u,s,v = np.linalg.svd(input_matrix)    \n",
    "        output_matrix = torch.tensor(np.dot(u,v))                        \n",
    "        return output_matrix\n",
    "                \n",
    "\n",
    "# convert data to torch.FloatTensor\n",
    "transform = transforms.Compose([transforms.Resize((img_size,img_size)),\n",
    "                                transforms.ToTensor()])\n",
    "# transform = transforms.Compose([transforms.Resize((img_size,img_size)),\n",
    "#                                 transforms.ToTensor(),ToQuantumData()])\n",
    "# transform = transforms.Compose([transforms.Resize((img_size,img_size)),transforms.ToTensor(),transforms.Normalize((0.1307,), (0.3081,))])\n",
    "# choose the training and test datasets\n",
    "\n",
    "# Path to MNIST Dataset\n",
    "train_data = datasets.MNIST(root='../../pytorch/data', train=True,\n",
    "                                   download=True, transform=transform)\n",
    "test_data = datasets.MNIST(root='../../pytorch/data', train=False,\n",
    "                                  download=True, transform=transform)\n",
    "\n",
    "train_data = select_num(train_data,interest_num)\n",
    "test_data =  select_num(test_data,interest_num)\n",
    "\n",
    "# train_data = qc_input_trans(train_data)\n",
    "\n",
    "# imshow(torchvision.utils.make_grid(train_data[0][0]))\n",
    "# \n",
    "# sys.exit(0)\n",
    "\n",
    "# prepare data loaders\n",
    "train_loader = torch.utils.data.DataLoader(train_data, batch_size=batch_size,\n",
    "    num_workers=num_workers, shuffle=True, drop_last=True)\n",
    "test_loader = torch.utils.data.DataLoader(test_data, batch_size=inference_batch_size, \n",
    "    num_workers=num_workers, shuffle=True, drop_last=True)\n",
    "\n",
    "def save_checkpoint(state, is_best, save_path, filename):\n",
    "    filename = os.path.join(save_path, filename)\n",
    "    torch.save(state, filename)\n",
    "    if is_best:\n",
    "        bestname = os.path.join(save_path, 'model_best.tar')\n",
    "        shutil.copyfile(filename, bestname)\n",
    "\n",
    "print(\"Done\")"
   ],
   "metadata": {
    "collapsed": false,
    "pycharm": {
     "name": "#%%\n",
     "is_executing": false
    }
   }
  },
  {
   "cell_type": "code",
   "execution_count": 7,
   "outputs": [
    {
     "data": {
      "text/plain": "<Figure size 432x288 with 1 Axes>",
      "image/png": "[encoded data removed]"
     },
     "metadata": {
      "needs_background": "light"
     },
     "output_type": "display_data"
    },
    {
     "data": {
      "text/plain": "<Figure size 432x288 with 1 Axes>",
      "image/png": "[encoded data removed]"
     },
     "metadata": {
      "needs_background": "light"
     },
     "output_type": "display_data"
    },
    {
     "name": "stdout",
     "text": [
      "0.0,-0.01852734573185444,-0.30878907442092896,-0.030878908932209015,0.0,-0.296437531709671,-0.4137773811817169,-0.01235156413167715,-0.03705469146370888,-0.592875063419342,-0.4199531674385071,-0.01852734573185444,-0.01852734573185444,-0.29026174545288086,-0.17292188107967377,-0.006175782065838575,\n",
      "0.01852734573185444,0.9996567368507385,-0.0057210419327020645,-0.0005721041816286743,0.0,-0.005492200143635273,-0.007666196208447218,-0.00022884168720338494,-0.0006865250179544091,-0.010984400287270546,-0.007780617102980614,-0.00034326250897720456,-0.00034326250897720456,-0.005377779249101877,-0.003203783417120576,-0.00011442084360169247,\n",
      "0.30878907442092896,-0.0057210419327020645,0.9046493172645569,-0.009535069577395916,0.0,-0.09153667092323303,-0.12776993215084076,-0.0038140281103551388,-0.011442083865404129,-0.18307334184646606,-0.129676952958107,-0.0057210419327020645,-0.0057210419327020645,-0.0896296575665474,-0.05339638888835907,-0.0019070140551775694,\n",
      "0.030878908932209015,-0.0005721041816286743,-0.009535069577395916,0.9990465044975281,0.0,-0.009153666906058788,-0.01277699414640665,-0.00038140281685627997,-0.0011442083632573485,-0.018307333812117577,-0.012967695482075214,-0.0005721041816286743,-0.0005721041816286743,-0.008962965570390224,-0.005339639261364937,-0.00019070140842813998,\n",
      "0.0,0.0,0.0,0.0,1.0,0.0,0.0,0.0,0.0,0.0,0.0,0.0,0.0,0.0,0.0,0.0,\n",
      "0.296437531709671,-0.005492200143635273,-0.09153667092323303,-0.009153666906058788,0.0,0.9121248126029968,-0.12265913933515549,-0.003661466995254159,-0.010984400287270546,-0.17575040459632874,-0.12448987364768982,-0.005492200143635273,-0.005492200143635273,-0.08604446798563004,-0.051260534673929214,-0.0018307334976270795,\n",
      "0.4137773811817169,-0.007666196208447218,-0.12776993215084076,-0.01277699414640665,0.0,-0.12265913933515549,0.8287882804870605,-0.005110797937959433,-0.015332392416894436,-0.24531827867031097,-0.1737671196460724,-0.007666196208447218,-0.007666196208447218,-0.12010374665260315,-0.07155116647481918,-0.0025553989689797163,\n",
      "0.01235156413167715,-0.00022884168720338494,-0.0038140281103551388,-0.00038140281685627997,0.0,-0.003661466995254159,-0.005110797937959433,0.999847412109375,-0.00045768337440676987,-0.007322933990508318,-0.005187078379094601,-0.00022884168720338494,-0.00022884168720338494,-0.0035851863212883472,-0.0021358556114137173,-7.628056482644752e-05,\n",
      "0.03705469146370888,-0.0006865250179544091,-0.011442083865404129,-0.0011442083632573485,0.0,-0.010984400287270546,-0.015332392416894436,-0.00045768337440676987,0.9986269474029541,-0.021968800574541092,-0.015561234205961227,-0.0006865250179544091,-0.0006865250179544091,-0.010755558498203754,-0.006407566834241152,-0.00022884168720338494,\n",
      "0.592875063419342,-0.010984400287270546,-0.18307334184646606,-0.018307333812117577,0.0,-0.17575040459632874,-0.24531827867031097,-0.007322933990508318,-0.021968800574541092,0.6484991908073425,-0.24897974729537964,-0.010984400287270546,-0.010984400287270546,-0.17208893597126007,-0.10252106934785843,-0.003661466995254159,\n",
      "0.4199531674385071,-0.007780617102980614,-0.129676952958107,-0.012967695482075214,0.0,-0.12448987364768982,-0.1737671196460724,-0.005187078379094601,-0.015561234205961227,-0.24897974729537964,0.8236393332481384,-0.007780617102980614,-0.007780617102980614,-0.12189633399248123,-0.07261909544467926,-0.0025935391895473003,\n",
      "0.01852734573185444,-0.00034326250897720456,-0.0057210419327020645,-0.0005721041816286743,0.0,-0.005492200143635273,-0.007666196208447218,-0.00022884168720338494,-0.0006865250179544091,-0.010984400287270546,-0.007780617102980614,0.9996567368507385,-0.00034326250897720456,-0.005377779249101877,-0.003203783417120576,-0.00011442084360169247,\n",
      "0.01852734573185444,-0.00034326250897720456,-0.0057210419327020645,-0.0005721041816286743,0.0,-0.005492200143635273,-0.007666196208447218,-0.00022884168720338494,-0.0006865250179544091,-0.010984400287270546,-0.007780617102980614,-0.00034326250897720456,0.9996567368507385,-0.005377779249101877,-0.003203783417120576,-0.00011442084360169247,\n",
      "0.29026174545288086,-0.005377779249101877,-0.0896296575665474,-0.008962965570390224,0.0,-0.08604446798563004,-0.12010374665260315,-0.0035851863212883472,-0.010755558498203754,-0.17208893597126007,-0.12189633399248123,-0.005377779249101877,-0.005377779249101877,0.915748119354248,-0.05019260570406914,-0.0017925931606441736,\n",
      "0.17292188107967377,-0.003203783417120576,-0.05339638888835907,-0.005339639261364937,0.0,-0.051260534673929214,-0.07155116647481918,-0.0021358556114137173,-0.006407566834241152,-0.10252106934785843,-0.07261909544467926,-0.003203783417120576,-0.003203783417120576,-0.05019260570406914,0.9700980186462402,-0.0010679278057068586,\n",
      "0.006175782065838575,-0.00011442084360169247,-0.0019070140551775694,-0.00019070140842813998,0.0,-0.0018307334976270795,-0.0025553989689797163,-7.628056482644752e-05,-0.00022884168720338494,-0.003661466995254159,-0.0025935391895473003,-0.00011442084360169247,-0.00011442084360169247,-0.0017925931606441736,-0.0010679278057068586,0.9999618530273438,\n"
     ],
     "output_type": "stream"
    }
   ],
   "source": [
    "import matplotlib.pyplot as plt\n",
    "import numpy as np\n",
    "from PIL import Image\n",
    "# functions to show an image\n",
    "from matplotlib import cm\n",
    "\n",
    "\n",
    "def imshow(img):\n",
    "    img = img\n",
    "    npimg = img.numpy()\n",
    "    \n",
    "    \n",
    "    plt.imshow(np.transpose(npimg, (1, 2, 0)))    \n",
    "    plt.show()\n",
    "    \n",
    "    image = np.asarray(npimg[0] * 255, np.uint8)    \n",
    "    \n",
    "    im = Image.fromarray(image,mode=\"L\")\n",
    "    im.save(\"32*32.jpg\",cmap=\"gray\") \n",
    "    im = im.resize((4,4),Image.BILINEAR)    \n",
    "    \n",
    "    plt.imshow(im,cmap='gray',)\n",
    "    \n",
    "    trans_to_tensor = transforms.ToTensor()\n",
    "    trans_to_matrix = ToQuantumMatrix()\n",
    "    plt.show()\n",
    "    im.save(\"4*4.jpg\",cmap=\"gray\") \n",
    "    \n",
    "    # print(trans_to_tensor(im))\n",
    "    for row in trans_to_matrix(trans_to_tensor(im)).tolist():\n",
    "        for num in row:\n",
    "            print(num,end=\",\")\n",
    "        print()\n",
    "\n",
    "    \n",
    "for batch_idx, (data, target) in enumerate(train_loader):\n",
    "    torch.set_printoptions(threshold=sys.maxsize)\n",
    "    imshow(torchvision.utils.make_grid(data))\n",
    "    break\n",
    "\n",
    "\n",
    "\n"
   ],
   "metadata": {
    "collapsed": false,
    "pycharm": {
     "name": "#%%\n",
     "is_executing": false
    }
   }
  }
 ],
 "metadata": {
  "kernelspec": {
   "name": "pycharm-8213722",
   "language": "python",
   "display_name": "PyCharm (qiskit_practice)"
  },
  "language_info": {
   "codemirror_mode": {
    "name": "ipython",
    "version": 2
   },
   "file_extension": ".py",
   "mimetype": "text/x-python",
   "name": "python",
   "nbconvert_exporter": "python",
   "pygments_lexer": "ipython2",
   "version": "2.7.6"
  },
  "pycharm": {
   "stem_cell": {
    "cell_type": "raw",
    "source": [],
    "metadata": {
     "collapsed": false
    }
   }
  }
 },
 "nbformat": 4,
 "nbformat_minor": 0
}