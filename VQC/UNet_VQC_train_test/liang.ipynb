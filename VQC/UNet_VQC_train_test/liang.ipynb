{
 "cells": [
  {
   "cell_type": "code",
   "execution_count": 16,
   "source": [
    "try:\n",
    "    import torch  \n",
    "    print('Module torch was installed')\n",
    "except ImportError:    \n",
    "    print(\"Installinng torch 1.8.1\")\n",
    "    !pip install -q torch==1.8.1\n",
    "    import qiskit  \n",
    "\n",
    "try:\n",
    "    import torchvision  \n",
    "    print('Module torchvision was installed')\n",
    "except ImportError:    \n",
    "    print(\"Installinng torchvision 0.4.0\")\n",
    "    !pip install -q torchvision==0.4.0\n",
    "    import qiskit  \n",
    "\n",
    "try:\n",
    "    import qiskit  \n",
    "    print('Module qiskit was installed')\n",
    "except ImportError:    \n",
    "    print(\"Installinng qiskit 0.14.0\")\n",
    "    !pip install -q qiskit==0.14.0\n",
    "    import qiskit  \n",
    "\n",
    "\n",
    "import torch\n",
    "import torchvision\n",
    "import numpy as np\n",
    "import matplotlib.pyplot as plt\n",
    "from PIL import Image\n",
    "\n",
    "\n",
    "import sys\n",
    "import functools\n",
    "from qiskit import  QuantumCircuit, ClassicalRegister\n",
    "from qiskit import Aer, execute\n",
    "import math\n",
    "\n",
    "from lib_qiskit import *\n",
    "from lib_dataloader import *\n",
    "\n",
    "import qiskit\n",
    "\n",
    "print = functools.partial(print, flush=True)\n"
   ],
   "outputs": [
    {
     "output_type": "stream",
     "name": "stdout",
     "text": [
      "Module torch was installed\n",
      "Module torchvision was installed\n",
      "Module qiskit was installed\n"
     ]
    }
   ],
   "metadata": {}
  },
  {
   "cell_type": "code",
   "execution_count": 17,
   "source": [
    "#define parameter\n",
    "input_data_num =20\n",
    "init_weight = torch.tensor([[-1,1,1,1]],dtype=torch.double)\n",
    "threshold = 0.2\n",
    "def binary(input):\n",
    "    output = input.new(input.size())\n",
    "    output[input >= threshold] = 1\n",
    "    output[input < threshold] = 0\n",
    "    return output\n",
    "\n",
    "#get correct result with no error\n",
    "input_data = torch.rand(input_data_num,4,dtype=torch.double)\n",
    "input_data_quantum_matrix = []\n",
    "for i in range(input_data_num):\n",
    "    quantum_matrix =to_quantum_matrix(input_data[i])\n",
    "    n1_q_gates,n1_idx =ULayerCircuit.qf_map_extract_from_weight(init_weight[0])\n",
    "    input_data_quantum_matrix.append(quantum_matrix[:, 0].view(-1))\n",
    "\n",
    "input_data_quantum_matrix = torch.stack(input_data_quantum_matrix)\n",
    "# print(input_data_quantum_matrix.t()[0:4].t())\n",
    "# print(input_data_quantum_matrix)\n",
    "correct_result =torch.mm(init_weight,input_data_quantum_matrix.t())\n",
    "correct_result = correct_result*correct_result/4\n",
    "# print(correct_result)\n",
    "correct_result_binary = binary(correct_result.t())\n",
    "print(correct_result_binary.t())\n"
   ],
   "outputs": [
    {
     "output_type": "stream",
     "name": "stdout",
     "text": [
      "tensor([[0.3411, 0.0945, 0.2994, 0.4900, 0.1172, 0.0202, 0.0385, 0.5631, 0.3921,\n",
      "         0.0155, 0.5901, 0.1363, 0.2347, 0.0415, 0.7369, 0.3684, 0.1482, 0.2983,\n",
      "         0.1298, 0.1765]], dtype=torch.float64)\n",
      "tensor([[1.],\n",
      "        [0.],\n",
      "        [1.],\n",
      "        [1.],\n",
      "        [0.],\n",
      "        [0.],\n",
      "        [0.],\n",
      "        [1.],\n",
      "        [1.],\n",
      "        [0.],\n",
      "        [1.],\n",
      "        [0.],\n",
      "        [1.],\n",
      "        [0.],\n",
      "        [1.],\n",
      "        [1.],\n",
      "        [0.],\n",
      "        [1.],\n",
      "        [0.],\n",
      "        [0.]], dtype=torch.float64)\n"
     ]
    }
   ],
   "metadata": {}
  },
  {
   "cell_type": "code",
   "execution_count": 18,
   "source": [
    "######################################################\n",
    "#example of u-layer\n",
    "i = 0\n",
    "#transform input_data into u-Mat\n",
    "quantum_matrix =to_quantum_matrix(input_data[i])\n",
    "\n",
    "#generate u-layer\n",
    "#define your input and output number\n",
    "u_layer = ULayerCircuit(4,1) \n",
    "#init circuit\n",
    "circuit = QuantumCircuit()\n",
    "#add input qubit to your circuit\n",
    "inps = u_layer.add_in_qubits(circuit)\n",
    "\n",
    "#add output qubit to your circuit\n",
    "u_layer_out_qubits = u_layer.add_out_qubits(circuit)\n",
    "\n",
    "#add ulayer to your circuit\n",
    "u_layer.forward(circuit,quantum_matrix,init_weight,inps,u_layer_out_qubits)\n",
    "\n",
    "#measure\n",
    "c_reg = ClassicalRegister(1,\"reg\")\n",
    "circuit.add_register(c_reg)\n",
    "circuit.measure(u_layer_out_qubits[0],c_reg[0])\n",
    "\n",
    "#get the result\n",
    "qc_shots=8192\n",
    "opt_counts = fire_ibmq(circuit,qc_shots,True)\n",
    "(opt_mycount,bits) = analyze(opt_counts)\n",
    "prob = float(opt_mycount[bits])/qc_shots\n",
    "\n",
    "print(\"correct result  :\",correct_result_binary[i][0])\n",
    "print(\"Result :\",prob)\n",
    "circuit.draw('mpl',fold=50)\n",
    "\n",
    "\n",
    "######################################################\n",
    "\n"
   ],
   "outputs": [
    {
     "output_type": "stream",
     "name": "stdout",
     "text": [
      "correct result  : tensor(1., dtype=torch.float64)\n",
      "Result : 0.0\n"
     ]
    },
    {
     "output_type": "execute_result",
     "data": {
      "text/plain": [
       "<Figure size 731.806x264.88 with 1 Axes>"
      ],
      "image/png": "[encoded data removed]"
     },
     "metadata": {},
     "execution_count": 18
    }
   ],
   "metadata": {}
  },
  {
   "cell_type": "code",
   "execution_count": 19,
   "source": [
    "circuit_result = []\n",
    "for i in range(input_data_num):\n",
    "    quantum_matrix =to_quantum_matrix(input_data[i])\n",
    "    \n",
    "    #generate u-layer\n",
    "    #define your input and output number\n",
    "    u_layer = ULayerCircuit(4,1) \n",
    "    #init circuit\n",
    "    circuit = QuantumCircuit()\n",
    "    #add input qubit to your circuit\n",
    "    inps = u_layer.add_in_qubits(circuit)\n",
    "    \n",
    "    #add output qubit to your circuit\n",
    "    u_layer_out_qubits = u_layer.add_out_qubits(circuit)\n",
    "    \n",
    "    #add ulayer to your circuit\n",
    "    u_layer.forward(circuit,quantum_matrix,init_weight,inps,u_layer_out_qubits)\n",
    "    \n",
    "    #measure\n",
    "    c_reg = ClassicalRegister(1,\"reg\")\n",
    "    circuit.add_register(c_reg)\n",
    "    circuit.measure(u_layer_out_qubits[0],c_reg[0])\n",
    "    \n",
    "    #get the result\n",
    "    qc_shots=100000\n",
    "    opt_counts = fire_ibmq(circuit,qc_shots,True)\n",
    "    opt_class_prob = []\n",
    "    (opt_mycount,bits) = analyze(opt_counts)\n",
    "    for b in range(bits):\n",
    "        opt_class_prob.append(float(opt_mycount[b])/qc_shots)\n",
    "    if opt_class_prob[0] >= threshold :\n",
    "        circuit_result.append(1)\n",
    "    else:\n",
    "        circuit_result.append(0)\n",
    "\n",
    "circuit_result_tensor = torch.tensor(circuit_result,dtype=torch.double)\n",
    "\n",
    "print(\"correct_result_binary:\",correct_result_binary.t())\n",
    "print(\"circuit_result_tensor:\",circuit_result_tensor)"
   ],
   "outputs": [
    {
     "output_type": "stream",
     "name": "stdout",
     "text": [
      "correct_result_binary: tensor([[1., 0., 1., 1., 0., 0., 0., 1., 1., 0., 1., 0., 1., 0., 1., 1., 0., 1.,\n",
      "         0., 0.]], dtype=torch.float64)\n",
      "circuit_result_tensor: tensor([1., 0., 1., 1., 1., 0., 0., 1., 1., 0., 1., 1., 1., 0., 1., 1., 1., 1.,\n",
      "        1., 1.], dtype=torch.float64)\n"
     ]
    }
   ],
   "metadata": {}
  }
 ],
 "metadata": {
  "orig_nbformat": 4,
  "language_info": {
   "name": "python",
   "version": "3.8.10",
   "mimetype": "text/x-python",
   "codemirror_mode": {
    "name": "ipython",
    "version": 3
   },
   "pygments_lexer": "ipython3",
   "nbconvert_exporter": "python",
   "file_extension": ".py"
  },
  "kernelspec": {
   "name": "python3",
   "display_name": "Python 3.8.10 64-bit ('qf': conda)"
  },
  "interpreter": {
   "hash": "f24048f0d5bdb0ff49c5e7c8a9899a65bc3ab13b0f32660a2227453ca6b95fd8"
  }
 },
 "nbformat": 4,
 "nbformat_minor": 2
}