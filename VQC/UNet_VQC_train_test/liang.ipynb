{
  "nbformat": 4,
  "nbformat_minor": 0,
  "metadata": {
    "orig_nbformat": 4,
    "language_info": {
      "name": "python",
      "version": "3.8.10",
      "mimetype": "text/x-python",
      "codemirror_mode": {
        "name": "ipython",
        "version": 3
      },
      "pygments_lexer": "ipython3",
      "nbconvert_exporter": "python",
      "file_extension": ".py"
    },
    "kernelspec": {
      "name": "python3",
      "display_name": "Python 3.8.10 64-bit ('qf': conda)"
    },
    "interpreter": {
      "hash": "f24048f0d5bdb0ff49c5e7c8a9899a65bc3ab13b0f32660a2227453ca6b95fd8"
    },
    "colab": {
      "name": "liang.ipynb",
      "provenance": []
    }
  },
  "cells": [
    {
      "cell_type": "code",
      "metadata": {
        "colab": {
          "base_uri": "https://localhost:8080/"
        },
        "id": "E0DDSuYoBURg",
        "outputId": "6ca7abd9-23d7-491a-cbbb-01b661ce718a"
      },
      "source": [
        "try:\n",
        "    import torch  \n",
        "    print('Module torch was installed')\n",
        "except ImportError:    \n",
        "    print(\"Installinng torch 1.8.1\")\n",
        "    !pip install -q torch==1.8.1\n",
        "try:\n",
        "    import torchvision  \n",
        "    print('Module torchvision was installed')\n",
        "except ImportError:    \n",
        "    print(\"Installinng torchvision 0.4.0\")\n",
        "    !pip install -q torchvision==0.4.0\n",
        "    \n",
        "try:\n",
        "    import qiskit  \n",
        "    print('Module qiskit was installed')\n",
        "except ImportError:    \n",
        "    print(\"Installinng qiskit 0.29.0\")\n",
        "    !pip install -q qiskit==0.29.0\n",
        "import sys\n",
        "!pip install pylatexenc\n",
        "!wget --no-check-certificate 'https://docs.google.com/uc?export=download&id=1VYR5kM8oCGaMXPIq0K1UY7u53a77vmHA' -O codes.tar.gz\n",
        "!tar zxvf /content/codes.tar.gz\n",
        "\n",
        "sys.path.append('/content/libs/')\n",
        "\n"
      ],
      "execution_count": null,
      "outputs": [
        {
          "output_type": "stream",
          "text": [
            "Module torch was installed\n",
            "Module torchvision was installed\n",
            "Module qiskit was installed\n",
            "Requirement already satisfied: pylatexenc in /usr/local/lib/python3.7/dist-packages (2.10)\n",
            "--2021-08-16 05:19:12--  https://docs.google.com/uc?export=download&id=1VYR5kM8oCGaMXPIq0K1UY7u53a77vmHA\n",
            "Resolving docs.google.com (docs.google.com)... 142.250.141.113, 142.250.141.138, 142.250.141.139, ...\n",
            "Connecting to docs.google.com (docs.google.com)|142.250.141.113|:443... connected.\n",
            "HTTP request sent, awaiting response... 302 Moved Temporarily\n",
            "Location: https://doc-00-as-docs.googleusercontent.com/docs/securesc/ha0ro937gcuc7l7deffksulhg5h7mbp1/bipe6ou5d0hk2qedsqd566du9k402l6p/1629091125000/01567206451901200540/*/1VYR5kM8oCGaMXPIq0K1UY7u53a77vmHA?e=download [following]\n",
            "Warning: wildcards not supported in HTTP.\n",
            "--2021-08-16 05:19:13--  https://doc-00-as-docs.googleusercontent.com/docs/securesc/ha0ro937gcuc7l7deffksulhg5h7mbp1/bipe6ou5d0hk2qedsqd566du9k402l6p/1629091125000/01567206451901200540/*/1VYR5kM8oCGaMXPIq0K1UY7u53a77vmHA?e=download\n",
            "Resolving doc-00-as-docs.googleusercontent.com (doc-00-as-docs.googleusercontent.com)... 142.251.2.132, 2607:f8b0:4023:c0d::84\n",
            "Connecting to doc-00-as-docs.googleusercontent.com (doc-00-as-docs.googleusercontent.com)|142.251.2.132|:443... connected.\n",
            "HTTP request sent, awaiting response... 200 OK\n",
            "Length: 46804 (46K) [application/gzip]\n",
            "Saving to: ‘codes.tar.gz’\n",
            "\n",
            "codes.tar.gz        100%[===================>]  45.71K  --.-KB/s    in 0.03s   \n",
            "\n",
            "2021-08-16 05:19:14 (1.64 MB/s) - ‘codes.tar.gz’ saved [46804/46804]\n",
            "\n",
            "libs/\n",
            "libs/best_model/\n",
            "libs/best_model/v_u.tar\n",
            "libs/best_model/u_v.tar\n",
            "libs/training/\n",
            "libs/training/__pycache__/\n",
            "libs/training/__pycache__/lib_dataloader.cpython-38.pyc\n",
            "libs/training/__pycache__/SelfMNIST.cpython-38.pyc\n",
            "libs/training/__pycache__/lib_utils.cpython-38.pyc\n",
            "libs/training/__pycache__/lib_qf.cpython-38.pyc\n",
            "libs/training/__pycache__/lib_bn.cpython-38.pyc\n",
            "libs/training/__pycache__/lib_net.cpython-38.pyc\n",
            "libs/training/__pycache__/lib_vqc.cpython-38.pyc\n",
            "libs/training/exe_mnist.py\n",
            "libs/training/lib_vqc.py\n",
            "libs/training/lib_model_summary.py\n",
            "libs/training/lib_dataloader.py\n",
            "libs/training/lib_qf.py\n",
            "libs/training/lib_utils.py\n",
            "libs/training/lib_net.py\n",
            "libs/training/lib_bn.py\n",
            "libs/training/SelfMNIST.py\n",
            "libs/circuit/\n",
            "libs/circuit/__pycache__/\n",
            "libs/circuit/__pycache__/lib_circuit_vqc.cpython-38.pyc\n",
            "libs/circuit/__pycache__/lib_qiskit.cpython-38.pyc\n",
            "libs/circuit/__pycache__/lib_circuit_base.cpython-38.pyc\n",
            "libs/circuit/__pycache__/lib_circuit_linner_squire.cpython-38.pyc\n",
            "libs/circuit/__pycache__/lib_circuit_linner_square.cpython-38.pyc\n",
            "libs/circuit/__pycache__/lib_gate.cpython-38.pyc\n",
            "libs/circuit/__pycache__/lib_qiskit_commons.cpython-38.pyc\n",
            "libs/circuit/lib_circuit_vqc.py\n",
            "libs/circuit/lib_gate.py\n",
            "libs/circuit/lib_circuit_base.py\n",
            "libs/circuit/lib_circuit_linner_square.py\n",
            "libs/circuit/lib_qiskit_commons.py\n"
          ],
          "name": "stdout"
        }
      ]
    },
    {
      "cell_type": "code",
      "metadata": {
        "id": "te3pPDxLB-2G"
      },
      "source": [
        "import torch\n",
        "import torchvision\n",
        "import numpy as np\n",
        "import matplotlib.pyplot as plt\n",
        "from PIL import Image\n",
        "\n",
        "\n",
        "import sys\n",
        "import functools\n",
        "from qiskit import  QuantumCircuit, ClassicalRegister\n",
        "from qiskit import Aer, execute\n",
        "from qiskit.circuit import Qubit\n",
        "import math\n",
        "\n",
        "from circuit.lib_qiskit_commons import *\n",
        "from circuit.lib_circuit_linner_square import *\n",
        "from training.lib_dataloader import *\n",
        "\n",
        "import qiskit\n",
        "\n",
        "print = functools.partial(print, flush=True)\n",
        "\n",
        "from qiskit import Aer, execute,IBMQ,transpile\n",
        "from qiskit.providers.aer.noise.errors import pauli_error, depolarizing_error\n",
        "from qiskit.providers.aer.noise import NoiseModel\n",
        "from qiskit.visualization import *\n",
        "from qiskit import circuit\n",
        "\n",
        "\n",
        "####TODO:change simulator,add errors.####\n",
        "def my_ibmq(circuit,shots,Simulation = True,backend_name='ibmq_essex'):     \n",
        "    if not Simulation:\n",
        "        provider = IBMQ.get_provider('ibm-q-academic')\n",
        "        backend = provider.get_backend(backend_name)\n",
        "    else:\n",
        "        backend = Aer.get_backend('qasm_simulator')\n",
        "    # circuit.save_statevector()\n",
        "    p_gate = 0.01\n",
        "    x_error_1 = pauli_error([('X',p_gate), ('I', 1 - p_gate)])\n",
        "    z_error_1 = pauli_error([('Z',p_gate), ('I', 1 - p_gate)])\n",
        "\n",
        "    error_1 = x_error_1.compose(z_error_1)\n",
        "    error_2 = error_1.tensor(error_1)\n",
        "    error_3 = error_2.tensor(error_1)\n",
        "\n",
        "    noise_model = NoiseModel()\n",
        "    noise_model.add_all_qubit_quantum_error(error_1, [\"x\"]) # single qubit gate error is applied to x gates\n",
        "    noise_model.add_all_qubit_quantum_error(error_1, [\"z\"]) # single qubit gate error is applied to x gates\n",
        "\n",
        "    noise_model.add_all_qubit_quantum_error(error_2, [\"cx\"]) # two qubit gate error is applied to cx gates\n",
        "    noise_model.add_all_qubit_quantum_error(error_2, [\"cz\"]) # two qubit gate error is applied to cx gates\n",
        "\n",
        "    noise_model.add_all_qubit_quantum_error(error_3, [\"ccx\"])\n",
        "\n",
        "    basis_gates = noise_model.basis_gates\n",
        "    job_ibm_q = execute(circuit, backend, shots=shots, basis_gates=basis_gates, noise_model=noise_model)\n",
        "    if not Simulation:\n",
        "        job_monitor(job_ibm_q)\n",
        "    result_ibm_q = job_ibm_q.result()\n",
        "\n",
        "    counts = result_ibm_q.get_counts()\n",
        "    \n",
        "    return counts"
      ],
      "execution_count": null,
      "outputs": []
    },
    {
      "cell_type": "code",
      "metadata": {
        "id": "nc4HJ29bb4z_"
      },
      "source": [
        "def equa(circuit,in_qubits,out_qubit,aux = []):\n",
        "  for i in range(3):\n",
        "            circuit.h(in_qubits[i])\n",
        "            circuit.x(in_qubits[i])\n",
        "  circuit.barrier()\n",
        "  #first ccx\n",
        "  circuit.cx(in_qubits[0], aux[0])\n",
        "  circuit.cx(in_qubits[0], aux[0])\n",
        "  circuit.cx(in_qubits[1], aux[0])\n",
        "  circuit.cx(in_qubits[1], aux[0])\n",
        "  circuit.cx(in_qubits[0], in_qubits[1])\n",
        "  circuit.cx(in_qubits[0], in_qubits[1])\n",
        "  #second ccx\n",
        "  circuit.cx(in_qubits[2], aux[1])\n",
        "  circuit.cx(in_qubits[2], aux[1])\n",
        "  circuit.cx(aux[0], aux[1])\n",
        "  circuit.cx(aux[0], aux[1])\n",
        "  circuit.cx(in_qubits[2], aux[0])\n",
        "  circuit.cx(in_qubits[2], aux[0])\n",
        "  circuit.cz(aux[1], out_qubit[0])\n",
        "  #third ccx\n",
        "  circuit.cx(in_qubits[2], aux[1])\n",
        "  circuit.cx(in_qubits[2], aux[1])\n",
        "  circuit.cx(aux[0], aux[1])\n",
        "  circuit.cx(aux[0], aux[1])\n",
        "  circuit.cx(in_qubits[2], aux[0])\n",
        "  circuit.cx(in_qubits[2], aux[0])\n",
        "  #fourth ccx\n",
        "  circuit.cx(in_qubits[0], aux[0])\n",
        "  circuit.cx(in_qubits[0], aux[0])\n",
        "  circuit.cx(in_qubits[1], aux[0])\n",
        "  circuit.cx(in_qubits[1], aux[0])\n",
        "  circuit.cx(in_qubits[0], in_qubits[1])\n",
        "  circuit.cx(in_qubits[0], in_qubits[1])        \n"
      ],
      "execution_count": 20,
      "outputs": []
    },
    {
      "cell_type": "code",
      "metadata": {
        "id": "3up5epoRFDUI"
      },
      "source": [
        "def func(circuit,in_qubits,out_qubit,aux = []):\n",
        "  for i in range(3):\n",
        "            circuit.h(in_qubits[i])\n",
        "            circuit.x(in_qubits[i])\n",
        "  circuit.barrier()\n",
        "  #first ccx\n",
        "  circuit.cx(in_qubits[0], aux[0])\n",
        "  circuit.cx(in_qubits[0], aux[0])\n",
        "  circuit.cx(in_qubits[1], aux[0])\n",
        "  circuit.cx(in_qubits[1], aux[0])\n",
        "  circuit.swap(aux[0], in_qubits[1])\n",
        "  circuit.cx(in_qubits[0], in_qubits[1])\n",
        "  circuit.cx(in_qubits[0], in_qubits[1])\n",
        "  #second ccx\n",
        "  circuit.cx(in_qubits[2], aux[1])\n",
        "  circuit.cx(in_qubits[2], aux[1])\n",
        "  circuit.cx(aux[0], aux[1])\n",
        "  circuit.cx(aux[0], aux[1])\n",
        "  circuit.swap(aux[1], in_qubits[2])\n",
        "  circuit.cx(in_qubits[2], aux[0])\n",
        "  circuit.cx(in_qubits[2], aux[0])\n",
        "  circuit.cz(aux[1], out_qubit[0])\n",
        "  #third ccx\n",
        "  circuit.cx(in_qubits[2], aux[1])\n",
        "  circuit.cx(in_qubits[2], aux[1])\n",
        "  circuit.swap(in_qubits[2], aux[1])\n",
        "  circuit.cx(aux[0], aux[1])\n",
        "  circuit.cx(aux[0], aux[1])\n",
        "  circuit.cx(aux[1], in_qubits[2])\n",
        "  circuit.cx(aux[0], aux[1])\n",
        "  circuit.cx(aux[1], in_qubits[2])\n",
        "  circuit.cx(aux[0], aux[1])\n",
        "  circuit.cx(in_qubits[2], aux[0])\n",
        "  circuit.cx(in_qubits[2], aux[0])\n",
        "  #fourth ccx\n",
        "  circuit.swap(in_qubits[1], aux[0])\n",
        "  circuit.cx(in_qubits[0], aux[0])\n",
        "  circuit.cx(in_qubits[0], aux[0])\n",
        "  circuit.cx(in_qubits[1], aux[0])\n",
        "  circuit.cx(in_qubits[1], aux[0])\n",
        "  circuit.cx(aux[0], in_qubits[1])\n",
        "  circuit.cx(in_qubits[0], in_qubits[1])        \n",
        "  circuit.cx(aux[0], in_qubits[1])\n",
        "  circuit.cx(in_qubits[0], in_qubits[1])\n",
        "  circuit.cx(in_qubits[0], in_qubits[1])\n",
        "  circuit.cx(in_qubits[0], in_qubits[1])        \n"
      ],
      "execution_count": 21,
      "outputs": []
    },
    {
      "cell_type": "markdown",
      "metadata": {
        "id": "d96sgIzCAGlm"
      },
      "source": [
        "## define parameters"
      ]
    },
    {
      "cell_type": "code",
      "metadata": {
        "id": "3_b5893lAGlm"
      },
      "source": [
        "#define parameter\n",
        "input_data_num =50\n",
        "init_weight = torch.tensor([[-1,-1,1,1,1,1,1,1]],dtype=torch.double)\n",
        "threshold = 0.2\n",
        "qubit_num = 3\n",
        "\n",
        "def sign(input):\n",
        "    output = input.new(input.size())\n",
        "    output[input >= threshold] = 1\n",
        "    output[input < threshold] = -1\n",
        "    return output"
      ],
      "execution_count": 22,
      "outputs": []
    },
    {
      "cell_type": "markdown",
      "metadata": {
        "id": "Lbx54EzVAGlm"
      },
      "source": [
        "## generate datasets"
      ]
    },
    {
      "cell_type": "code",
      "metadata": {
        "colab": {
          "base_uri": "https://localhost:8080/"
        },
        "id": "oEKOxlfZAGlm",
        "outputId": "0ffcf339-4134-4b8b-c482-868435db3616"
      },
      "source": [
        "\n",
        "\n",
        "#get correct result with no error\n",
        "\n",
        "input_data = torch.rand(input_data_num,int(math.pow(2,qubit_num)),dtype=torch.double)\n",
        "input_data_quantum_matrix = []\n",
        "for i in range(input_data_num):\n",
        "    quantum_matrix =to_quantum_matrix(input_data[i])\n",
        "    # n1_q_gates,n1_idx =ULayerCircuit.extract_from_weight(init_weight[0])\n",
        "    input_data_quantum_matrix.append(quantum_matrix[:, 0].view(-1))\n",
        "\n",
        "input_data_quantum_matrix = torch.stack(input_data_quantum_matrix)\n",
        "# print(input_data_quantum_matrix.t()[0:8].t())\n",
        "# print(input_data_quantum_matrix)\n",
        "correct_result =torch.mm(init_weight,input_data_quantum_matrix.t())\n",
        "correct_result = correct_result*correct_result/math.pow(2,qubit_num)\n",
        "# print(correct_result)\n",
        "correct_result_binary = sign(correct_result.t())\n",
        "print(correct_result_binary.t())\n",
        "torch.save(input_data, \"./liang_random_data.pt\")\n",
        "torch.save(correct_result_binary.view(-1), \"./liang_random_target.pt\")\n",
        "torch.save(init_weight, \"./liang_weight.pt\")\n"
      ],
      "execution_count": 23,
      "outputs": [
        {
          "output_type": "stream",
          "text": [
            "tensor([[ 1., -1.,  1.,  1., -1., -1., -1., -1.,  1., -1.,  1., -1., -1.,  1.,\n",
            "         -1., -1., -1.,  1.,  1.,  1., -1., -1.,  1.,  1., -1., -1.,  1., -1.,\n",
            "         -1.,  1.,  1., -1.,  1., -1., -1.,  1., -1.,  1.,  1.,  1., -1., -1.,\n",
            "          1.,  1.,  1., -1., -1.,  1., -1., -1.]], dtype=torch.float64)\n"
          ],
          "name": "stdout"
        }
      ]
    },
    {
      "cell_type": "markdown",
      "metadata": {
        "id": "j1IiYQUuAGln"
      },
      "source": [
        "## define forward,including mapping "
      ]
    },
    {
      "cell_type": "code",
      "metadata": {
        "colab": {
          "base_uri": "https://localhost:8080/",
          "height": 377
        },
        "id": "QVp-mYN_AGln",
        "outputId": "1f04b6ec-85ac-4301-9a80-572a377f072d"
      },
      "source": [
        "\n",
        "#example of u-layer\n",
        "i = 0\n",
        "#transform input_data into u-Mat\n",
        "quantum_matrix =to_quantum_matrix(input_data[i])\n",
        "\n",
        "def forward(circuit,quantum_matrix,weight, is_mapping = False):\n",
        "    #generate u-layer\n",
        "    #define your input and output number\n",
        "    u_layer = ULayerCircuit(qubit_num,1) \n",
        "    #init circuit\n",
        "    #add input qubit to your circuit\n",
        "    inps = u_layer.add_input_qubits(circuit)\n",
        "    \n",
        "    aux = u_layer.add_aux(circuit)\n",
        "    \n",
        "    #add output qubit to your circuit\n",
        "    u_layer_out_qubits = u_layer.add_out_qubits(circuit)\n",
        "    \n",
        "    #add ulayer to your circuit\n",
        "    #add ulayer to your circuit\n",
        "    u_layer.add_weight(circuit,weight,inps,quantum_matrix,aux)\n",
        "\n",
        "    ####TODO: add mapping code here ####\n",
        "\n",
        "    ############################\n",
        "    \n",
        "    if is_mapping:\n",
        "        func(circuit,inps[0],u_layer_out_qubits,aux)\n",
        "    else:\n",
        "        equa(circuit,inps[0],u_layer_out_qubits,aux)\n",
        "    \n",
        "    #measure\n",
        "    c_reg = ClassicalRegister(1,\"reg\")\n",
        "    circuit.add_register(c_reg)\n",
        "    circuit.measure(u_layer_out_qubits[0],c_reg[0])\n",
        "    \n",
        "    #get the result\n",
        "    qc_shots=8192\n",
        "    opt_class_prob = []\n",
        "    opt_counts = my_ibmq(circuit,qc_shots,True)\n",
        "    (opt_mycount,bits) = analyze(opt_counts)\n",
        "    for b in range(bits):\n",
        "        opt_class_prob.append(float(opt_mycount[b])/qc_shots)\n",
        "    return opt_class_prob[0]\n",
        "\n",
        "circuit = QuantumCircuit()\n",
        "prob = forward(circuit,quantum_matrix,init_weight, False)\n",
        "print(\"correct result  :\",correct_result_binary[i][0])\n",
        "print(\"Result :\",prob)\n",
        "circuit.draw('mpl',fold=50)\n",
        "\n",
        "\n",
        "######################################################\n",
        "\n"
      ],
      "execution_count": 24,
      "outputs": [
        {
          "output_type": "stream",
          "text": [
            "correct result  : tensor(1., dtype=torch.float64)\n",
            "Result : 0.0126953125\n"
          ],
          "name": "stdout"
        },
        {
          "output_type": "execute_result",
          "data": {
            "image/png": "[encoded data removed]",
            "text/plain": [
              "<Figure size 1993.36x445.48 with 1 Axes>"
            ]
          },
          "metadata": {
            "tags": []
          },
          "execution_count": 24
        }
      ]
    },
    {
      "cell_type": "code",
      "metadata": {
        "colab": {
          "base_uri": "https://localhost:8080/"
        },
        "id": "S7-9GuHjX6YD",
        "outputId": "642d043f-ff81-4d63-a036-471d352685d5"
      },
      "source": [
        "!pip install pylatexenc"
      ],
      "execution_count": null,
      "outputs": [
        {
          "output_type": "stream",
          "text": [
            "Requirement already satisfied: pylatexenc in /usr/local/lib/python3.7/dist-packages (2.10)\n"
          ],
          "name": "stdout"
        }
      ]
    },
    {
      "cell_type": "markdown",
      "metadata": {
        "id": "_3wQjg9vAGlo"
      },
      "source": [
        "## train and test"
      ]
    },
    {
      "cell_type": "code",
      "metadata": {
        "colab": {
          "base_uri": "https://localhost:8080/"
        },
        "id": "mJ1IDIj9AGlo",
        "outputId": "45bc07e6-ee39-4725-b078-a68b8b123203"
      },
      "source": [
        "from torchvision import datasets\n",
        "circuit_result = []\n",
        "\n",
        "\n",
        "input_data = torch.load(\"./liang_random_data.pt\")\n",
        "target = torch.load(\"./liang_random_target.pt\")\n",
        "target = target.int()\n",
        "correct_weight = torch.load(\"./liang_weight.pt\")\n",
        "\n",
        "#weight = torch.tensor([[1,1,1,1,1,1,1,1]],dtype=torch.double)\n",
        "weight = correct_weight\n",
        "\n",
        "input_data_num =  target.shape[0]\n",
        "train_num = int(input_data_num *0.8)\n",
        "#train\n",
        "for i in range(train_num):\n",
        "    quantum_matrix =to_quantum_matrix(input_data[i])\n",
        "    circuit = QuantumCircuit()   \n",
        "    prob = forward(circuit,quantum_matrix,weight)\n",
        "    if prob >= threshold :\n",
        "        res = 1\n",
        "    else:\n",
        "        res = -1\n",
        "    ##TODO:update weight#\n",
        "\n",
        "    #####################\n",
        "\n",
        "print(\"weight :\",weight)\n",
        "\n",
        "#test\n",
        "for i in range(train_num,input_data_num):\n",
        "    quantum_matrix =to_quantum_matrix(input_data[i])\n",
        "\n",
        "    circuit = QuantumCircuit()   \n",
        "    prob = forward(circuit,quantum_matrix,weight)\n",
        "\n",
        "    if prob >= threshold :\n",
        "        circuit_result.append(1)\n",
        "    else:\n",
        "        circuit_result.append(-1)\n",
        "\n",
        "circuit_result_tensor = torch.tensor(circuit_result,dtype=torch.double)\n",
        "circuit_result_tensor = circuit_result_tensor.int()\n",
        "error_num = (circuit_result_tensor != target[train_num:input_data_num]).sum()\n",
        "\n",
        "print(\"error_num :\",error_num)\n",
        "print(\"error_rate:\",float(error_num)/(input_data_num - train_num))"
      ],
      "execution_count": 25,
      "outputs": [
        {
          "output_type": "stream",
          "text": [
            "weight : tensor([[-1., -1.,  1.,  1.,  1.,  1.,  1.,  1.]], dtype=torch.float64)\n",
            "error_num : tensor(4)\n",
            "error_rate: 0.4\n"
          ],
          "name": "stdout"
        }
      ]
    },
    {
      "cell_type": "code",
      "metadata": {
        "id": "e2Q19ACRAGlp",
        "outputId": "2f7eaafb-da42-4f69-ae64-43f6c7e95e44"
      },
      "source": [
        "###example of define qubit\n",
        "circuit = QuantumCircuit()\n",
        "qubit_list = []\n",
        "input1 = QuantumRegister(4,'q')\n",
        "\n",
        "input2 = QuantumRegister(2,'a')\n",
        "circuit.add_register(input1)\n",
        "circuit.add_register(input2)\n",
        "for i in range(4):\n",
        "    qubit_list.append(Qubit(input1, i))\n",
        "for i in range(2):\n",
        "    qubit_list.append(Qubit(input1, i))\n",
        "circuit.x(qubit_list[3])\n",
        "circuit.draw('mpl')"
      ],
      "execution_count": null,
      "outputs": [
        {
          "output_type": "error",
          "ename": "CircuitError",
          "evalue": "'index must be under the size of the register: 4 was provided'",
          "traceback": [
            "\u001b[0;31m---------------------------------------------------------------------------\u001b[0m",
            "\u001b[0;31mCircuitError\u001b[0m                              Traceback (most recent call last)",
            "\u001b[0;32m<ipython-input-26-fe8b322ad8fc>\u001b[0m in \u001b[0;36m<module>\u001b[0;34m\u001b[0m\n\u001b[1;32m      8\u001b[0m \u001b[0mcircuit\u001b[0m\u001b[0;34m.\u001b[0m\u001b[0madd_register\u001b[0m\u001b[0;34m(\u001b[0m\u001b[0minput2\u001b[0m\u001b[0;34m)\u001b[0m\u001b[0;34m\u001b[0m\u001b[0;34m\u001b[0m\u001b[0m\n\u001b[1;32m      9\u001b[0m \u001b[0;32mfor\u001b[0m \u001b[0mi\u001b[0m \u001b[0;32min\u001b[0m \u001b[0mrange\u001b[0m\u001b[0;34m(\u001b[0m\u001b[0;36m6\u001b[0m\u001b[0;34m)\u001b[0m\u001b[0;34m:\u001b[0m\u001b[0;34m\u001b[0m\u001b[0;34m\u001b[0m\u001b[0m\n\u001b[0;32m---> 10\u001b[0;31m     \u001b[0mqubit_list\u001b[0m\u001b[0;34m.\u001b[0m\u001b[0mappend\u001b[0m\u001b[0;34m(\u001b[0m\u001b[0mQubit\u001b[0m\u001b[0;34m(\u001b[0m\u001b[0minput1\u001b[0m\u001b[0;34m,\u001b[0m \u001b[0mi\u001b[0m\u001b[0;34m)\u001b[0m\u001b[0;34m)\u001b[0m\u001b[0;34m\u001b[0m\u001b[0;34m\u001b[0m\u001b[0m\n\u001b[0m\u001b[1;32m     11\u001b[0m \u001b[0mcircuit\u001b[0m\u001b[0;34m.\u001b[0m\u001b[0mx\u001b[0m\u001b[0;34m(\u001b[0m\u001b[0mqubit_list\u001b[0m\u001b[0;34m[\u001b[0m\u001b[0;36m3\u001b[0m\u001b[0;34m]\u001b[0m\u001b[0;34m)\u001b[0m\u001b[0;34m\u001b[0m\u001b[0;34m\u001b[0m\u001b[0m\n\u001b[1;32m     12\u001b[0m \u001b[0mcircuit\u001b[0m\u001b[0;34m.\u001b[0m\u001b[0mdraw\u001b[0m\u001b[0;34m(\u001b[0m\u001b[0;34m'mpl'\u001b[0m\u001b[0;34m)\u001b[0m\u001b[0;34m\u001b[0m\u001b[0;34m\u001b[0m\u001b[0m\n",
            "\u001b[0;32m~/anaconda3/envs/qf/lib/python3.8/site-packages/qiskit/circuit/quantumregister.py\u001b[0m in \u001b[0;36m__init__\u001b[0;34m(self, register, index)\u001b[0m\n\u001b[1;32m     36\u001b[0m \u001b[0;34m\u001b[0m\u001b[0m\n\u001b[1;32m     37\u001b[0m         \u001b[0;32mif\u001b[0m \u001b[0mregister\u001b[0m \u001b[0;32mis\u001b[0m \u001b[0;32mNone\u001b[0m \u001b[0;32mor\u001b[0m \u001b[0misinstance\u001b[0m\u001b[0;34m(\u001b[0m\u001b[0mregister\u001b[0m\u001b[0;34m,\u001b[0m \u001b[0mQuantumRegister\u001b[0m\u001b[0;34m)\u001b[0m\u001b[0;34m:\u001b[0m\u001b[0;34m\u001b[0m\u001b[0;34m\u001b[0m\u001b[0m\n\u001b[0;32m---> 38\u001b[0;31m             \u001b[0msuper\u001b[0m\u001b[0;34m(\u001b[0m\u001b[0;34m)\u001b[0m\u001b[0;34m.\u001b[0m\u001b[0m__init__\u001b[0m\u001b[0;34m(\u001b[0m\u001b[0mregister\u001b[0m\u001b[0;34m,\u001b[0m \u001b[0mindex\u001b[0m\u001b[0;34m)\u001b[0m\u001b[0;34m\u001b[0m\u001b[0;34m\u001b[0m\u001b[0m\n\u001b[0m\u001b[1;32m     39\u001b[0m         \u001b[0;32melse\u001b[0m\u001b[0;34m:\u001b[0m\u001b[0;34m\u001b[0m\u001b[0;34m\u001b[0m\u001b[0m\n\u001b[1;32m     40\u001b[0m             raise CircuitError(\n",
            "\u001b[0;32m~/anaconda3/envs/qf/lib/python3.8/site-packages/qiskit/circuit/bit.py\u001b[0m in \u001b[0;36m__init__\u001b[0;34m(self, register, index)\u001b[0m\n\u001b[1;32m     44\u001b[0m \u001b[0;34m\u001b[0m\u001b[0m\n\u001b[1;32m     45\u001b[0m             \u001b[0;32mif\u001b[0m \u001b[0mindex\u001b[0m \u001b[0;34m>=\u001b[0m \u001b[0mregister\u001b[0m\u001b[0;34m.\u001b[0m\u001b[0msize\u001b[0m\u001b[0;34m:\u001b[0m\u001b[0;34m\u001b[0m\u001b[0;34m\u001b[0m\u001b[0m\n\u001b[0;32m---> 46\u001b[0;31m                 raise CircuitError(\n\u001b[0m\u001b[1;32m     47\u001b[0m                     \u001b[0;34mf\"index must be under the size of the register: {index} was provided\"\u001b[0m\u001b[0;34m\u001b[0m\u001b[0;34m\u001b[0m\u001b[0m\n\u001b[1;32m     48\u001b[0m                 )\n",
            "\u001b[0;31mCircuitError\u001b[0m: 'index must be under the size of the register: 4 was provided'"
          ]
        }
      ]
    },
    {
      "cell_type": "code",
      "metadata": {
        "id": "noMzwWoNBRs5"
      },
      "source": [
        ""
      ],
      "execution_count": null,
      "outputs": []
    }
  ]
}