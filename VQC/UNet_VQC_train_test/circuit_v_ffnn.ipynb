{
 "cells": [
  {
   "cell_type": "markdown",
   "source": [
    "## Compare Non-Optimized Circuit and Optimized Circuit\n",
    "\n",
    "The algorithm used in this toturial is from [QuantumFlow](https://www.nature.com/articles/s41467-020-20729-5) (Box-2 on Page 10). "
   ],
   "metadata": {
    "collapsed": false,
    "pycharm": {
     "name": "#%% md\n"
    }
   }
  },
  {
   "cell_type": "code",
   "execution_count": 1,
   "source": [
    "try:\n",
    "    import torch  \n",
    "    print('Module torch was installed')\n",
    "except ImportError:    \n",
    "    print(\"Installinng torch 1.8.1\")\n",
    "    !pip install -q torch==1.8.1\n",
    "    import qiskit  \n",
    "\n",
    "try:\n",
    "    import torchvision  \n",
    "    print('Module torchvision was installed')\n",
    "except ImportError:    \n",
    "    print(\"Installinng torchvision 0.4.0\")\n",
    "    !pip install -q torchvision==0.4.0\n",
    "    import qiskit  \n",
    "\n",
    "try:\n",
    "    import qiskit  \n",
    "    print('Module qiskit was installed')\n",
    "except ImportError:    \n",
    "    print(\"Installinng qiskit 0.14.0\")\n",
    "    !pip install -q qiskit==0.14.0\n",
    "    import qiskit  \n",
    "\n",
    "\n",
    "import torch\n",
    "import torchvision\n",
    "import numpy as np\n",
    "import matplotlib.pyplot as plt\n",
    "from PIL import Image\n",
    "\n",
    "\n",
    "import sys\n",
    "import functools\n",
    "from qiskit import  QuantumCircuit, ClassicalRegister\n",
    "from qiskit import Aer, execute\n",
    "import math\n",
    "\n",
    "from circuit.lib_qiskit import *\n",
    "import qiskit\n",
    "\n",
    "from qiskit import IBMQ\n",
    "\n",
    "# IBMQ.save_account('2d7fb4a2d08cbb349872fe2229939996c6b01d6e420a129f9a63a5c8bb7c615394c422b44240dc09c275e506c6bad13d80776785cbfb36ef2e6ac297c9b85715')\n",
    "# IBMQ.load_account()\n",
    "\n",
    "\n",
    "\n",
    "print = functools.partial(print, flush=True)\n",
    "\n",
    "################ Zhirui on 12-30-2020 ################\n",
    "# Parameters of settings\n",
    "######################################################\n",
    "interest_num = [3,6]\n",
    "ori_img_size = 28\n",
    "img_size = 4\n",
    "num_workers = 0 # number of subprocesses to use for data loading\n",
    "batch_size = 1# how many samples per batch to load\n",
    "inference_batch_size = 1\n",
    "data_path = '/home/hzr/Software/quantum/qc_mnist/pytorch/data'\n",
    "isppd = False"
   ],
   "outputs": [
    {
     "output_type": "stream",
     "name": "stdout",
     "text": [
      "Module torch was installed\n",
      "Module torchvision was installed\n",
      "Module qiskit was installed\n"
     ]
    }
   ],
   "metadata": {
    "collapsed": false,
    "pycharm": {
     "name": "#%%\n",
     "is_executing": true
    }
   }
  },
  {
   "cell_type": "code",
   "execution_count": 2,
   "source": [
    "from training.lib_dataloader import to_quantum_matrix,load_data\n",
    "\n",
    "################ Zhirui on 12-30-2020 ################\n",
    "# load data.\n",
    "######################################################\n",
    "\n",
    "train_loader, test_loader = load_data(interest_num,data_path,isppd,img_size,batch_size,inference_batch_size,False)\n",
    "for batch_idx, (data, target) in enumerate(test_loader):\n",
    "    torch.set_printoptions(threshold=sys.maxsize)\n",
    "    print(\"Batch Id: {}, Target: {}\".format(batch_idx,target))\n",
    "    quantum_matrix = to_quantum_matrix(data)\n",
    "    break"
   ],
   "outputs": [
    {
     "output_type": "stream",
     "name": "stdout",
     "text": [
      "Batch Id: 0, Target: tensor([1])\n"
     ]
    },
    {
     "output_type": "stream",
     "name": "stderr",
     "text": [
      "/home/hzr/anaconda3/envs/qf/lib/python3.8/site-packages/torchvision/datasets/mnist.py:498: UserWarning: The given NumPy array is not writeable, and PyTorch does not support non-writeable tensors. This means you can write to the underlying (supposedly non-writeable) NumPy array using the tensor. You may want to copy the array to protect its data or make it writeable before converting it to a tensor. This type of warning will be suppressed for the rest of this program. (Triggered internally at  /opt/conda/conda-bld/pytorch_1623448216815/work/torch/csrc/utils/tensor_numpy.cpp:180.)\n",
      "  return torch.from_numpy(parsed.astype(m[2], copy=False)).view(*s)\n"
     ]
    }
   ],
   "metadata": {}
  },
  {
   "cell_type": "code",
   "execution_count": 3,
   "source": [
    "################ Weiwen on 12-30-2020 ################\n",
    "# Parameters of the trained model\n",
    "# The training procedure will be found in another repo\n",
    "# https://github.com/weiwenjiang/QuantumFlow\n",
    "######################################################\n",
    "\n",
    "# Model initialization\n",
    "\n",
    "resume_path = '/home/hzr/Software/quantum/qc_mnist/model/exe_mnist.py_2021_08_08-16_00_34/model_best.tar'\n",
    "checkpoint = torch.load(resume_path, map_location='cpu')\n",
    "print(checkpoint['state_dict']['fc0.theta'])\n",
    "print(checkpoint['state_dict']['fc1.weight'])\n",
    "theta = checkpoint['state_dict']['fc0.theta']\n",
    "weight = checkpoint['state_dict']['fc1.weight']\n",
    "\n",
    "# print(checkpoint[])\n",
    "# print(checkpoint['fc1.weight'])\n"
   ],
   "outputs": [
    {
     "output_type": "stream",
     "name": "stdout",
     "text": [
      "tensor([-5.3796,  0.7002,  1.8451, -5.7278,  0.1500, -0.3549,  3.5649,  5.7828],\n",
      "       dtype=torch.float64)\n",
      "tensor([[-37.2579,  37.5035, -36.9454,  36.6320, -37.5422, -30.4944,  45.8007,\n",
      "           9.1910,  39.2518,  36.8431,  40.8417,  34.0796,  -7.6042, -39.2305,\n",
      "          34.1263,  43.2855],\n",
      "        [-35.8045, -12.2471, -31.9292, -22.6312,  19.5908, -40.1494,  35.5673,\n",
      "          41.5370, -32.6166, -36.5595, -15.5469, -37.7452, -36.7410, -37.6752,\n",
      "          38.4902,  39.5903]])\n"
     ]
    }
   ],
   "metadata": {
    "collapsed": false,
    "pycharm": {
     "name": "#%%\n",
     "is_executing": true
    }
   }
  },
  {
   "cell_type": "code",
   "execution_count": 4,
   "source": [
    "from training.lib_qf import binarize\n",
    "circuit = QuantumCircuit()\n",
    "u_mat_c = UMatrixCircuit(16,2)\n",
    "inps = u_mat_c.add_input_qubits(circuit)\n",
    "u_mat_c.forward(circuit,inps,quantum_matrix)"
   ],
   "outputs": [],
   "metadata": {}
  },
  {
   "cell_type": "code",
   "execution_count": 5,
   "source": [
    "################ Weiwen on 12-30-2020 ################\n",
    "# Generate the circuit of v-layer\n",
    "######################################################\n",
    "\n",
    "vqc = VQuantumCircuit(4,2)\n",
    "vqc.forward(circuit,inps,'v10',np.array(theta))\n",
    "\n",
    "\n"
   ],
   "outputs": [],
   "metadata": {}
  },
  {
   "cell_type": "code",
   "execution_count": 6,
   "source": [
    "################ Weiwen on 12-30-2020 ################\n",
    "# Generate the circuit of u-layer\n",
    "######################################################\n",
    "#define your input and output number\n",
    "u_layer = FFNNCircuit(16,2) \n",
    "#init circuit\n",
    "# circuit = QuantumCircuit()\n",
    "#add input qubit to your circuit\n",
    "# inps = u_layer.add_in_qubits(circuit)\n",
    "\n",
    "#add auxiliary qubit to your circuit\n",
    "aux =u_layer.add_aux(circuit)\n",
    "\n",
    "#add output qubit to your circuit\n",
    "u_layer_out_qubits = u_layer.add_out_qubits(circuit)\n",
    "#add ulayer to your circuit\n",
    "u_layer.forward(circuit,binarize(weight),inps,u_layer_out_qubits,aux)\n",
    "\n",
    "\n",
    "circuit.barrier()\n",
    "c_reg = ClassicalRegister(2,\"reg\")\n",
    "circuit.add_register(c_reg)\n",
    "circuit.measure(u_layer_out_qubits[0],c_reg[0])\n",
    "circuit.measure(u_layer_out_qubits[1],c_reg[1])\n",
    "\n",
    "#show your circuit\n",
    "circuit.draw('mpl',fold=50)\n",
    "\n"
   ],
   "outputs": [
    {
     "output_type": "error",
     "ename": "AttributeError",
     "evalue": "type object 'FFNNCircuit' has no attribute 'n_class'",
     "traceback": [
      "\u001b[0;31m---------------------------------------------------------------------------\u001b[0m",
      "\u001b[0;31mAttributeError\u001b[0m                            Traceback (most recent call last)",
      "\u001b[0;32m<ipython-input-6-705e38cfd505>\u001b[0m in \u001b[0;36m<module>\u001b[0;34m\u001b[0m\n\u001b[1;32m     15\u001b[0m \u001b[0mu_layer_out_qubits\u001b[0m \u001b[0;34m=\u001b[0m \u001b[0mu_layer\u001b[0m\u001b[0;34m.\u001b[0m\u001b[0madd_out_qubits\u001b[0m\u001b[0;34m(\u001b[0m\u001b[0mcircuit\u001b[0m\u001b[0;34m)\u001b[0m\u001b[0;34m\u001b[0m\u001b[0;34m\u001b[0m\u001b[0m\n\u001b[1;32m     16\u001b[0m \u001b[0;31m#add ulayer to your circuit\u001b[0m\u001b[0;34m\u001b[0m\u001b[0;34m\u001b[0m\u001b[0;34m\u001b[0m\u001b[0m\n\u001b[0;32m---> 17\u001b[0;31m \u001b[0mu_layer\u001b[0m\u001b[0;34m.\u001b[0m\u001b[0mforward\u001b[0m\u001b[0;34m(\u001b[0m\u001b[0mcircuit\u001b[0m\u001b[0;34m,\u001b[0m\u001b[0mbinarize\u001b[0m\u001b[0;34m(\u001b[0m\u001b[0mweight\u001b[0m\u001b[0;34m)\u001b[0m\u001b[0;34m,\u001b[0m\u001b[0minps\u001b[0m\u001b[0;34m,\u001b[0m\u001b[0mu_layer_out_qubits\u001b[0m\u001b[0;34m,\u001b[0m\u001b[0maux\u001b[0m\u001b[0;34m)\u001b[0m\u001b[0;34m\u001b[0m\u001b[0;34m\u001b[0m\u001b[0m\n\u001b[0m\u001b[1;32m     18\u001b[0m \u001b[0;34m\u001b[0m\u001b[0m\n\u001b[1;32m     19\u001b[0m \u001b[0;34m\u001b[0m\u001b[0m\n",
      "\u001b[0;32m~/Software/quantum/qc_mnist/VQC/UNet_VQC_train_test/circuit/lib_qiskit.py\u001b[0m in \u001b[0;36mforward\u001b[0;34m(self, circuit, weight, in_qubits, out_qubit, aux)\u001b[0m\n\u001b[1;32m    620\u001b[0m     \u001b[0;34m@\u001b[0m\u001b[0mclassmethod\u001b[0m\u001b[0;34m\u001b[0m\u001b[0;34m\u001b[0m\u001b[0m\n\u001b[1;32m    621\u001b[0m     \u001b[0;32mdef\u001b[0m \u001b[0mforward\u001b[0m\u001b[0;34m(\u001b[0m\u001b[0mself\u001b[0m\u001b[0;34m,\u001b[0m\u001b[0mcircuit\u001b[0m\u001b[0;34m,\u001b[0m\u001b[0mweight\u001b[0m\u001b[0;34m,\u001b[0m\u001b[0min_qubits\u001b[0m\u001b[0;34m,\u001b[0m\u001b[0mout_qubit\u001b[0m\u001b[0;34m,\u001b[0m \u001b[0maux\u001b[0m \u001b[0;34m=\u001b[0m \u001b[0;34m[\u001b[0m\u001b[0;34m]\u001b[0m\u001b[0;34m)\u001b[0m\u001b[0;34m:\u001b[0m\u001b[0;34m\u001b[0m\u001b[0;34m\u001b[0m\u001b[0m\n\u001b[0;32m--> 622\u001b[0;31m         \u001b[0;32mfor\u001b[0m \u001b[0mi\u001b[0m \u001b[0;32min\u001b[0m \u001b[0mrange\u001b[0m\u001b[0;34m(\u001b[0m\u001b[0mself\u001b[0m\u001b[0;34m.\u001b[0m\u001b[0mn_class\u001b[0m\u001b[0;34m)\u001b[0m\u001b[0;34m:\u001b[0m\u001b[0;34m\u001b[0m\u001b[0;34m\u001b[0m\u001b[0m\n\u001b[0m\u001b[1;32m    623\u001b[0m             \u001b[0mn_q_gates\u001b[0m \u001b[0;34m=\u001b[0m \u001b[0mself\u001b[0m\u001b[0;34m.\u001b[0m\u001b[0mFFNN_Create_Weight\u001b[0m\u001b[0;34m(\u001b[0m\u001b[0mweight\u001b[0m\u001b[0;34m[\u001b[0m\u001b[0mi\u001b[0m\u001b[0;34m]\u001b[0m\u001b[0;34m)\u001b[0m\u001b[0;34m\u001b[0m\u001b[0;34m\u001b[0m\u001b[0m\n\u001b[1;32m    624\u001b[0m             \u001b[0mqbits\u001b[0m \u001b[0;34m=\u001b[0m \u001b[0min_qubits\u001b[0m\u001b[0;34m[\u001b[0m\u001b[0mi\u001b[0m\u001b[0;34m]\u001b[0m\u001b[0;34m\u001b[0m\u001b[0;34m\u001b[0m\u001b[0m\n",
      "\u001b[0;31mAttributeError\u001b[0m: type object 'FFNNCircuit' has no attribute 'n_class'"
     ]
    }
   ],
   "metadata": {
    "collapsed": false,
    "pycharm": {
     "name": "#%%\n",
     "is_executing": true
    }
   }
  },
  {
   "cell_type": "markdown",
   "source": [
    "### Non-Optimized Circuit v.s. Optimized Circuit\n",
    "\n",
    "Let's test and compare!\n"
   ],
   "metadata": {
    "collapsed": false
   }
  },
  {
   "cell_type": "code",
   "execution_count": null,
   "source": [
    "################ Weiwen on 12-30-2020 ################\n",
    "# Quantum simulation\n",
    "######################################################\n",
    "\n",
    "# Optimized one\n",
    "qc_shots=8192\n",
    "opt_counts = fire_ibmq(circuit,qc_shots,True)\n",
    "print(\"=\"*10,\"Optimized Circuit\",\"=\"*10)\n",
    "(opt_mycount,bits) = analyze(opt_counts)\n",
    "opt_class_prob=[]\n",
    "for b in range(bits):\n",
    "    opt_class_prob.append(float(opt_mycount[b])/qc_shots)\n",
    "\n",
    "\n",
    "print(\"=\"*10,\"Optimized Circuit\",\"=\"*10)\n",
    "print(\"Optimized Circuit Depth:\",circuit.depth())\n",
    "print(\"Result of optimized QC:\",opt_class_prob)\n",
    "print(\"Prediction class: {}\".format(opt_class_prob.index(max(opt_class_prob))))\n",
    "print(\"Target class: {}\".format(target[0]))\n",
    "if opt_class_prob.index(max(opt_class_prob))==target[0]:\n",
    "    print(\"Correct prediction\")\n",
    "else:\n",
    "    print(\"Incorrect prediction\")\n",
    "print(\"=\"*30)"
   ],
   "outputs": [],
   "metadata": {
    "collapsed": false,
    "pycharm": {
     "name": "#%%\n",
     "is_executing": true
    }
   }
  }
 ],
 "metadata": {
  "kernelspec": {
   "name": "python3",
   "display_name": "Python 3.8.10 64-bit ('qf': conda)"
  },
  "language_info": {
   "name": "python",
   "version": "3.8.10",
   "mimetype": "text/x-python",
   "codemirror_mode": {
    "name": "ipython",
    "version": 3
   },
   "pygments_lexer": "ipython3",
   "nbconvert_exporter": "python",
   "file_extension": ".py"
  },
  "pycharm": {
   "stem_cell": {
    "cell_type": "raw",
    "source": [],
    "metadata": {
     "collapsed": false
    }
   }
  },
  "interpreter": {
   "hash": "f24048f0d5bdb0ff49c5e7c8a9899a65bc3ab13b0f32660a2227453ca6b95fd8"
  }
 },
 "nbformat": 4,
 "nbformat_minor": 2
}