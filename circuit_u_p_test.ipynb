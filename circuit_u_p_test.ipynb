{
  "nbformat": 4,
  "nbformat_minor": 0,
  "metadata": {
    "kernelspec": {
      "name": "python3",
      "display_name": "Python 3.8.10 64-bit ('qf': conda)"
    },
    "language_info": {
      "name": "python",
      "version": "3.8.10",
      "mimetype": "text/x-python",
      "codemirror_mode": {
        "name": "ipython",
        "version": 3
      },
      "pygments_lexer": "ipython3",
      "nbconvert_exporter": "python",
      "file_extension": ".py"
    },
    "pycharm": {
      "stem_cell": {
        "cell_type": "raw",
        "source": [],
        "metadata": {
          "collapsed": false
        }
      }
    },
    "interpreter": {
      "hash": "f24048f0d5bdb0ff49c5e7c8a9899a65bc3ab13b0f32660a2227453ca6b95fd8"
    },
    "colab": {
      "name": "circuit_u_p_test.ipynb",
      "provenance": [],
      "collapsed_sections": [],
      "include_colab_link": true
    }
  },
  "cells": [
    {
      "cell_type": "markdown",
      "metadata": {
        "id": "view-in-github",
        "colab_type": "text"
      },
      "source": [
        "<a href=\"https://colab.research.google.com/github/weiwenjiang/qc_mnist/blob/hzr/circuit_u_p_test.ipynb\" target=\"_parent\"><img src=\"https://colab.research.google.com/assets/colab-badge.svg\" alt=\"Open In Colab\"/></a>"
      ]
    },
    {
      "cell_type": "markdown",
      "metadata": {
        "collapsed": false,
        "pycharm": {
          "name": "#%% md\n"
        },
        "id": "XpiceStobijl"
      },
      "source": [
        "## Compare Non-Optimized Circuit and Optimized Circuit\n",
        "\n",
        "The algorithm used in this toturial is from [QuantumFlow](https://www.nature.com/articles/s41467-020-20729-5) (Box-2 on Page 10). "
      ]
    },
    {
      "cell_type": "code",
      "metadata": {
        "pycharm": {
          "name": "#%%\n",
          "is_executing": true
        },
        "colab": {
          "base_uri": "https://localhost:8080/"
        },
        "id": "DkxRz0Yxbijo",
        "outputId": "544cba87-331f-4f0b-bc6a-b451543983da"
      },
      "source": [
        "try:\n",
        "    import torch  \n",
        "    print('Module torch was installed')\n",
        "except ImportError:    \n",
        "    print(\"Installinng torch 1.8.1\")\n",
        "    !pip install -q torch==1.8.1\n",
        "    import qiskit  \n",
        "\n",
        "try:\n",
        "    import torchvision  \n",
        "    print('Module torchvision was installed')\n",
        "except ImportError:    \n",
        "    print(\"Installinng torchvision 0.4.0\")\n",
        "    !pip install -q torchvision==0.4.0\n",
        "    import qiskit  \n",
        "\n",
        "try:\n",
        "    import qiskit  \n",
        "    print('Module qiskit was installed')\n",
        "except ImportError:    \n",
        "    print(\"Installinng qiskit 0.14.0\")\n",
        "    !pip install -q qiskit==0.14.0\n",
        "    import qiskit  \n",
        "\n",
        "\n",
        "import torch\n",
        "import torchvision\n",
        "import numpy as np\n",
        "import matplotlib.pyplot as plt\n",
        "from PIL import Image\n",
        "\n",
        "\n",
        "import sys\n",
        "import functools\n",
        "from qiskit import  QuantumCircuit, ClassicalRegister\n",
        "from qiskit import Aer, execute\n",
        "import math\n",
        "\n",
        "from lib_qiskit import *\n",
        "import qiskit\n",
        "\n",
        "print = functools.partial(print, flush=True)\n",
        "\n",
        "################ Zhirui on 12-30-2020 ################\n",
        "# Parameters of settings\n",
        "######################################################\n",
        "interest_num = [3,6]\n",
        "ori_img_size = 28\n",
        "img_size = 4\n",
        "num_workers = 0 # number of subprocesses to use for data loading\n",
        "batch_size = 1# how many samples per batch to load\n",
        "inference_batch_size = 1\n",
        "data_path = '/content/data'\n",
        "isppd = False"
      ],
      "execution_count": 20,
      "outputs": [
        {
          "output_type": "stream",
          "text": [
            "Module torch was installed\n",
            "Module torchvision was installed\n",
            "Module qiskit was installed\n"
          ],
          "name": "stdout"
        }
      ]
    },
    {
      "cell_type": "code",
      "metadata": {
        "colab": {
          "base_uri": "https://localhost:8080/"
        },
        "id": "e7dPECwRbijr",
        "outputId": "575ce93d-0dba-4b6a-dcbb-c729b4e2c8f1"
      },
      "source": [
        "from lib_dataloader import to_quantum_matrix,load_data\n",
        "\n",
        "################ Zhirui on 12-30-2020 ################\n",
        "# load data.\n",
        "######################################################\n",
        "\n",
        "train_loader, test_loader = load_data(interest_num,data_path,isppd,img_size,batch_size,inference_batch_size,False)\n",
        "for batch_idx, (data, target) in enumerate(test_loader):\n",
        "    torch.set_printoptions(threshold=sys.maxsize)\n",
        "    print(\"Batch Id: {}, Target: {}\".format(batch_idx,target))\n",
        "    quantum_matrix = to_quantum_matrix(data)\n",
        "    break"
      ],
      "execution_count": 21,
      "outputs": [
        {
          "output_type": "stream",
          "text": [
            "Batch Id: 0, Target: tensor([1])\n"
          ],
          "name": "stdout"
        }
      ]
    },
    {
      "cell_type": "code",
      "metadata": {
        "pycharm": {
          "name": "#%%\n",
          "is_executing": true
        },
        "id": "gUaZ5avYbijr"
      },
      "source": [
        "################ Weiwen on 12-30-2020 ################\n",
        "# Parameters of the trained model\n",
        "# The training procedure will be found in another repo\n",
        "# https://github.com/weiwenjiang/QuantumFlow\n",
        "######################################################\n",
        "\n",
        "# Model initialization\n",
        "weight_1 = torch.tensor([[1.,  1.,  1.,  1.,  1.,  1.,  1., -1.,  1., -1.,  1., -1.,  1.,  1.,    1.,  1.],[-1., -1., -1., -1., -1., -1., -1., -1., -1.,  1., -1.,  1., -1., -1., -1., -1.]])\n",
        "weight_2 = torch.tensor([[1.,  -1.],[-1.,  -1.]])\n",
        "norm_flag = [False,False]\n",
        "norm_para = torch.tensor([0.3060,0.6940])\n"
      ],
      "execution_count": 22,
      "outputs": []
    },
    {
      "cell_type": "markdown",
      "metadata": {
        "collapsed": false,
        "id": "j2X0np0kbijs"
      },
      "source": [
        "### Non-optimized Circuit\n",
        "\n",
        "The same with Tutorial 3"
      ]
    },
    {
      "cell_type": "markdown",
      "metadata": {
        "collapsed": false,
        "pycharm": {
          "name": "#%% md\n"
        },
        "id": "g5_NdyWXbijt"
      },
      "source": [
        "### Optimized Circuit\n",
        "\n",
        "In the following, the optimized circuit (opt_circ) is created"
      ]
    },
    {
      "cell_type": "code",
      "metadata": {
        "pycharm": {
          "name": "#%%\n",
          "is_executing": true
        },
        "colab": {
          "base_uri": "https://localhost:8080/",
          "height": 1000
        },
        "id": "5RzDysKobijt",
        "outputId": "33169a1d-b2ea-4999-e73c-53ed2933e2c8"
      },
      "source": [
        "################ Weiwen on 12-30-2020 ################\n",
        "# Generate the circuit of u-layer\n",
        "######################################################\n",
        "#define your input and output number\n",
        "u_layer = ULayerCircuit(16,2) \n",
        "#init circuit\n",
        "circuit = QuantumCircuit()\n",
        "#add input qubit to your circuit\n",
        "inps = u_layer.add_in_qubits(circuit)\n",
        "\n",
        "#add auxiliary qubit to your circuit\n",
        "aux =u_layer.add_aux(circuit)\n",
        "\n",
        "#add output qubit to your circuit\n",
        "u_layer_out_qubits = u_layer.add_out_qubits(circuit)\n",
        "\n",
        "#add ulayer to your circuit\n",
        "u_layer.forward(circuit,quantum_matrix,weight_1,inps,u_layer_out_qubits,aux)\n",
        "\n",
        "print(\"Hidden layer created!\")\n",
        "\n",
        "#show your circuit\n",
        "circuit.draw('mpl',fold=50)\n",
        "\n"
      ],
      "execution_count": 23,
      "outputs": [
        {
          "output_type": "stream",
          "text": [
            "Hidden layer created!\n"
          ],
          "name": "stdout"
        },
        {
          "output_type": "execute_result",
          "data": {
            "text/html": [
              "<pre style=\"word-wrap: normal;white-space: pre;background: #fff0;line-height: 1.1;font-family: &quot;Courier New&quot;,Courier,monospace\">                    ┌──────────┐                »\n",
              "     in0_qbit_0: |0>┤0         ├─■───■──────────»\n",
              "                    │          │ │   │          »\n",
              "     in0_qbit_1: |0>┤1         ├─■───■──────────»\n",
              "                    │  unitary │     │          »\n",
              "     in0_qbit_2: |0>┤2         ├─────┼────■─────»\n",
              "                    │          │     │    │     »\n",
              "     in0_qbit_3: |0>┤3         ├─────┼────┼───■─»\n",
              "                    ├──────────┤     │    │   │ »\n",
              "     in1_qbit_0: |0>┤0         ├─────┼────┼───┼─»\n",
              "                    │          │     │    │   │ »\n",
              "     in1_qbit_1: |0>┤1         ├─────┼────┼───┼─»\n",
              "                    │  unitary │     │    │   │ »\n",
              "     in1_qbit_2: |0>┤2         ├─────┼────┼───┼─»\n",
              "                    │          │     │    │   │ »\n",
              "     in1_qbit_3: |0>┤3         ├─────┼────┼───┼─»\n",
              "                    └──────────┘   ┌─┴─┐  │   │ »\n",
              "     aux_qbit_0: |0>───────────────┤ X ├──■───┼─»\n",
              "                                   └───┘┌─┴─┐ │ »\n",
              "     aux_qbit_1: |0>────────────────────┤ X ├─■─»\n",
              "                                        └───┘   »\n",
              "u_layer_qbits_0: |0>────────────────────────────»\n",
              "                                                »\n",
              "u_layer_qbits_1: |0>────────────────────────────»\n",
              "                                                »\n",
              "«                                         ░ ┌───┐»\n",
              "«     in0_qbit_0: ───────■────────────────░─┤ H ├»\n",
              "«                        │                ░ ├───┤»\n",
              "«     in0_qbit_1: ───────■────────────────░─┤ H ├»\n",
              "«                        │                ░ ├───┤»\n",
              "«     in0_qbit_2: ──■────┼────────────────░─┤ H ├»\n",
              "«                   │    │                ░ ├───┤»\n",
              "«     in0_qbit_3: ──┼────┼────────────────░─┤ H ├»\n",
              "«                   │    │                ░ ├───┤»\n",
              "«     in1_qbit_0: ──┼────┼────■───────■───░─┤ H ├»\n",
              "«                   │    │    │       │   ░ ├───┤»\n",
              "«     in1_qbit_1: ──┼────┼────■───────■───░─┤ H ├»\n",
              "«                   │    │    │       │   ░ ├───┤»\n",
              "«     in1_qbit_2: ──┼────┼────┼───■───┼───░─┤ H ├»\n",
              "«                   │    │    │   │   │   ░ ├───┤»\n",
              "«     in1_qbit_3: ──┼────┼────┼───┼───┼───░─┤ H ├»\n",
              "«                   │  ┌─┴─┐┌─┴─┐ │ ┌─┴─┐ ░ └───┘»\n",
              "«     aux_qbit_0: ──■──┤ X ├┤ X ├─■─┤ X ├─░──────»\n",
              "«                 ┌─┴─┐└───┘└───┘   └───┘ ░      »\n",
              "«     aux_qbit_1: ┤ X ├───────────────────░──────»\n",
              "«                 └───┘                   ░      »\n",
              "«u_layer_qbits_0: ────────────────────────░──────»\n",
              "«                                         ░      »\n",
              "«u_layer_qbits_1: ────────────────────────░──────»\n",
              "«                                         ░      »\n",
              "«                 ┌───┐ ░                     »\n",
              "«     in0_qbit_0: ┤ X ├─░───■─────────────────»\n",
              "«                 ├───┤ ░   │                 »\n",
              "«     in0_qbit_1: ┤ X ├─░───■─────────────────»\n",
              "«                 ├───┤ ░   │                 »\n",
              "«     in0_qbit_2: ┤ X ├─░───┼────■─────────■──»\n",
              "«                 ├───┤ ░   │    │         │  »\n",
              "«     in0_qbit_3: ┤ X ├─░───┼────■─────────■──»\n",
              "«                 ├───┤ ░   │    │         │  »\n",
              "«     in1_qbit_0: ┤ X ├─░───┼────┼─────────┼──»\n",
              "«                 ├───┤ ░   │    │         │  »\n",
              "«     in1_qbit_1: ┤ X ├─░───┼────┼─────────┼──»\n",
              "«                 ├───┤ ░   │    │         │  »\n",
              "«     in1_qbit_2: ┤ X ├─░───┼────┼─────────┼──»\n",
              "«                 ├───┤ ░   │    │         │  »\n",
              "«     in1_qbit_3: ┤ X ├─░───┼────┼─────────┼──»\n",
              "«                 └───┘ ░ ┌─┴─┐  │         │  »\n",
              "«     aux_qbit_0: ──────░─┤ X ├──┼────■────┼──»\n",
              "«                       ░ └───┘┌─┴─┐  │  ┌─┴─┐»\n",
              "«     aux_qbit_1: ──────░──────┤ X ├──■──┤ X ├»\n",
              "«                       ░      └───┘┌─┴─┐└───┘»\n",
              "«u_layer_qbits_0: ──────░───────────┤ X ├─────»\n",
              "«                       ░           └───┘     »\n",
              "«u_layer_qbits_1: ──────░─────────────────────»\n",
              "«                       ░                     »\n",
              "«                                               \n",
              "«     in0_qbit_0: ──■───────────────────────────\n",
              "«                   │                           \n",
              "«     in0_qbit_1: ──■───────────────────────────\n",
              "«                   │                           \n",
              "«     in0_qbit_2: ──┼───────────────────────────\n",
              "«                   │                           \n",
              "«     in0_qbit_3: ──┼───────────────────────────\n",
              "«                   │                           \n",
              "«     in1_qbit_0: ──┼────■───────────────────■──\n",
              "«                   │    │                   │  \n",
              "«     in1_qbit_1: ──┼────■───────────────────■──\n",
              "«                   │    │                   │  \n",
              "«     in1_qbit_2: ──┼────┼────■─────────■────┼──\n",
              "«                   │    │    │         │    │  \n",
              "«     in1_qbit_3: ──┼────┼────■─────────■────┼──\n",
              "«                 ┌─┴─┐┌─┴─┐  │         │  ┌─┴─┐\n",
              "«     aux_qbit_0: ┤ X ├┤ X ├──┼────■────┼──┤ X ├\n",
              "«                 └───┘└───┘┌─┴─┐  │  ┌─┴─┐└───┘\n",
              "«     aux_qbit_1: ──────────┤ X ├──■──┤ X ├─────\n",
              "«                           └───┘  │  └───┘     \n",
              "«u_layer_qbits_0: ─────────────────┼────────────\n",
              "«                                ┌─┴─┐          \n",
              "«u_layer_qbits_1: ───────────────┤ X ├──────────\n",
              "«                                └───┘          </pre>"
            ],
            "text/plain": [
              "<qiskit.visualization.text.TextDrawing at 0x7fa97981a0d0>"
            ]
          },
          "metadata": {
            "tags": []
          },
          "execution_count": 23
        }
      ]
    },
    {
      "cell_type": "code",
      "metadata": {
        "pycharm": {
          "name": "#%%\n",
          "is_executing": true
        },
        "colab": {
          "base_uri": "https://localhost:8080/"
        },
        "id": "BDgMvZg-biju",
        "outputId": "15658485-950f-4096-cd23-b72be4e1b0d6"
      },
      "source": [
        "################ Weiwen on 12-30-2020 ################\n",
        "# Quantum circuit implementation of the output layer\n",
        "# fundamentals, please see our Nature Communication\n",
        "# paper (P-LYR) https://arxiv.org/pdf/2006.14815.pdf\n",
        "######################################################\n",
        "\n",
        "\n",
        "p_layer = PLayerCircuit(2,2)\n",
        "p_layer_output = p_layer.add_out_qubits(circuit)\n",
        "circuit.barrier()\n",
        "\n",
        "p_layer.forward(circuit,weight_2,u_layer_out_qubits,p_layer_output)\n",
        "\n",
        "\n",
        "norm = NormerlizeCircuit(2)\n",
        "norm_qubit = norm.add_norm_qubits(circuit)\n",
        "norm_output_qubit = norm.add_out_qubits(circuit)\n",
        "norm.forward(circuit,p_layer_output,norm_qubit,norm_output_qubit,norm_flag,norm_para)\n",
        "\n",
        "c_reg = ClassicalRegister(2,\"reg\")\n",
        "circuit.add_register(c_reg)\n",
        "circuit.measure(norm_output_qubit[0],c_reg[0])\n",
        "circuit.measure(norm_output_qubit[1],c_reg[1])\n",
        "\n",
        "print(\"Output layer created!\")\n",
        "\n",
        "#circuit.draw('mpl',1.0,fold =50)"
      ],
      "execution_count": 24,
      "outputs": [
        {
          "output_type": "stream",
          "text": [
            "PLayerCircuit: input_num = 2 ,output_num = 2\n",
            "NormerlizeCircuit: n_qubit = 2\n",
            "Output layer created!\n"
          ],
          "name": "stdout"
        }
      ]
    },
    {
      "cell_type": "markdown",
      "metadata": {
        "collapsed": false,
        "id": "BAVqU95Pbiju"
      },
      "source": [
        "### Non-Optimized Circuit v.s. Optimized Circuit\n",
        "\n",
        "Let's test and compare!\n"
      ]
    },
    {
      "cell_type": "code",
      "metadata": {
        "pycharm": {
          "name": "#%%\n",
          "is_executing": true
        },
        "colab": {
          "base_uri": "https://localhost:8080/"
        },
        "id": "59BTwzXhbiju",
        "outputId": "f40bce4a-9c4e-476f-b499-b4d54319ba0f"
      },
      "source": [
        "################ Weiwen on 12-30-2020 ################\n",
        "# Quantum simulation\n",
        "######################################################\n",
        "\n",
        "# Optimized one\n",
        "qc_shots=8192\n",
        "opt_counts = fire_ibmq(circuit,qc_shots,True)\n",
        "print(\"=\"*10,\"Optimized Circuit\",\"=\"*10)\n",
        "(opt_mycount,bits) = analyze(opt_counts)\n",
        "opt_class_prob=[]\n",
        "for b in range(bits):\n",
        "    opt_class_prob.append(float(opt_mycount[b])/qc_shots)\n",
        "\n",
        "\n",
        "print(\"=\"*10,\"Optimized Circuit\",\"=\"*10)\n",
        "print(\"Optimized Circuit Depth:\",circuit.depth())\n",
        "print(\"Result of optimized QC:\",opt_class_prob)\n",
        "print(\"Prediction class: {}\".format(opt_class_prob.index(max(opt_class_prob))))\n",
        "print(\"Target class: {}\".format(target[0]))\n",
        "if opt_class_prob.index(max(opt_class_prob))==target[0]:\n",
        "    print(\"Correct prediction\")\n",
        "else:\n",
        "    print(\"Incorrect prediction\")\n",
        "print(\"=\"*30)"
      ],
      "execution_count": 25,
      "outputs": [
        {
          "output_type": "stream",
          "text": [
            "========== Optimized Circuit ==========\n",
            "========== Optimized Circuit ==========\n",
            "Optimized Circuit Depth: 34\n",
            "Result of optimized QC: [0.0789794921875, 0.52734375]\n",
            "Prediction class: 1\n",
            "Target class: 1\n",
            "Correct prediction\n",
            "==============================\n"
          ],
          "name": "stdout"
        }
      ]
    }
  ]
}